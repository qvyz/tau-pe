{
 "cells": [
  {
   "cell_type": "code",
   "execution_count": 1,
   "metadata": {},
   "outputs": [
    {
     "name": "stdout",
     "output_type": "stream",
     "text": [
      "2.6.4\n",
      "['Phase2-L1MenuTools/cache/V37nano/V37nano_VBFHToTauTau_GenJet.parquet', 'Phase2-L1MenuTools/cache/V37nano/V37nano_VBFHToTauTau_GenJetAK8.parquet', 'Phase2-L1MenuTools/cache/V37nano/V37nano_VBFHToTauTau_GenMET.parquet', 'Phase2-L1MenuTools/cache/V37nano/V37nano_VBFHToTauTau_GenPart.parquet', 'Phase2-L1MenuTools/cache/V37nano/V37nano_VBFHToTauTau_GenVisTau.parquet', 'Phase2-L1MenuTools/cache/V37nano/V37nano_VBFHToTauTau_L1EGbarrel.parquet', 'Phase2-L1MenuTools/cache/V37nano/V37nano_VBFHToTauTau_L1EGendcap.parquet', 'Phase2-L1MenuTools/cache/V37nano/V37nano_VBFHToTauTau_L1TrackHT.parquet', 'Phase2-L1MenuTools/cache/V37nano/V37nano_VBFHToTauTau_L1TrackJet.parquet', 'Phase2-L1MenuTools/cache/V37nano/V37nano_VBFHToTauTau_L1TrackMET.parquet', 'Phase2-L1MenuTools/cache/V37nano/V37nano_VBFHToTauTau_L1caloJet.parquet', 'Phase2-L1MenuTools/cache/V37nano/V37nano_VBFHToTauTau_L1caloTau.parquet', 'Phase2-L1MenuTools/cache/V37nano/V37nano_VBFHToTauTau_L1gmtMuon.parquet', 'Phase2-L1MenuTools/cache/V37nano/V37nano_VBFHToTauTau_L1gmtTkMuon.parquet', 'Phase2-L1MenuTools/cache/V37nano/V37nano_VBFHToTauTau_L1hpsTau.parquet', 'Phase2-L1MenuTools/cache/V37nano/V37nano_VBFHToTauTau_L1nnCaloTau.parquet', 'Phase2-L1MenuTools/cache/V37nano/V37nano_VBFHToTauTau_L1nnPuppiTau.parquet', 'Phase2-L1MenuTools/cache/V37nano/V37nano_VBFHToTauTau_L1puppiHistoJetSums.parquet', 'Phase2-L1MenuTools/cache/V37nano/V37nano_VBFHToTauTau_L1puppiJetHisto.parquet', 'Phase2-L1MenuTools/cache/V37nano/V37nano_VBFHToTauTau_L1puppiJetSC4.parquet', 'Phase2-L1MenuTools/cache/V37nano/V37nano_VBFHToTauTau_L1puppiJetSC4sums.parquet', 'Phase2-L1MenuTools/cache/V37nano/V37nano_VBFHToTauTau_L1puppiMET.parquet', 'Phase2-L1MenuTools/cache/V37nano/V37nano_VBFHToTauTau_L1puppiMLMET.parquet', 'Phase2-L1MenuTools/cache/V37nano/V37nano_VBFHToTauTau_L1tkElectron.parquet', 'Phase2-L1MenuTools/cache/V37nano/V37nano_VBFHToTauTau_L1tkPhoton.parquet']\n",
      "['GenJet', 'GenJetAK8', 'GenMET', 'GenPart', 'GenVisTau', 'L1EGbarrel', 'L1EGendcap', 'L1TrackHT', 'L1TrackJet', 'L1TrackMET', 'L1caloJet', 'L1caloTau', 'L1gmtMuon', 'L1gmtTkMuon', 'L1hpsTau', 'L1nnCaloTau', 'L1nnPuppiTau', 'L1puppiHistoJetSums', 'L1puppiJetHisto', 'L1puppiJetSC4', 'L1puppiJetSC4sums', 'L1puppiMET', 'L1puppiMLMET', 'L1tkElectron', 'L1tkPhoton']\n"
     ]
    }
   ],
   "source": [
    "import awkward as ak\n",
    "import numpy as np\n",
    "import pandas as pd\n",
    "import numba\n",
    "import glob\n",
    "from tqdm import tqdm\n",
    "print(ak.__version__)\n",
    "\n",
    "run_local = True\n",
    "debug = True\n",
    "\n",
    "filepath = \"Phase2-L1MenuTools/cache/V37nano/V37nano_VBFHToTauTau*\"\n",
    "debug = True\n",
    "\n",
    "files = glob.glob(filepath)\n",
    "print(files)\n",
    "#Get the files:\n",
    "arrays = [ak.from_parquet(file) for file in files]\n",
    "# Get the objectnames:\n",
    "import re\n",
    "regex = re.compile(r'^{}|{}$'.format(re.escape(filepath[:-1]+\"_\"), re.escape(\".parquet\")))\n",
    "\n",
    "\n",
    "objectnames = [regex.sub(\"\",file) for file in files]\n",
    "print(objectnames)"
   ]
  },
  {
   "cell_type": "code",
   "execution_count": 2,
   "metadata": {},
   "outputs": [],
   "source": [
    "#Store objects in a dict\n",
    "objectsdict = dict()\n",
    "for idx,item in enumerate(objectnames): \n",
    "    objectsdict[item] = arrays[idx]"
   ]
  },
  {
   "cell_type": "markdown",
   "metadata": {},
   "source": [
    "Some functions were heavily inspired by:\n",
    "[L1 TopoTrigger](https://gitlab.cern.ch/uhh-l1t/topotrigger/)\n",
    "And \n",
    "The [L1 ML Tutorial]()"
   ]
  },
  {
   "cell_type": "code",
   "execution_count": 3,
   "metadata": {},
   "outputs": [],
   "source": [
    "#helper functions:\n",
    "import vector\n",
    "vector.register_awkward()\n",
    "\n",
    "\n",
    "def prepare_objects(dictobj):\n",
    "    fourvectordict = dict()\n",
    "    standardizeddict = dict()\n",
    "    vector.register_awkward()\n",
    "\n",
    "    for key,value in dictobj.items():\n",
    "        standardizeddict[key] = value\n",
    "        fields = value.fields\n",
    "        for field in fields:\n",
    "            standardname = field.replace(key+\"_\",\"\")\n",
    "            standardizeddict[key][standardname] = dictobj[key][field]\n",
    "            standardizeddict[key] = ak.without_field(standardizeddict[key],field)\n",
    "            dictobj[key] = ak.without_field(value,field)\n",
    "        print(key,\":\",standardizeddict[key].fields)\n",
    "        fourvectordict[key] =  ak.Array(standardizeddict[key],with_name=\"Momentum3D\")\n",
    "    return fourvectordict,standardizeddict\n",
    "\n",
    "\n",
    "\n",
    "    # # combining to numpy\n",
    "def prepare_for_ml(objects,padlist,namelist,pad_val = 0):\n",
    "    pad_arrs = []\n",
    "    var_names = []\n",
    "    for idx,object in enumerate(objects):\n",
    "        topad = padlist[idx]\n",
    "        name = namelist[idx]\n",
    "        \n",
    "        if topad == 1:\n",
    "            pad_arr = object\n",
    "        else:\n",
    "            pad_arr = ak.pad_none(object,topad,axis=1,clip=True)\n",
    "        for i in range(topad):\n",
    "            for var in object.fields:\n",
    "                if topad == 1:\n",
    "                    pad_arrs += [ak.to_numpy(pad_arr[var][:])]\n",
    "                else:\n",
    "                    pad_arrs += [ak.to_numpy( ak.fill_none(pad_arr[var][:,i], pad_val) )]\n",
    "                var_names.append( \"{}_{}_{}\".format(name, i, var) )\n",
    "    return var_names, pad_arrs \n",
    "\n",
    "\n"
   ]
  },
  {
   "cell_type": "code",
   "execution_count": 4,
   "metadata": {},
   "outputs": [
    {
     "name": "stdout",
     "output_type": "stream",
     "text": [
      "GenJet : ['pt', 'eta', 'phi', 'partonFlavour']\n",
      "GenJetAK8 : ['pt', 'eta', 'phi']\n",
      "GenMET : ['phi', 'pt']\n",
      "GenPart : ['pt', 'eta', 'phi', 'pdgId', 'statusFlags']\n",
      "GenVisTau : ['status', 'charge', 'genPartIdxMother', 'eta', 'mass', 'phi', 'pt']\n",
      "L1EGbarrel : ['eleId', 'phoId', 'saId', 'hwQual', 'eta', 'phi', 'pt']\n",
      "L1EGendcap : ['eleId', 'phoId', 'saId', 'hwQual', 'eta', 'phi', 'pt']\n",
      "L1TrackHT : ['ht', 'mht']\n",
      "L1TrackJet : ['pt', 'eta', 'phi']\n",
      "L1TrackMET : ['pt']\n",
      "L1caloJet : ['et', 'eta', 'phi', 'pt']\n",
      "L1caloTau : ['eta', 'phi', 'pt']\n",
      "L1gmtMuon : ['charge', 'chargeNoPh', 'hwBeta', 'hwEta', 'hwIso', 'hwPhi', 'hwPt', 'hwQual', 'd0', 'eta', 'phi', 'pt', 'z0']\n",
      "L1gmtTkMuon : ['charge', 'chargeNoPh', 'hwBeta', 'hwEta', 'hwIso', 'hwPhi', 'hwPt', 'hwQual', 'd0', 'eta', 'phi', 'pt', 'z0']\n",
      "L1hpsTau : ['eta', 'phi', 'pt']\n",
      "L1nnCaloTau : ['hwIso', 'hwQual', 'eta', 'phi', 'pt']\n",
      "L1nnPuppiTau : ['charge', 'id', 'passLooseNN', 'passLooseNNMass', 'passLoosePF', 'passMass', 'passTightNN', 'passTightNNMass', 'passTightPF', 'chargedIso', 'dXY', 'eta', 'fullIso', 'phi', 'pt', 'z0']\n",
      "L1puppiHistoJetSums : ['pt', 'phi', 'sumType']\n",
      "L1puppiJetHisto : ['et', 'eta', 'phi', 'pt']\n",
      "L1puppiJetSC4 : ['pt', 'eta', 'phi']\n",
      "L1puppiJetSC4sums : ['pt', 'phi', 'sumType']\n",
      "L1puppiMET : ['pt', 'phi']\n",
      "L1puppiMLMET : ['pt']\n",
      "L1tkElectron : ['eleId', 'phoId', 'saId', 'hwEta', 'hwIso', 'hwPhi', 'hwPt', 'hwQual', 'charge', 'eta', 'phi', 'pt', 'relIso', 'z0']\n",
      "L1tkPhoton : ['eleId', 'phoId', 'saId', 'hwEta', 'hwIso', 'hwPhi', 'hwPt', 'hwQual', 'eta', 'phi', 'pt', 'relIso']\n"
     ]
    }
   ],
   "source": [
    "fourvectordict,standardizeddict = prepare_objects(objectsdict)\n"
   ]
  },
  {
   "cell_type": "code",
   "execution_count": 5,
   "metadata": {},
   "outputs": [],
   "source": [
    "#Remove the \"et\" field from the jets\n",
    "standardizeddict[\"L1puppiJetHisto\"] = ak.without_field(standardizeddict[\"L1puppiJetHisto\"],'et')\n",
    "standardizeddict[\"L1caloJet\"] = ak.without_field(standardizeddict[\"L1caloJet\"],'et')\n",
    "\n"
   ]
  },
  {
   "cell_type": "markdown",
   "metadata": {},
   "source": [
    "Check if the dicts contain the right data"
   ]
  },
  {
   "cell_type": "code",
   "execution_count": 6,
   "metadata": {},
   "outputs": [
    {
     "name": "stdout",
     "output_type": "stream",
     "text": [
      "99701 * var * Momentum3D[\n",
      "    charge: int32,\n",
      "    chargeNoPh: int32,\n",
      "    hwBeta: int32,\n",
      "    hwEta: int32,\n",
      "    hwIso: int32,\n",
      "    hwPhi: int32,\n",
      "    hwPt: int32,\n",
      "    hwQual: int32,\n",
      "    d0: float32,\n",
      "    eta: float32,\n",
      "    phi: float32,\n",
      "    pt: float32,\n",
      "    z0: float32\n",
      "]\n"
     ]
    }
   ],
   "source": [
    "\n",
    "fourvectordict[\"L1gmtMuon\"].type.show()"
   ]
  },
  {
   "cell_type": "code",
   "execution_count": 7,
   "metadata": {},
   "outputs": [],
   "source": [
    "\n",
    "def DeltaRcalc(o1,o2):\n",
    "    #returns the delta in the dimensions of the second object with delta R  first objects, second\n",
    "    combo = ak.cartesian({\"offl\": o1,\"trgobj\": o2}, nested=True ,axis=-1)\n",
    "    off,trg = ak.unzip(combo)\n",
    "    deltaR = off.deltaR(trg)\n",
    "    return deltaR\n",
    "\n",
    "def mapObjects(o1,o2):\n",
    "    combo = ak.cartesian({\"offl\": o1,\"trgobj\": o2}, nested=True)\n",
    "    off,trg = ak.unzip(combo)\n",
    "    return off,trg\n",
    "\n",
    "\n",
    "def sortbydeltaR(o1,o2):\n",
    "    o1cart,o2cart = mapObjects(o1,o2)\n",
    "    dR = DeltaRcalc(o1,o2)\n",
    "    sorteddR = ak.argsort(dR)    \n",
    "    return sorteddR\n",
    "\n",
    "def dRtonumpy(o1,dr):\n",
    "    o1dR = o1[dr]\n",
    "    ttpad = ak.pad_none(o1dR,3,clip=True)\n",
    "    nptt = ak.to_numpy(ttpad)\n",
    "    npreg = stuctured_to_unstructured(nptt)\n",
    "    return ak.fill_none(npreg)\n",
    "\n"
   ]
  },
  {
   "cell_type": "markdown",
   "metadata": {},
   "source": [
    "### Matching Hadronically Decaying Gen Taus to L1 Calo Taus\n",
    "\n",
    "This section performs the matching of hadronically decaying generated (Gen) taus to L1 Calorimeter (Calo) taus. The matching is based on the angular distance (ΔR). Specifically, it checks if the Gen tau is within a ΔR of 0.3 from an L1 Calo tau. If such a match is found, the Gen tau is considered \"matched\" to the L1 Calo tau.\n",
    "\n",
    "If no hadronically decaying Gen taus are present, the unmatched L1 Calo taus are added to the collection of non-matched taus.\n"
   ]
  },
  {
   "cell_type": "code",
   "execution_count": 8,
   "metadata": {},
   "outputs": [
    {
     "name": "stdout",
     "output_type": "stream",
     "text": [
      "[{eta: 1.09, phi: 1.35, pt: 117}, {...}, {eta: -4.1, phi: -1.18, pt: 84}]\n"
     ]
    }
   ],
   "source": [
    "# Calculate DeltaR between GenVisTau and L1caloTau\n",
    "dr = DeltaRcalc(fourvectordict[\"GenVisTau\"], fourvectordict[\"L1caloTau\"])\n",
    "\n",
    "# Determine if there are no Gen taus (empty DeltaR values)\n",
    "drleng = ak.num(dr)\n",
    "emptydr = drleng == 0\n",
    "\n",
    "# Create a mask for L1caloTau objects where DeltaR is greater than 0.3\n",
    "Dr_smaller = ak.any(dr < 0.3, axis=-2, keepdims=True, mask_identity=False)\n",
    "Dr_greater = ~Dr_smaller  # Inverse mask (where DeltaR is greater than 0.3)\n",
    "\n",
    "# Apply the mask to select non-matched L1caloTaus\n",
    "temptaus = ak.mask(fourvectordict[\"L1caloTau\"], Dr_greater)\n",
    "temp_length = ak.num(temptaus, axis=2)\n",
    "temp_mask = temp_length == 0\n",
    "\n",
    "# Flatten the mask to handle cases where there are no Gen taus\n",
    "Dr_greater_flat = ak.flatten(Dr_greater, axis=-1)\n",
    "falsepattern = ak.where(emptydr, temp_mask, Dr_greater_flat)\n",
    "\n",
    "# Separate taus into matched and non-matched categories\n",
    "nntaus_no_near_taus = falsepattern\n",
    "nntaus_near_taus = ~nntaus_no_near_taus\n",
    "\n",
    "# Mask the L1caloTau objects based on the matching criteria\n",
    "truetaus = ak.drop_none(ak.mask(standardizeddict[\"L1caloTau\"], nntaus_near_taus), axis=1)\n",
    "falsetaus = ak.drop_none(ak.mask(standardizeddict[\"L1caloTau\"], nntaus_no_near_taus), axis=1)\n",
    "\n",
    "# Additional 4vectors\n",
    "v4truetaus = ak.drop_none(ak.mask(fourvectordict[\"L1caloTau\"], nntaus_near_taus), axis=1)\n",
    "v4falsetaus = ak.drop_none(ak.mask(fourvectordict[\"L1caloTau\"], nntaus_no_near_taus), axis=1)\n",
    "\n",
    "print(v4falsetaus[15])\n"
   ]
  },
  {
   "cell_type": "code",
   "execution_count": null,
   "metadata": {},
   "outputs": [],
   "source": []
  },
  {
   "cell_type": "code",
   "execution_count": 10,
   "metadata": {},
   "outputs": [
    {
     "name": "stdout",
     "output_type": "stream",
     "text": [
      "True/False values and their counts: {False: 251829, True: 88096}\n"
     ]
    }
   ],
   "source": [
    "# Optional Debug Code\n",
    "\n",
    "# Print the second element of nntaus_near_taus for inspection\n",
    "# print(nntaus_near_taus[1])\n",
    "\n",
    "# Calculate and print DeltaR between the second L1caloTau and GenVisTau\n",
    "# print(fourvectordict[\"L1caloTau\"][1][1].deltaR(fourvectordict[\"GenVisTau\"][1]))\n",
    "\n",
    "# Flatten the nntaus_near_taus array and count unique values\n",
    "x = ak.flatten(nntaus_near_taus, axis=None)\n",
    "unique, counts = np.unique(x, return_counts=True)\n",
    "print(\"True/False values and their counts:\", dict(zip(unique, counts)))\n",
    "\n",
    "# Print the length of the flattened nntaus_near_taus array\n",
    "# print(\"Length of flattened nntaus_near_taus:\", len(x))\n",
    "\n",
    "# Show the type of the flattened L1caloTau array\n",
    "# ak.flatten(fourvectordict[\"L1caloTau\"], axis=-1).type.show()"
   ]
  },
  {
   "cell_type": "code",
   "execution_count": null,
   "metadata": {},
   "outputs": [],
   "source": []
  },
  {
   "cell_type": "code",
   "execution_count": null,
   "metadata": {},
   "outputs": [],
   "source": []
  },
  {
   "cell_type": "code",
   "execution_count": 11,
   "metadata": {},
   "outputs": [],
   "source": [
    "def mapObjects(objects_a, objects_b):\n",
    "    \n",
    "    # Create a Cartesian product between  objects\n",
    "    paired_objects = ak.cartesian({\"a\": objects_a, \"b\": objects_b}, nested=True)\n",
    "    \n",
    "    # Unzip the pairs into separate arrays \n",
    "    mapped_a, mapped_b = ak.unzip(paired_objects)\n",
    "    \n",
    "    # Return the mapped  objects\n",
    "    return mapped_a, mapped_b\n",
    "\n",
    "\n",
    "\n",
    "def prepare_relative_dR(obj_a, obj_b, vec_a, vec_b, mask):\n",
    "    \"\"\"\n",
    "    Prepares a sorted, flattened array of objects based on their DeltaR values.\n",
    "\n",
    "    Parameters:\n",
    "    - obj_a, obj_b: Input objects to be mapped using mapObjects function.\n",
    "    - vec_a, vec_b: fourvectors used to calculate DeltaR.\n",
    "    - mask: Boolean mask used for masking objects based on  matching.\n",
    "\n",
    "    Returns:\n",
    "    - Flattened array of sorted objects after applying the mask.\n",
    "    \"\"\"\n",
    "    # Map obj_a and obj_b into mapped objects:\n",
    "    mapped_obj_a, mapped_obj_b = mapObjects(obj_a, obj_b)\n",
    "    \n",
    "    # Calculate DeltaR between vec_c and vec_d\n",
    "    delta_r = DeltaRcalc(vec_a, vec_b)\n",
    "    \n",
    "    # Sort the objects based on their DeltaR values\n",
    "    sorted_indices = ak.argsort(delta_r)\n",
    "    sorted_objects = mapped_obj_b[sorted_indices]\n",
    "    \n",
    "    # Apply  mask and flatten the result\n",
    "    filtered_objects = ak.flatten(sorted_objects[ak.any(mask, axis=1)], axis=1)\n",
    "    \n",
    "    return filtered_objects"
   ]
  },
  {
   "cell_type": "code",
   "execution_count": 31,
   "metadata": {},
   "outputs": [
    {
     "name": "stdout",
     "output_type": "stream",
     "text": [
      "before ['charge', 'hwBeta', 'hwEta', 'hwPhi', 'hwPt', 'hwQual']\n"
     ]
    },
    {
     "ename": "FieldNotFoundError",
     "evalue": "no field 'pt' in record with 6 fields\n\nThis error occurred while calling\n\n    ak.without_field(\n        <Array [[], [], [], ..., [{...}], []] type='99701 * var * {charge: ...'>\n        'pt'\n    )",
     "output_type": "error",
     "traceback": [
      "\u001b[0;31m---------------------------------------------------------------------------\u001b[0m",
      "\u001b[0;31mFieldNotFoundError\u001b[0m                        Traceback (most recent call last)",
      "\u001b[0;32m~/.local/lib/python3.9/site-packages/awkward/_dispatch.py\u001b[0m in \u001b[0;36mdispatch\u001b[0;34m(*args, **kwargs)\u001b[0m\n\u001b[1;32m     63\u001b[0m                 \u001b[0;32mtry\u001b[0m\u001b[0;34m:\u001b[0m\u001b[0;34m\u001b[0m\u001b[0;34m\u001b[0m\u001b[0m\n\u001b[0;32m---> 64\u001b[0;31m                     \u001b[0mnext\u001b[0m\u001b[0;34m(\u001b[0m\u001b[0mgen_or_result\u001b[0m\u001b[0;34m)\u001b[0m\u001b[0;34m\u001b[0m\u001b[0;34m\u001b[0m\u001b[0m\n\u001b[0m\u001b[1;32m     65\u001b[0m                 \u001b[0;32mexcept\u001b[0m \u001b[0mStopIteration\u001b[0m \u001b[0;32mas\u001b[0m \u001b[0merr\u001b[0m\u001b[0;34m:\u001b[0m\u001b[0;34m\u001b[0m\u001b[0;34m\u001b[0m\u001b[0m\n",
      "\u001b[0;32m~/.local/lib/python3.9/site-packages/awkward/operations/ak_without_field.py\u001b[0m in \u001b[0;36mwithout_field\u001b[0;34m(array, where, highlevel, behavior, attrs)\u001b[0m\n\u001b[1;32m     44\u001b[0m     \u001b[0;31m# Implementation\u001b[0m\u001b[0;34m\u001b[0m\u001b[0;34m\u001b[0m\u001b[0m\n\u001b[0;32m---> 45\u001b[0;31m     \u001b[0;32mreturn\u001b[0m \u001b[0m_impl\u001b[0m\u001b[0;34m(\u001b[0m\u001b[0marray\u001b[0m\u001b[0;34m,\u001b[0m \u001b[0mwhere\u001b[0m\u001b[0;34m,\u001b[0m \u001b[0mhighlevel\u001b[0m\u001b[0;34m,\u001b[0m \u001b[0mbehavior\u001b[0m\u001b[0;34m,\u001b[0m \u001b[0mattrs\u001b[0m\u001b[0;34m)\u001b[0m\u001b[0;34m\u001b[0m\u001b[0;34m\u001b[0m\u001b[0m\n\u001b[0m\u001b[1;32m     46\u001b[0m \u001b[0;34m\u001b[0m\u001b[0m\n",
      "\u001b[0;32m~/.local/lib/python3.9/site-packages/awkward/operations/ak_without_field.py\u001b[0m in \u001b[0;36m_impl\u001b[0;34m(base, where, highlevel, behavior, attrs)\u001b[0m\n\u001b[1;32m     96\u001b[0m \u001b[0;34m\u001b[0m\u001b[0m\n\u001b[0;32m---> 97\u001b[0;31m     \u001b[0mout\u001b[0m \u001b[0;34m=\u001b[0m \u001b[0mak\u001b[0m\u001b[0;34m.\u001b[0m\u001b[0m_do\u001b[0m\u001b[0;34m.\u001b[0m\u001b[0mrecursively_apply\u001b[0m\u001b[0;34m(\u001b[0m\u001b[0mbase\u001b[0m\u001b[0;34m,\u001b[0m \u001b[0maction\u001b[0m\u001b[0;34m,\u001b[0m \u001b[0mdepth_context\u001b[0m\u001b[0;34m=\u001b[0m\u001b[0;34m{\u001b[0m\u001b[0;34m\"where\"\u001b[0m\u001b[0;34m:\u001b[0m \u001b[0mwhere\u001b[0m\u001b[0;34m}\u001b[0m\u001b[0;34m)\u001b[0m\u001b[0;34m\u001b[0m\u001b[0;34m\u001b[0m\u001b[0m\n\u001b[0m\u001b[1;32m     98\u001b[0m     \u001b[0;32mreturn\u001b[0m \u001b[0mctx\u001b[0m\u001b[0;34m.\u001b[0m\u001b[0mwrap\u001b[0m\u001b[0;34m(\u001b[0m\u001b[0mout\u001b[0m\u001b[0;34m,\u001b[0m \u001b[0mhighlevel\u001b[0m\u001b[0;34m=\u001b[0m\u001b[0mhighlevel\u001b[0m\u001b[0;34m)\u001b[0m\u001b[0;34m\u001b[0m\u001b[0;34m\u001b[0m\u001b[0m\n",
      "\u001b[0;32m~/.local/lib/python3.9/site-packages/awkward/_do.py\u001b[0m in \u001b[0;36mrecursively_apply\u001b[0;34m(layout, action, behavior, depth_context, lateral_context, allow_records, keep_parameters, numpy_to_regular, return_simplified, return_array, function_name, regular_to_jagged)\u001b[0m\n\u001b[1;32m     35\u001b[0m     \u001b[0;32mif\u001b[0m \u001b[0misinstance\u001b[0m\u001b[0;34m(\u001b[0m\u001b[0mlayout\u001b[0m\u001b[0;34m,\u001b[0m \u001b[0mContent\u001b[0m\u001b[0;34m)\u001b[0m\u001b[0;34m:\u001b[0m\u001b[0;34m\u001b[0m\u001b[0;34m\u001b[0m\u001b[0m\n\u001b[0;32m---> 36\u001b[0;31m         return layout._recursively_apply(\n\u001b[0m\u001b[1;32m     37\u001b[0m             \u001b[0maction\u001b[0m\u001b[0;34m,\u001b[0m\u001b[0;34m\u001b[0m\u001b[0;34m\u001b[0m\u001b[0m\n",
      "\u001b[0;32m~/.local/lib/python3.9/site-packages/awkward/contents/listoffsetarray.py\u001b[0m in \u001b[0;36m_recursively_apply\u001b[0;34m(self, action, depth, depth_context, lateral_context, options)\u001b[0m\n\u001b[1;32m   2206\u001b[0m         \u001b[0;32melif\u001b[0m \u001b[0mresult\u001b[0m \u001b[0;32mis\u001b[0m \u001b[0;32mNone\u001b[0m\u001b[0;34m:\u001b[0m\u001b[0;34m\u001b[0m\u001b[0;34m\u001b[0m\u001b[0m\n\u001b[0;32m-> 2207\u001b[0;31m             \u001b[0;32mreturn\u001b[0m \u001b[0mcontinuation\u001b[0m\u001b[0;34m(\u001b[0m\u001b[0;34m)\u001b[0m\u001b[0;34m\u001b[0m\u001b[0;34m\u001b[0m\u001b[0m\n\u001b[0m\u001b[1;32m   2208\u001b[0m         \u001b[0;32melse\u001b[0m\u001b[0;34m:\u001b[0m\u001b[0;34m\u001b[0m\u001b[0;34m\u001b[0m\u001b[0m\n",
      "\u001b[0;32m~/.local/lib/python3.9/site-packages/awkward/contents/listoffsetarray.py\u001b[0m in \u001b[0;36mcontinuation\u001b[0;34m()\u001b[0m\n\u001b[1;32m   2172\u001b[0m                     \u001b[0moffsets\u001b[0m\u001b[0;34m,\u001b[0m\u001b[0;34m\u001b[0m\u001b[0;34m\u001b[0m\u001b[0m\n\u001b[0;32m-> 2173\u001b[0;31m                     content._recursively_apply(\n\u001b[0m\u001b[1;32m   2174\u001b[0m                         \u001b[0maction\u001b[0m\u001b[0;34m,\u001b[0m\u001b[0;34m\u001b[0m\u001b[0;34m\u001b[0m\u001b[0m\n",
      "\u001b[0;32m~/.local/lib/python3.9/site-packages/awkward/contents/recordarray.py\u001b[0m in \u001b[0;36m_recursively_apply\u001b[0;34m(self, action, depth, depth_context, lateral_context, options)\u001b[0m\n\u001b[1;32m   1206\u001b[0m \u001b[0;34m\u001b[0m\u001b[0m\n\u001b[0;32m-> 1207\u001b[0;31m         result = action(\n\u001b[0m\u001b[1;32m   1208\u001b[0m             \u001b[0mself\u001b[0m\u001b[0;34m,\u001b[0m\u001b[0;34m\u001b[0m\u001b[0;34m\u001b[0m\u001b[0m\n",
      "\u001b[0;32m~/.local/lib/python3.9/site-packages/awkward/operations/ak_without_field.py\u001b[0m in \u001b[0;36maction\u001b[0;34m(layout, depth_context, **kwargs)\u001b[0m\n\u001b[1;32m     64\u001b[0m             \u001b[0;31m# modify the contents\u001b[0m\u001b[0;34m\u001b[0m\u001b[0;34m\u001b[0m\u001b[0m\n\u001b[0;32m---> 65\u001b[0;31m             \u001b[0mi_field\u001b[0m \u001b[0;34m=\u001b[0m \u001b[0mlayout\u001b[0m\u001b[0;34m.\u001b[0m\u001b[0mfield_to_index\u001b[0m\u001b[0;34m(\u001b[0m\u001b[0mfield\u001b[0m\u001b[0;34m)\u001b[0m\u001b[0;34m\u001b[0m\u001b[0;34m\u001b[0m\u001b[0m\n\u001b[0m\u001b[1;32m     66\u001b[0m             \u001b[0;32mif\u001b[0m \u001b[0mlen\u001b[0m\u001b[0;34m(\u001b[0m\u001b[0mnext_where\u001b[0m\u001b[0;34m)\u001b[0m\u001b[0;34m:\u001b[0m\u001b[0;34m\u001b[0m\u001b[0;34m\u001b[0m\u001b[0m\n",
      "\u001b[0;32m~/.local/lib/python3.9/site-packages/awkward/_meta/recordmeta.py\u001b[0m in \u001b[0;36mfield_to_index\u001b[0;34m(self, field)\u001b[0m\n\u001b[1;32m    116\u001b[0m                 \u001b[0;32mreturn\u001b[0m \u001b[0mi\u001b[0m\u001b[0;34m\u001b[0m\u001b[0;34m\u001b[0m\u001b[0m\n\u001b[0;32m--> 117\u001b[0;31m         raise FieldNotFoundError(\n\u001b[0m\u001b[1;32m    118\u001b[0m             \u001b[0;34mf\"no field {field!r} in record with {len(self._contents)} fields\"\u001b[0m\u001b[0;34m\u001b[0m\u001b[0;34m\u001b[0m\u001b[0m\n",
      "\u001b[0;31mFieldNotFoundError\u001b[0m: no field 'pt' in record with 6 fields",
      "\nThe above exception was the direct cause of the following exception:\n",
      "\u001b[0;31mFieldNotFoundError\u001b[0m                        Traceback (most recent call last)",
      "\u001b[0;32m/tmp/ipykernel_800/3124360420.py\u001b[0m in \u001b[0;36m<module>\u001b[0;34m\u001b[0m\n\u001b[1;32m     11\u001b[0m \u001b[0;32mfor\u001b[0m \u001b[0mi\u001b[0m \u001b[0;32min\u001b[0m \u001b[0mremoval\u001b[0m\u001b[0;34m:\u001b[0m\u001b[0;34m\u001b[0m\u001b[0;34m\u001b[0m\u001b[0m\n\u001b[1;32m     12\u001b[0m     \u001b[0mprint\u001b[0m\u001b[0;34m(\u001b[0m\u001b[0;34m\"before\"\u001b[0m\u001b[0;34m,\u001b[0m\u001b[0mstandardizeddict\u001b[0m\u001b[0;34m[\u001b[0m\u001b[0mi\u001b[0m\u001b[0;34m]\u001b[0m\u001b[0;34m.\u001b[0m\u001b[0mfields\u001b[0m\u001b[0;34m)\u001b[0m\u001b[0;34m\u001b[0m\u001b[0;34m\u001b[0m\u001b[0m\n\u001b[0;32m---> 13\u001b[0;31m     \u001b[0mstandardizeddict\u001b[0m\u001b[0;34m[\u001b[0m\u001b[0mi\u001b[0m\u001b[0;34m]\u001b[0m \u001b[0;34m=\u001b[0m \u001b[0mak\u001b[0m\u001b[0;34m.\u001b[0m\u001b[0mwithout_field\u001b[0m\u001b[0;34m(\u001b[0m\u001b[0mstandardizeddict\u001b[0m\u001b[0;34m[\u001b[0m\u001b[0mi\u001b[0m\u001b[0;34m]\u001b[0m\u001b[0;34m,\u001b[0m\u001b[0;34m'pt'\u001b[0m\u001b[0;34m)\u001b[0m\u001b[0;34m\u001b[0m\u001b[0;34m\u001b[0m\u001b[0m\n\u001b[0m\u001b[1;32m     14\u001b[0m     \u001b[0mstandardizeddict\u001b[0m\u001b[0;34m[\u001b[0m\u001b[0mi\u001b[0m\u001b[0;34m]\u001b[0m \u001b[0;34m=\u001b[0m \u001b[0mak\u001b[0m\u001b[0;34m.\u001b[0m\u001b[0mwithout_field\u001b[0m\u001b[0;34m(\u001b[0m\u001b[0mstandardizeddict\u001b[0m\u001b[0;34m[\u001b[0m\u001b[0mi\u001b[0m\u001b[0;34m]\u001b[0m\u001b[0;34m,\u001b[0m\u001b[0;34m'eta'\u001b[0m\u001b[0;34m)\u001b[0m\u001b[0;34m\u001b[0m\u001b[0;34m\u001b[0m\u001b[0m\n\u001b[1;32m     15\u001b[0m     \u001b[0mstandardizeddict\u001b[0m\u001b[0;34m[\u001b[0m\u001b[0mi\u001b[0m\u001b[0;34m]\u001b[0m \u001b[0;34m=\u001b[0m \u001b[0mak\u001b[0m\u001b[0;34m.\u001b[0m\u001b[0mwithout_field\u001b[0m\u001b[0;34m(\u001b[0m\u001b[0mstandardizeddict\u001b[0m\u001b[0;34m[\u001b[0m\u001b[0mi\u001b[0m\u001b[0;34m]\u001b[0m\u001b[0;34m,\u001b[0m\u001b[0;34m'phi'\u001b[0m\u001b[0;34m)\u001b[0m\u001b[0;34m\u001b[0m\u001b[0;34m\u001b[0m\u001b[0m\n",
      "\u001b[0;32m~/.local/lib/python3.9/site-packages/awkward/_dispatch.py\u001b[0m in \u001b[0;36mdispatch\u001b[0;34m(*args, **kwargs)\u001b[0m\n\u001b[1;32m     70\u001b[0m                     )\n\u001b[1;32m     71\u001b[0m \u001b[0;34m\u001b[0m\u001b[0m\n\u001b[0;32m---> 72\u001b[0;31m             \u001b[0;32mreturn\u001b[0m \u001b[0mgen_or_result\u001b[0m\u001b[0;34m\u001b[0m\u001b[0;34m\u001b[0m\u001b[0m\n\u001b[0m\u001b[1;32m     73\u001b[0m \u001b[0;34m\u001b[0m\u001b[0m\n\u001b[1;32m     74\u001b[0m     \u001b[0;32mreturn\u001b[0m \u001b[0mdispatch\u001b[0m\u001b[0;34m\u001b[0m\u001b[0;34m\u001b[0m\u001b[0m\n",
      "\u001b[0;32m~/.local/lib/python3.9/site-packages/awkward/_errors.py\u001b[0m in \u001b[0;36m__exit__\u001b[0;34m(self, exception_type, exception_value, traceback)\u001b[0m\n\u001b[1;32m     83\u001b[0m                 \u001b[0;32mand\u001b[0m \u001b[0mself\u001b[0m\u001b[0;34m.\u001b[0m\u001b[0mprimary\u001b[0m\u001b[0;34m(\u001b[0m\u001b[0;34m)\u001b[0m \u001b[0;32mis\u001b[0m \u001b[0mself\u001b[0m\u001b[0;34m\u001b[0m\u001b[0;34m\u001b[0m\u001b[0m\n\u001b[1;32m     84\u001b[0m             ):\n\u001b[0;32m---> 85\u001b[0;31m                 \u001b[0mself\u001b[0m\u001b[0;34m.\u001b[0m\u001b[0mhandle_exception\u001b[0m\u001b[0;34m(\u001b[0m\u001b[0mexception_type\u001b[0m\u001b[0;34m,\u001b[0m \u001b[0mexception_value\u001b[0m\u001b[0;34m)\u001b[0m\u001b[0;34m\u001b[0m\u001b[0;34m\u001b[0m\u001b[0m\n\u001b[0m\u001b[1;32m     86\u001b[0m         \u001b[0;32mfinally\u001b[0m\u001b[0;34m:\u001b[0m\u001b[0;34m\u001b[0m\u001b[0;34m\u001b[0m\u001b[0m\n\u001b[1;32m     87\u001b[0m             \u001b[0;31m# Step out of the way so that another ErrorContext can become primary.\u001b[0m\u001b[0;34m\u001b[0m\u001b[0;34m\u001b[0m\u001b[0m\n",
      "\u001b[0;32m~/.local/lib/python3.9/site-packages/awkward/_errors.py\u001b[0m in \u001b[0;36mhandle_exception\u001b[0;34m(self, cls, exception)\u001b[0m\n\u001b[1;32m     93\u001b[0m             \u001b[0mself\u001b[0m\u001b[0;34m.\u001b[0m\u001b[0mdecorate_exception\u001b[0m\u001b[0;34m(\u001b[0m\u001b[0mcls\u001b[0m\u001b[0;34m,\u001b[0m \u001b[0mexception\u001b[0m\u001b[0;34m)\u001b[0m\u001b[0;34m\u001b[0m\u001b[0;34m\u001b[0m\u001b[0m\n\u001b[1;32m     94\u001b[0m         \u001b[0;32melse\u001b[0m\u001b[0;34m:\u001b[0m\u001b[0;34m\u001b[0m\u001b[0;34m\u001b[0m\u001b[0m\n\u001b[0;32m---> 95\u001b[0;31m             \u001b[0;32mraise\u001b[0m \u001b[0mself\u001b[0m\u001b[0;34m.\u001b[0m\u001b[0mdecorate_exception\u001b[0m\u001b[0;34m(\u001b[0m\u001b[0mcls\u001b[0m\u001b[0;34m,\u001b[0m \u001b[0mexception\u001b[0m\u001b[0;34m)\u001b[0m\u001b[0;34m\u001b[0m\u001b[0;34m\u001b[0m\u001b[0m\n\u001b[0m\u001b[1;32m     96\u001b[0m \u001b[0;34m\u001b[0m\u001b[0m\n\u001b[1;32m     97\u001b[0m     \u001b[0;32mdef\u001b[0m \u001b[0mdecorate_exception\u001b[0m\u001b[0;34m(\u001b[0m\u001b[0mself\u001b[0m\u001b[0;34m,\u001b[0m \u001b[0mcls\u001b[0m\u001b[0;34m:\u001b[0m \u001b[0mtype\u001b[0m\u001b[0;34m[\u001b[0m\u001b[0mE\u001b[0m\u001b[0;34m]\u001b[0m\u001b[0;34m,\u001b[0m \u001b[0mexception\u001b[0m\u001b[0;34m:\u001b[0m \u001b[0mE\u001b[0m\u001b[0;34m)\u001b[0m \u001b[0;34m->\u001b[0m \u001b[0mException\u001b[0m\u001b[0;34m:\u001b[0m\u001b[0;34m\u001b[0m\u001b[0;34m\u001b[0m\u001b[0m\n",
      "\u001b[0;31mFieldNotFoundError\u001b[0m: no field 'pt' in record with 6 fields\n\nThis error occurred while calling\n\n    ak.without_field(\n        <Array [[], [], [], ..., [{...}], []] type='99701 * var * {charge: ...'>\n        'pt'\n    )"
     ]
    }
   ],
   "source": [
    "#remove empty fields:\n",
    "for key, value in standardizeddict.items():\n",
    "    for field in value.fields:\n",
    "        if ak.sum(value[field]) == 0:\n",
    "            print(key,field,\"field removed\")\n",
    "            standardizeddict[key] = ak.without_field(standardizeddict[key],field)\n",
    "#remove physical vals:\n",
    "removal = [\"L1gmtMuon\",\n",
    "\"L1gmtTkMuon\",\n",
    "]            \n",
    "for i in removal:\n",
    "    print(\"before\",standardizeddict[i].fields)\n",
    "    standardizeddict[i] = ak.without_field(standardizeddict[i],'pt')\n",
    "    standardizeddict[i] = ak.without_field(standardizeddict[i],'eta')\n",
    "    standardizeddict[i] = ak.without_field(standardizeddict[i],'phi')\n",
    "    print(\"after\",standardizeddict[i].fields)\n",
    "\n",
    "#print all the data\n",
    "for key, value in standardizeddict.items():\n",
    "    print(key,\":\",value.fields)"
   ]
  },
  {
   "cell_type": "code",
   "execution_count": 14,
   "metadata": {},
   "outputs": [
    {
     "name": "stdout",
     "output_type": "stream",
     "text": [
      "251829\n",
      "251829\n",
      "251829\n",
      "251829\n",
      "251829\n",
      "251829\n"
     ]
    }
   ],
   "source": [
    "# Prepare true and false matched muons\n",
    "true_muons = prepare_relative_dR(truetaus, standardizeddict[\"L1gmtMuon\"], v4truetaus, fourvectordict[\"L1gmtMuon\"], nntaus_near_taus)\n",
    "false_muons = prepare_relative_dR(falsetaus, standardizeddict[\"L1gmtMuon\"], v4falsetaus, fourvectordict[\"L1gmtMuon\"], ~nntaus_near_taus)\n",
    "\n",
    "# Prepare true and false matched track muons\n",
    "true_tkmuons = prepare_relative_dR(truetaus, standardizeddict[\"L1gmtTkMuon\"], v4truetaus, fourvectordict[\"L1gmtTkMuon\"], nntaus_near_taus)\n",
    "false_tkmuons = prepare_relative_dR(falsetaus, standardizeddict[\"L1gmtTkMuon\"], v4falsetaus, fourvectordict[\"L1gmtTkMuon\"], ~nntaus_near_taus)\n",
    "\n",
    "# Prepare true and false matched photons\n",
    "true_photons = prepare_relative_dR(truetaus, standardizeddict[\"L1tkPhoton\"], v4truetaus, fourvectordict[\"L1tkPhoton\"], nntaus_near_taus)\n",
    "false_photons = prepare_relative_dR(falsetaus, standardizeddict[\"L1tkPhoton\"], v4falsetaus, fourvectordict[\"L1tkPhoton\"], ~nntaus_near_taus)\n",
    "\n",
    "# Prepare true and false matched electrons\n",
    "true_electrons = prepare_relative_dR(truetaus, standardizeddict[\"L1tkElectron\"], v4truetaus, fourvectordict[\"L1tkElectron\"], nntaus_near_taus)\n",
    "false_electrons = prepare_relative_dR(falsetaus, standardizeddict[\"L1tkElectron\"], v4falsetaus, fourvectordict[\"L1tkElectron\"], ~nntaus_near_taus)\n",
    "\n",
    "# Prepare true and false matched  puppi jets\n",
    "true_jets = prepare_relative_dR(truetaus, standardizeddict[\"L1puppiJetHisto\"], v4truetaus, fourvectordict[\"L1puppiJetHisto\"], nntaus_near_taus)\n",
    "false_jets = prepare_relative_dR(falsetaus, standardizeddict[\"L1puppiJetHisto\"], v4falsetaus, fourvectordict[\"L1puppiJetHisto\"], ~nntaus_near_taus)\n",
    "\n",
    "# Prepare true and false matched calo jets\n",
    "true_calojets = prepare_relative_dR(truetaus, standardizeddict[\"L1caloJet\"], v4truetaus, fourvectordict[\"L1caloJet\"], nntaus_near_taus)\n",
    "false_calojets = prepare_relative_dR(falsetaus, standardizeddict[\"L1caloJet\"], v4falsetaus, fourvectordict[\"L1caloJet\"], ~nntaus_near_taus)\n",
    "\n",
    "# Prepare the objects for ML input\n",
    "objects_to_map = [true_muons, true_electrons, true_photons, true_jets, true_tkmuons, true_calojets]\n",
    "fields = (\n",
    "    true_muons.fields\n",
    "    + true_electrons.fields\n",
    "    + true_photons.fields\n",
    "    + true_jets.fields\n",
    "    + true_tkmuons.fields\n",
    "    + true_calojets.fields\n",
    ")\n",
    "object_names = [\n",
    "    \"L1gmtMuon\",\n",
    "    \"L1tkElectron\",\n",
    "    \"L1tkPhoton\",\n",
    "    \"L1puppiJetHisto\",\n",
    "    \"L1gmtTkMuon\",\n",
    "    \"L1caloJet\"\n",
    "]\n",
    "pad_lengths = [2, 5, 5, 5, 3, 4]\n",
    "\n",
    "# Prepare data for true object mappings\n",
    "dr_true_names, temp_true_values = prepare_for_ml(objects_to_map, pad_lengths, object_names)\n",
    "\n",
    "# Prepare false objects for ML input\n",
    "false_objects_to_map = [false_muons, false_electrons, false_photons, false_jets, false_tkmuons, false_calojets]\n",
    "\n",
    "# Print lengths of each false object (for debugging)\n",
    "for obj in false_objects_to_map:\n",
    "    print(len(obj))\n",
    "\n",
    "\n",
    "# Prepare data for false object mappings\n",
    "dr_false_names, temp_false_values = prepare_for_ml(false_objects_to_map, pad_lengths, object_names)\n",
    "\n",
    "# Convert and prepare for ML model training\n",
    "dr_true_values = np.vstack(temp_true_values)\n",
    "dr_true_values = np.swapaxes(dr_true_values, 0, 1)\n",
    "dr_true_values = ak.to_numpy(dr_true_values)\n",
    "dr_false_values = np.vstack(temp_false_values)\n",
    "dr_false_values = np.swapaxes(dr_false_values, 0, 1)\n",
    "dr_false_values = ak.to_numpy(dr_false_values)"
   ]
  },
  {
   "cell_type": "code",
   "execution_count": 15,
   "metadata": {},
   "outputs": [],
   "source": [
    "## uncomment if you want to do sanity checks (takes a while)\n",
    "# if debug:\n",
    "#     for item,value in enumerate(standardizeddict[\"L1caloTau\"]):\n",
    "#         if len(value) != len(v4truetaus[item]) + len(v4falsetaus[item]):\n",
    "#             print(item)\n",
    "\n",
    "\n"
   ]
  },
  {
   "cell_type": "code",
   "execution_count": 16,
   "metadata": {},
   "outputs": [],
   "source": [
    "# Prepare the true objects by broadcasting them to the shape of truetaus\n",
    "from numpy.lib.recfunctions import structured_to_unstructured\n",
    "\n",
    "# Flatten truetaus and convert to numpy\n",
    "flattened_truetaus = ak.flatten(truetaus)\n",
    "numpy_truetaus = ak.to_numpy(flattened_truetaus)\n",
    "\n",
    "# Convert truetaus to an unstructured numpy array\n",
    "unstructured_truetaus = structured_to_unstructured(numpy_truetaus)\n",
    "\n",
    "# Concatenate the unstructured truetaus with the true deltaR values\n",
    "trues = np.concatenate((unstructured_truetaus, dr_true_values), axis=1)\n"
   ]
  },
  {
   "cell_type": "code",
   "execution_count": null,
   "metadata": {},
   "outputs": [],
   "source": []
  },
  {
   "cell_type": "code",
   "execution_count": 17,
   "metadata": {},
   "outputs": [
    {
     "name": "stdout",
     "output_type": "stream",
     "text": [
      "153\n",
      "['calotaus_eta', 'calotaus_phi', 'calotaus_pt', 'L1gmtMuon_0_charge', 'L1gmtMuon_0_hwBeta', 'L1gmtMuon_0_hwEta', 'L1gmtMuon_0_hwPhi', 'L1gmtMuon_0_hwPt', 'L1gmtMuon_0_hwQual', 'L1gmtMuon_1_charge', 'L1gmtMuon_1_hwBeta', 'L1gmtMuon_1_hwEta', 'L1gmtMuon_1_hwPhi', 'L1gmtMuon_1_hwPt', 'L1gmtMuon_1_hwQual', 'L1tkElectron_0_eleId', 'L1tkElectron_0_phoId', 'L1tkElectron_0_saId', 'L1tkElectron_0_hwQual', 'L1tkElectron_0_charge', 'L1tkElectron_0_eta', 'L1tkElectron_0_phi', 'L1tkElectron_0_pt', 'L1tkElectron_0_relIso', 'L1tkElectron_0_z0', 'L1tkElectron_1_eleId', 'L1tkElectron_1_phoId', 'L1tkElectron_1_saId', 'L1tkElectron_1_hwQual', 'L1tkElectron_1_charge', 'L1tkElectron_1_eta', 'L1tkElectron_1_phi', 'L1tkElectron_1_pt', 'L1tkElectron_1_relIso', 'L1tkElectron_1_z0', 'L1tkElectron_2_eleId', 'L1tkElectron_2_phoId', 'L1tkElectron_2_saId', 'L1tkElectron_2_hwQual', 'L1tkElectron_2_charge', 'L1tkElectron_2_eta', 'L1tkElectron_2_phi', 'L1tkElectron_2_pt', 'L1tkElectron_2_relIso', 'L1tkElectron_2_z0', 'L1tkElectron_3_eleId', 'L1tkElectron_3_phoId', 'L1tkElectron_3_saId', 'L1tkElectron_3_hwQual', 'L1tkElectron_3_charge', 'L1tkElectron_3_eta', 'L1tkElectron_3_phi', 'L1tkElectron_3_pt', 'L1tkElectron_3_relIso', 'L1tkElectron_3_z0', 'L1tkElectron_4_eleId', 'L1tkElectron_4_phoId', 'L1tkElectron_4_saId', 'L1tkElectron_4_hwQual', 'L1tkElectron_4_charge', 'L1tkElectron_4_eta', 'L1tkElectron_4_phi', 'L1tkElectron_4_pt', 'L1tkElectron_4_relIso', 'L1tkElectron_4_z0', 'L1tkPhoton_0_eleId', 'L1tkPhoton_0_phoId', 'L1tkPhoton_0_saId', 'L1tkPhoton_0_hwQual', 'L1tkPhoton_0_eta', 'L1tkPhoton_0_phi', 'L1tkPhoton_0_pt', 'L1tkPhoton_0_relIso', 'L1tkPhoton_1_eleId', 'L1tkPhoton_1_phoId', 'L1tkPhoton_1_saId', 'L1tkPhoton_1_hwQual', 'L1tkPhoton_1_eta', 'L1tkPhoton_1_phi', 'L1tkPhoton_1_pt', 'L1tkPhoton_1_relIso', 'L1tkPhoton_2_eleId', 'L1tkPhoton_2_phoId', 'L1tkPhoton_2_saId', 'L1tkPhoton_2_hwQual', 'L1tkPhoton_2_eta', 'L1tkPhoton_2_phi', 'L1tkPhoton_2_pt', 'L1tkPhoton_2_relIso', 'L1tkPhoton_3_eleId', 'L1tkPhoton_3_phoId', 'L1tkPhoton_3_saId', 'L1tkPhoton_3_hwQual', 'L1tkPhoton_3_eta', 'L1tkPhoton_3_phi', 'L1tkPhoton_3_pt', 'L1tkPhoton_3_relIso', 'L1tkPhoton_4_eleId', 'L1tkPhoton_4_phoId', 'L1tkPhoton_4_saId', 'L1tkPhoton_4_hwQual', 'L1tkPhoton_4_eta', 'L1tkPhoton_4_phi', 'L1tkPhoton_4_pt', 'L1tkPhoton_4_relIso', 'L1puppiJetHisto_0_eta', 'L1puppiJetHisto_0_phi', 'L1puppiJetHisto_0_pt', 'L1puppiJetHisto_1_eta', 'L1puppiJetHisto_1_phi', 'L1puppiJetHisto_1_pt', 'L1puppiJetHisto_2_eta', 'L1puppiJetHisto_2_phi', 'L1puppiJetHisto_2_pt', 'L1puppiJetHisto_3_eta', 'L1puppiJetHisto_3_phi', 'L1puppiJetHisto_3_pt', 'L1puppiJetHisto_4_eta', 'L1puppiJetHisto_4_phi', 'L1puppiJetHisto_4_pt', 'L1gmtTkMuon_0_charge', 'L1gmtTkMuon_0_hwBeta', 'L1gmtTkMuon_0_hwEta', 'L1gmtTkMuon_0_hwPhi', 'L1gmtTkMuon_0_hwPt', 'L1gmtTkMuon_0_hwQual', 'L1gmtTkMuon_0_z0', 'L1gmtTkMuon_1_charge', 'L1gmtTkMuon_1_hwBeta', 'L1gmtTkMuon_1_hwEta', 'L1gmtTkMuon_1_hwPhi', 'L1gmtTkMuon_1_hwPt', 'L1gmtTkMuon_1_hwQual', 'L1gmtTkMuon_1_z0', 'L1gmtTkMuon_2_charge', 'L1gmtTkMuon_2_hwBeta', 'L1gmtTkMuon_2_hwEta', 'L1gmtTkMuon_2_hwPhi', 'L1gmtTkMuon_2_hwPt', 'L1gmtTkMuon_2_hwQual', 'L1gmtTkMuon_2_z0', 'L1caloJet_0_eta', 'L1caloJet_0_phi', 'L1caloJet_0_pt', 'L1caloJet_1_eta', 'L1caloJet_1_phi', 'L1caloJet_1_pt', 'L1caloJet_2_eta', 'L1caloJet_2_phi', 'L1caloJet_2_pt', 'L1caloJet_3_eta', 'L1caloJet_3_phi', 'L1caloJet_3_pt']\n"
     ]
    }
   ],
   "source": [
    "truetausnames = [\"calotaus_\" + i for i in truetaus.fields]\n",
    "\n",
    "names =  truetausnames  + dr_true_names\n",
    "print(len(names))\n",
    "print(names)"
   ]
  },
  {
   "cell_type": "code",
   "execution_count": null,
   "metadata": {},
   "outputs": [],
   "source": []
  },
  {
   "cell_type": "code",
   "execution_count": 18,
   "metadata": {},
   "outputs": [],
   "source": [
    "# Prepare the false objects (falsetaus and falsejets)\n",
    "\n",
    "flattened_falsetaus = ak.flatten(falsetaus)\n",
    "numpy_falsetaus = ak.to_numpy(flattened_falsetaus)\n",
    "unstructured_falsetaus = structured_to_unstructured(numpy_falsetaus)\n",
    "falses = np.concatenate((unstructured_falsetaus, dr_false_values), axis=1)\n",
    "\n",
    "\n"
   ]
  },
  {
   "cell_type": "code",
   "execution_count": 19,
   "metadata": {},
   "outputs": [],
   "source": [
    "## some debug stuff to check if the variables are named correctly\n",
    "# indexlist = drfnames\n",
    "# print(falses[0][0])\n",
    "# print(standardizeddict[\"L1caloJet\"].eta[0][0])\n",
    "# print(falses[0][1])\n",
    "# print(standardizeddict[\"L1caloJet\"].phi[0][0])\n",
    "\n",
    "\n",
    "# print(trues[0][0])\n",
    "# print(standardizeddict[\"L1caloJet\"].eta[1][1])\n",
    "# print(falses[0][1])\n",
    "# print(standardizeddict[\"L1caloJet\"].phi[1])\n",
    "# idx = indexlist.index(\"L1gmtMuon_0_hwPt\")\n",
    "\n",
    "# print(standardizeddict[\"L1gmtTkMuon\"].hwPt[0])\n",
    "# tt = falses[0]\n",
    "\n",
    "# print(np.sum(trues[:,0]))\n",
    "# for i in range(len(trues[0])):\n",
    "#     if np.max(trues[:,i]) == np.min(trues[:,i]):\n",
    "#         print(names[i])\n",
    "# # tt.where(529)\n",
    "# indexlist = drfnames\n",
    "# print(falses[0][0])\n",
    "# print(standardizeddict[\"L1caloJet\"].eta[0][0])\n",
    "# print(falses[0][1])\n",
    "# print(standardizeddict[\"L1caloJet\"].phi[0][0])\n",
    "\n",
    "# print(drfnames)\n",
    "# print(trues[0][0])\n",
    "# print(standardizeddict[\"L1caloJet\"].eta[1][1])\n",
    "# print(falses[0][1])\n",
    "# print(standardizeddict[\"L1caloJet\"].phi[1])\n",
    "# idx = indexlist.index(\"L1gmtTkMuon_0_hwPt\")\n",
    "\n",
    "# print(standardizeddict[\"L1gmtTkMuon\"].hwPt[0])\n",
    "\n",
    "# tt = falses[0]\n",
    "# print(ls)\n",
    "# # print(drfvals[0])\n",
    "# print(idx)\n",
    "# idx = indexlist.index(\"L1gmtTkMuon_1_hwPt\")\n",
    "# print(idx)\n",
    "# print(len(drfvals[0]))\n",
    "# print(np.where(drfvals[0] == 529))\n",
    "# print(np.where(drfvals[0] == 324))\n",
    "# print(np.where(drfvals[0] == 102))"
   ]
  },
  {
   "cell_type": "code",
   "execution_count": 20,
   "metadata": {},
   "outputs": [
    {
     "name": "stdout",
     "output_type": "stream",
     "text": [
      "88096\n",
      "251829\n",
      "153\n",
      "(153,)\n"
     ]
    }
   ],
   "source": [
    "x_sig = trues\n",
    "x_bkg = falses\n",
    "#some info about the data:\n",
    "#number of true taus:\n",
    "print(len(trues))\n",
    "#number of false taus\n",
    "print(len(falses))\n",
    "#number of input variables these two have to match:\n",
    "print(len(names))\n",
    "print(trues[0].shape)"
   ]
  },
  {
   "cell_type": "code",
   "execution_count": 21,
   "metadata": {},
   "outputs": [],
   "source": [
    "\n",
    "# creating labels\n",
    "y_bkg = np.zeros(len(x_bkg))\n",
    "y_sig = np.ones(len(x_sig))\n",
    "\n",
    "# combining signal & bkg\n",
    "x = np.concatenate((x_bkg, x_sig))\n",
    "y = np.concatenate((y_bkg, y_sig))"
   ]
  },
  {
   "cell_type": "code",
   "execution_count": 22,
   "metadata": {},
   "outputs": [],
   "source": [
    "from sklearn.preprocessing import StandardScaler\n",
    "\n",
    "scaler = StandardScaler()\n",
    "_ = scaler.fit(x)\n",
    "x_scaled = scaler.transform(x)"
   ]
  },
  {
   "cell_type": "code",
   "execution_count": 23,
   "metadata": {},
   "outputs": [
    {
     "name": "stdout",
     "output_type": "stream",
     "text": [
      "outdir:   smallnet_outputs_for_training_2024_09_07-03_06_22_PM/\n"
     ]
    }
   ],
   "source": [
    " # make directory\n",
    "import os\n",
    "import pickle\n",
    "from datetime import datetime\n",
    "\n",
    "datenow = datetime.now().strftime(\"%Y_%m_%d-%I_%M_%S_%p\")\n",
    "outdir = \"smallnet_outputs_for_training_{}/\".format(datenow)\n",
    "if not os.path.exists(outdir):\n",
    "    os.makedirs(outdir)\n",
    "\n",
    "with open(outdir+\"scaler.pkl\", 'wb') as file_pi: \n",
    "   pickle.dump(scaler, file_pi)\n",
    "\n",
    "print(\"outdir:  \",outdir)"
   ]
  },
  {
   "cell_type": "code",
   "execution_count": 24,
   "metadata": {},
   "outputs": [],
   "source": [
    "\n",
    "with open(outdir+\"featurenames.pkl\", 'wb') as file_pi: \n",
    "   pickle.dump(names, file_pi)"
   ]
  },
  {
   "cell_type": "code",
   "execution_count": 25,
   "metadata": {},
   "outputs": [
    {
     "name": "stdout",
     "output_type": "stream",
     "text": [
      "153\n",
      "{0: 0.6748158735830703, 1: 1.9300760844878493}\n"
     ]
    }
   ],
   "source": [
    "from sklearn.model_selection import train_test_split\n",
    "\n",
    "X_train, X_test, y_train, y_test = train_test_split(x_scaled, y, test_size=0.4)\n",
    "print(X_train.shape[1])\n",
    "from sklearn.utils.class_weight import compute_class_weight\n",
    "\n",
    "#weighing trues and false\n",
    "class_weights = compute_class_weight(class_weight=\"balanced\", classes=np.unique(y_train), y=y_train)\n",
    "\n",
    "# Convert class_weights to a dictionary\n",
    "class_weight_dict = dict(enumerate(class_weights))\n",
    "print(class_weight_dict)\n"
   ]
  },
  {
   "cell_type": "code",
   "execution_count": 26,
   "metadata": {},
   "outputs": [
    {
     "data": {
      "text/plain": [
       "<pyarrow._parquet.FileMetaData object at 0x7f145c905310>\n",
       "  created_by: parquet-cpp-arrow version 16.0.0\n",
       "  num_columns: 1\n",
       "  num_rows: 135970\n",
       "  num_row_groups: 1\n",
       "  format_version: 2.6\n",
       "  serialized_size: 0"
      ]
     },
     "execution_count": 26,
     "metadata": {},
     "output_type": "execute_result"
    }
   ],
   "source": [
    "ak.to_parquet(X_train, outdir+\"X_train_scaled.parquet\")\n",
    "ak.to_parquet(y_train, outdir+\"y_train_scaled.parquet\")\n",
    "ak.to_parquet(X_test, outdir+\"X_test_scaled.parquet\")\n",
    "ak.to_parquet(y_test, outdir+\"y_test_scaled.parquet\")\n"
   ]
  },
  {
   "cell_type": "code",
   "execution_count": 27,
   "metadata": {},
   "outputs": [
    {
     "name": "stdout",
     "output_type": "stream",
     "text": [
      "88096 * {\n",
      "    eta: float32,\n",
      "    phi: float32,\n",
      "    pt: float32\n",
      "}\n"
     ]
    }
   ],
   "source": [
    "truetaus.fields\n",
    "truetaus_plot =ak.flatten(truetaus,axis=-1)\n",
    "truetaus_plot.type.show()\n",
    "\n",
    "falsetaus_plot =ak.flatten(falsetaus,axis=-1)\n"
   ]
  },
  {
   "cell_type": "code",
   "execution_count": 28,
   "metadata": {},
   "outputs": [
    {
     "data": {
      "image/png": "[encoded data removed]",
      "text/plain": [
       "<Figure size 432x288 with 1 Axes>"
      ]
     },
     "metadata": {
      "needs_background": "light"
     },
     "output_type": "display_data"
    },
    {
     "data": {
      "image/png": "[encoded data removed]",
      "text/plain": [
       "<Figure size 432x288 with 1 Axes>"
      ]
     },
     "metadata": {
      "needs_background": "light"
     },
     "output_type": "display_data"
    },
    {
     "data": {
      "image/png": "[encoded data removed]",
      "text/plain": [
       "<Figure size 432x288 with 1 Axes>"
      ]
     },
     "metadata": {
      "needs_background": "light"
     },
     "output_type": "display_data"
    }
   ],
   "source": [
    "import matplotlib.pyplot as plt\n",
    "\n",
    "\n",
    "for i in truetaus.fields:\n",
    "    # if \"_0_\" not in name: continue\n",
    "        \n",
    "    plt.figure()\n",
    "    \n",
    "    _ = plt.hist(falsetaus_plot[i], bins = 100, log = True, density = False, label = \"Bkg\")\n",
    "    _ = plt.hist(truetaus_plot[i], bins = _[1], histtype = \"step\", density = False, label = \"Sig\")\n",
    "    \n",
    "    plt.xlabel(i)\n",
    "    plt.legend()\n",
    "    plt.show()"
   ]
  },
  {
   "cell_type": "code",
   "execution_count": 30,
   "metadata": {},
   "outputs": [
    {
     "name": "stdout",
     "output_type": "stream",
     "text": [
      "['charge', 'hwBeta', 'hwEta', 'hwPhi', 'hwPt', 'hwQual']\n",
      "[2.52, 3.96, 1.36, 2.97, 2.86, 1.33, ..., 2.03, 2.98, 3.5, 1.58, 1.99, 3.08]\n"
     ]
    },
    {
     "data": {
      "image/png": "[encoded data removed]",
      "text/plain": [
       "<Figure size 432x288 with 1 Axes>"
      ]
     },
     "metadata": {
      "needs_background": "light"
     },
     "output_type": "display_data"
    },
    {
     "name": "stdout",
     "output_type": "stream",
     "text": [
      "['charge', 'hwBeta', 'hwEta', 'hwPhi', 'hwPt', 'hwQual', 'z0']\n",
      "[2.36, 2.06, 2.61, 2.46, 1.51, 1.41, ..., 2.56, 3.03, 1.25, 1.25, 1.25, 3.09]\n"
     ]
    },
    {
     "data": {
      "image/png": "[encoded data removed]",
      "text/plain": [
       "<Figure size 432x288 with 1 Axes>"
      ]
     },
     "metadata": {
      "needs_background": "light"
     },
     "output_type": "display_data"
    },
    {
     "name": "stdout",
     "output_type": "stream",
     "text": [
      "['eleId', 'phoId', 'saId', 'hwQual', 'eta', 'phi', 'pt', 'relIso']\n",
      "[0.0395, 2.58, 0.0251, 1.61, 2.92, 0.0867, ..., 0.0385, 2.7, 0.0395, 3.3, 1.21]\n"
     ]
    },
    {
     "data": {
      "image/png": "[encoded data removed]",
      "text/plain": [
       "<Figure size 432x288 with 1 Axes>"
      ]
     },
     "metadata": {
      "needs_background": "light"
     },
     "output_type": "display_data"
    },
    {
     "name": "stdout",
     "output_type": "stream",
     "text": [
      "['eleId', 'phoId', 'saId', 'hwQual', 'charge', 'eta', 'phi', 'pt', 'relIso', 'z0']\n",
      "[0.0395, 2.61, 0.0619, 1.86, 0.443, ..., 4.56, 0.053, 1.76, 0.0619, 0.0586]\n"
     ]
    },
    {
     "data": {
      "image/png": "[encoded data removed]",
      "text/plain": [
       "<Figure size 432x288 with 1 Axes>"
      ]
     },
     "metadata": {
      "needs_background": "light"
     },
     "output_type": "display_data"
    },
    {
     "name": "stdout",
     "output_type": "stream",
     "text": [
      "['eta', 'phi', 'pt']\n",
      "[2.62, 0.0178, 0.0885, 2.5, 1.9, 0.0217, ..., 3.01, 4.62, 0.00215, 4.79, 2.48]\n"
     ]
    },
    {
     "data": {
      "image/png": "[encoded data removed]",
      "text/plain": [
       "<Figure size 432x288 with 1 Axes>"
      ]
     },
     "metadata": {
      "needs_background": "light"
     },
     "output_type": "display_data"
    },
    {
     "name": "stdout",
     "output_type": "stream",
     "text": [
      "['eleId', 'phoId', 'saId', 'hwQual', 'eta', 'phi', 'pt']\n",
      "[2.58, 1.61, 0.0248, 0.0391, 0.0872, ..., 3.31, 1.74, 0.039, 2.71, 0.039]\n"
     ]
    },
    {
     "data": {
      "image/png": "[encoded data removed]",
      "text/plain": [
       "<Figure size 432x288 with 1 Axes>"
      ]
     },
     "metadata": {
      "needs_background": "light"
     },
     "output_type": "display_data"
    },
    {
     "name": "stdout",
     "output_type": "stream",
     "text": [
      "['eleId', 'saId', 'hwQual', 'eta', 'phi', 'pt']\n",
      "[3.48, 1.45, 1.86, 1.6, 0.407, 2.69, ..., 3.74, 0.143, 0.032, 3.64, 5, 1.52]\n"
     ]
    },
    {
     "data": {
      "image/png": "[encoded data removed]",
      "text/plain": [
       "<Figure size 432x288 with 1 Axes>"
      ]
     },
     "metadata": {
      "needs_background": "light"
     },
     "output_type": "display_data"
    }
   ],
   "source": [
    "#some quick plots on the dr of the closest l1obj:\n",
    "def Preparemindrplot(a,b,c,d,sort):\n",
    "    f,g = mapObjects(a,b)\n",
    "    dr = DeltaRcalc(c,d)\n",
    "    drmin = ak.min(dr,axis=1)\n",
    "    return ak.flatten(drmin,axis=None)\n",
    "    # muonssorted = g[tts]\n",
    "    # test = ak.any(nntaus_near_taus,axis=1)\n",
    "    # mm = ak.flatten(muonssorted[ak.any(sort,axis=1)],axis=1)\n",
    "\n",
    "y = [\n",
    " \"L1gmtMuon\",\n",
    "\"L1gmtTkMuon\",\n",
    "\"L1tkPhoton\",\n",
    "\"L1tkElectron\",\n",
    "\"L1puppiJetHisto\"\n",
    "]\n",
    "for x in y:\n",
    "    print(standardizeddict[x].fields)\n",
    "    truemuons_plot =  Preparemindrplot(truetaus,standardizeddict[x],v4truetaus,fourvectordict[x],nntaus_near_taus)\n",
    "    falsemuons_plot = Preparemindrplot(falsetaus,standardizeddict[x],v4falsetaus,fourvectordict[x],~nntaus_near_taus)\n",
    "    # standardizeddict[\"L1gmtTkMuon\"]\n",
    "    print(ak.flatten(truemuons_plot,axis=None))\n",
    "\n",
    "    plt.figure()\n",
    "        \n",
    "    _ = plt.hist(ak.flatten(truemuons_plot,axis=None), bins = 50, log = False, density = True, label = \"Sig\")\n",
    "    _ = plt.hist(ak.flatten(falsemuons_plot,axis=None), bins = _[1], histtype = \"step\", density = True, label = \"Bkg\")\n",
    "        \n",
    "    plt.xlabel(\"dR\")\n",
    "    plt.ylabel(\"Counts\")\n",
    "    plt.yscale(\"log\")\n",
    "    plt.title(x)\n",
    "    plt.legend()\n",
    "    plt.show()"
   ]
  },
  {
   "cell_type": "code",
   "execution_count": null,
   "metadata": {},
   "outputs": [],
   "source": []
  }
 ],
 "metadata": {
  "kernelspec": {
   "display_name": "Python 3",
   "language": "python",
   "name": "python3"
  },
  "language_info": {
   "codemirror_mode": {
    "name": "ipython",
    "version": 3
   },
   "file_extension": ".py",
   "mimetype": "text/x-python",
   "name": "python",
   "nbconvert_exporter": "python",
   "pygments_lexer": "ipython3",
   "version": "3.9.12"
  }
 },
 "nbformat": 4,
 "nbformat_minor": 4
}
