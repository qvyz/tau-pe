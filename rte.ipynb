{
 "cells": [
  {
   "cell_type": "code",
   "execution_count": 23,
   "metadata": {},
   "outputs": [
    {
     "name": "stdout",
     "output_type": "stream",
     "text": [
      "2.6.4\n",
      "['L1TrackMET', 'L1EGbarrel', 'L1puppiExtJetSC4', 'L1TrackTripletWord', 'L1caloJet', 'L1puppiJetSC4sums', 'L1caloTau', 'L1nnCaloTau', 'L1puppiMET', 'L1EGendcap', 'L1TrackHT', 'L1puppiJetHisto', 'L1nnPuppiTau', 'L1puppiJetSC8', 'L1TrackJet', 'L1tkPhoton', 'L1puppiMLMET', 'L1gmtTkMuon', 'L1puppiHistoJetSums', 'L1PV', 'L1hpsTau', 'L1tkElectron', 'L1puppiJetSC4', 'L1gmtMuon']\n"
     ]
    }
   ],
   "source": [
    "import awkward as ak\n",
    "import numpy as np\n",
    "import pandas as pd\n",
    "import numba\n",
    "import glob\n",
    "from tqdm import tqdm\n",
    "print(ak.__version__)\n",
    "from particletools.tables import PYTHIAParticleData as dataname\n",
    "\n",
    "run_local = True\n",
    "debug = True\n",
    "if run_local:\n",
    "    filepath = \"/home/elias/taubus/minbias/V37nano_MinBias_*\"\n",
    "else:\n",
    "    filepath = \"/eos/user/e/eleutgeb/menutools/Phase2-L1MenuTools/cache/V37nano/V37nano_VBFHToTauTau*\"\n",
    "\n",
    "debug = True\n",
    "\n",
    "files = glob.glob(filepath)\n",
    "\n",
    "#Get the files:\n",
    "arrays = [ak.from_parquet(file) for file in files]\n",
    "# Get the objectnames:\n",
    "import re\n",
    "if run_local:\n",
    "    regex = re.compile(r'^{}|{}$'.format(re.escape(\"/home/elias/taubus/minbias/V37nano_MinBias_\"), re.escape(\".parquet\")))\n",
    "else: \n",
    "    regex = re.compile(r'^{}|{}$'.format(re.escape(\"/eos/user/e/eleutgeb/menutools/Phase2-L1MenuTools/cache/V37nano/V37nano_VBFHToTauTau_\"), re.escape(\".parquet\")))\n",
    "\n",
    "\n",
    "objectnames = [regex.sub(\"\",file) for file in files]\n",
    "print(objectnames)"
   ]
  },
  {
   "cell_type": "code",
   "execution_count": 24,
   "metadata": {},
   "outputs": [],
   "source": [
    "#Store objects in a dict\n",
    "objectsdict = dict()\n",
    "for idx,item in enumerate(objectnames): \n",
    "    objectsdict[item] = arrays[idx]"
   ]
  },
  {
   "cell_type": "code",
   "execution_count": 25,
   "metadata": {},
   "outputs": [],
   "source": [
    "calotaus = objectsdict[\"L1caloTau\"]\n",
    "nncalotaus = objectsdict[\"L1nnCaloTau\"]\n",
    "nntaus = objectsdict[\"L1nnPuppiTau\"]\n",
    "# jets = objectsdict[\"GenJet\"]\n",
    "# taus = objectsdict[\"GenVisTau\"]\n",
    "l1jets = objectsdict[\"L1puppiJetHisto\"]\n",
    "puppijets = objectsdict[\"L1puppiJetHisto\"]\n",
    "elecsbarrel = objectsdict[\"L1EGbarrel\"]\n",
    "elecsendcap = objectsdict[\"L1EGendcap\"]\n",
    "elecsendcap_gt =  ak.pad_none(elecsendcap,6,axis=1,clip=True)\n",
    "elecsbarrel_gt =  ak.pad_none(elecsbarrel,6,axis=1,clip=True)\n",
    "muons = objectsdict[\"L1gmtMuon\"]\n",
    "tkmuons = objectsdict[\"L1gmtTkMuon\"]\n",
    "met =objectsdict[\"L1TrackMET\"]\n",
    "calojets = objectsdict[\"L1caloJet\"]\n",
    "tkele = objectsdict[\"L1tkElectron\"]\n"
   ]
  },
  {
   "cell_type": "code",
   "execution_count": 26,
   "metadata": {},
   "outputs": [
    {
     "data": {
      "text/plain": [
       "['L1caloTau_eta', 'L1caloTau_phi', 'L1caloTau_pt']"
      ]
     },
     "execution_count": 26,
     "metadata": {},
     "output_type": "execute_result"
    }
   ],
   "source": [
    "calojets.fields\n",
    "calotaus.fields"
   ]
  },
  {
   "cell_type": "code",
   "execution_count": 27,
   "metadata": {},
   "outputs": [],
   "source": [
    "#helper functions:\n",
    "import vector\n",
    "vector.register_awkward()\n",
    "x = objectsdict[\"L1EGbarrel\"].fields\n",
    "\n",
    "\n",
    "def prepare_objects(dictobj):\n",
    "    fourvectordict = dict()\n",
    "    standardizeddict = dict()\n",
    "    vector.register_awkward()\n",
    "\n",
    "    for key,value in dictobj.items():\n",
    "        standardizeddict[key] = value\n",
    "        fields = value.fields\n",
    "        for field in fields:\n",
    "            standardname = field.replace(key+\"_\",\"\")\n",
    "            standardizeddict[key][standardname] = dictobj[key][field]\n",
    "            standardizeddict[key] = ak.without_field(standardizeddict[key],field)\n",
    "            dictobj[key] = ak.without_field(value,field)\n",
    "        print(key,\":\",standardizeddict[key].fields)\n",
    "        fourvectordict[key] =  ak.Array(standardizeddict[key],with_name=\"Momentum3D\")\n",
    "    return fourvectordict,standardizeddict\n",
    "\n",
    "\n",
    "\n",
    "    # # combining to numpy\n",
    "def prepare_for_ml(objects,padlist,namelist,pad_val = 0):\n",
    "    pad_arrs = []\n",
    "    var_names = []\n",
    "    for idx,object in enumerate(objects):\n",
    "        topad = padlist[idx]\n",
    "        name = namelist[idx]\n",
    "        \n",
    "        if topad == 1:\n",
    "            pad_arr = object\n",
    "        else:\n",
    "            pad_arr = ak.pad_none(object,topad,axis=1,clip=True)\n",
    "        for i in range(topad):\n",
    "            for var in object.fields:\n",
    "                if topad == 1:\n",
    "                    pad_arrs += [ak.to_numpy(pad_arr[var][:])]\n",
    "                else:\n",
    "                    pad_arrs += [ak.to_numpy( ak.fill_none(pad_arr[var][:,i], pad_val) )]\n",
    "                var_names.append( \"{}_{}_{}\".format(name, i, var) )\n",
    "    return var_names, pad_arrs \n",
    "\n",
    "\n"
   ]
  },
  {
   "cell_type": "code",
   "execution_count": 28,
   "metadata": {},
   "outputs": [
    {
     "name": "stdout",
     "output_type": "stream",
     "text": [
      "L1TrackMET : ['pt']\n",
      "L1EGbarrel : ['eleId', 'phoId', 'saId', 'hwQual', 'eta', 'phi', 'pt']\n"
     ]
    },
    {
     "name": "stdout",
     "output_type": "stream",
     "text": [
      "L1puppiExtJetSC4 : ['pt', 'eta', 'phi', 'btagScore']\n",
      "L1TrackTripletWord : ['pt']\n",
      "L1caloJet : ['pt', 'eta', 'phi']\n",
      "L1puppiJetSC4sums : ['pt', 'phi', 'sumType']\n",
      "L1caloTau : ['eta', 'phi', 'pt']\n",
      "L1nnCaloTau : ['hwIso', 'hwQual', 'eta', 'phi', 'pt']\n",
      "L1puppiMET : ['pt', 'phi']\n",
      "L1EGendcap : ['eleId', 'phoId', 'saId', 'hwQual', 'eta', 'phi', 'pt']\n",
      "L1TrackHT : ['ht', 'mht']\n",
      "L1puppiJetHisto : ['pt', 'eta', 'phi']\n",
      "L1nnPuppiTau : ['charge', 'id', 'passLooseNN', 'passLooseNNMass', 'passLoosePF', 'passMass', 'passTightNN', 'passTightNNMass', 'passTightPF', 'chargedIso', 'dXY', 'eta', 'fullIso', 'phi', 'pt', 'z0']\n",
      "L1puppiJetSC8 : ['pt', 'eta', 'phi']\n",
      "L1TrackJet : ['pt', 'eta', 'phi']\n",
      "L1tkPhoton : ['eleId', 'phoId', 'saId', 'hwEta', 'hwIso', 'hwPhi', 'hwPt', 'hwQual', 'eta', 'phi', 'pt', 'relIso']\n",
      "L1puppiMLMET : ['pt']\n",
      "L1gmtTkMuon : ['charge', 'chargeNoPh', 'hwBeta', 'hwEta', 'hwIso', 'hwPhi', 'hwPt', 'hwQual', 'd0', 'eta', 'phi', 'pt', 'z0']\n",
      "L1puppiHistoJetSums : ['pt', 'phi', 'sumType']\n",
      "L1PV : ['z0']\n",
      "L1hpsTau : ['eta', 'phi', 'pt']\n",
      "L1tkElectron : ['eleId', 'phoId', 'saId', 'hwEta', 'hwIso', 'hwPhi', 'hwPt', 'hwQual', 'charge', 'eta', 'phi', 'pt', 'relIso', 'z0']\n",
      "L1puppiJetSC4 : ['pt', 'eta', 'phi']\n",
      "L1gmtMuon : ['charge', 'chargeNoPh', 'hwBeta', 'hwEta', 'hwIso', 'hwPhi', 'hwPt', 'hwQual', 'd0', 'eta', 'phi', 'pt', 'z0']\n",
      "['eleId', 'phoId', 'saId', 'hwQual', 'eta', 'phi', 'pt']\n"
     ]
    }
   ],
   "source": [
    "padlist = [1,1,5,5,5,5,5]\n",
    "fourvectordict,standardizeddict = prepare_objects(objectsdict)\n",
    "objects = [standardizeddict[\"L1TrackMET\"],standardizeddict[\"L1TrackHT\"]]\n",
    "names = [\"L1TrackMET\",\"L1TrackHT\"]\n",
    "# del standardizeddict[\"L1EGbarrel\"][\"L1EGbarrel_eta\"]\n",
    "print(standardizeddict[\"L1EGbarrel\"].fields)\n",
    "inpnames,y = prepare_for_ml(objects,padlist,names)\n",
    "\n",
    "usecalo = 1\n",
    "if usecalo:\n",
    "    v4l1jets = fourvectordict[\"L1caloJet\"]\n",
    "    v4nntaus = fourvectordict[\"L1caloTau\"]\n",
    "    l1jets = standardizeddict[\"L1caloJet\"]\n",
    "    nntaus = standardizeddict[\"L1caloTau\"]\n",
    "else: \n",
    "    v4l1jets = fourvectordict[\"L1puppiJetHisto\"]\n",
    "    l1jets = standardizeddict[\"L1puppiJetHisto\"]\n",
    "    v4nntaus = fourvectordict[\"L1nnPuppiTau\"]\n",
    "    nntaus = standardizeddict[\"L1nnPuppiTau\"]\n",
    "\n"
   ]
  },
  {
   "cell_type": "code",
   "execution_count": 29,
   "metadata": {},
   "outputs": [
    {
     "name": "stdout",
     "output_type": "stream",
     "text": [
      "3\n",
      "L1TrackMET_0_pt 9.46875\n",
      "L1TrackHT_0_ht 19.0\n",
      "L1TrackHT_0_mht 12.4375\n",
      "3\n"
     ]
    }
   ],
   "source": [
    "# x = nntaus[0][0]\n",
    "# x.values()\n",
    "objarray = np.vstack(y)\n",
    "print(len(objarray[:,0]))\n",
    "len(inpnames)\n",
    "for idx,name in enumerate(inpnames):\n",
    "    print(name,objarray[idx,0])\n",
    "    \n",
    "#delta arrays:\n",
    "\n",
    "import vector\n",
    "if debug:\n",
    "    print(len(objarray[:,0]))\n",
    "\n",
    "len(nntaus)\n",
    "\n",
    "\n",
    "def objdeltas(obj1,obj2):\n",
    "    obj1  = obj2\n",
    "\n"
   ]
  },
  {
   "cell_type": "code",
   "execution_count": 30,
   "metadata": {},
   "outputs": [],
   "source": [
    "\n",
    "def DeltaRcalc(o1,o2):\n",
    "    #returns the delta in the dimensions of the second object with delta R  first objects, second\n",
    "    combo = ak.cartesian({\"offl\": o1,\"trgobj\": o2}, nested=True ,axis=-1)\n",
    "    off,trg = ak.unzip(combo)\n",
    "    deltaR = off.deltaR(trg)\n",
    "    return deltaR\n",
    "\n",
    "def mapObjects(o1,o2):\n",
    "    combo = ak.cartesian({\"offl\": o1,\"trgobj\": o2}, nested=True)\n",
    "    off,trg = ak.unzip(combo)\n",
    "    return off,trg\n",
    "\n",
    "\n",
    "def sortbydeltaR(o1,o2):\n",
    "    o1cart,o2cart = mapObjects(o1,o2)\n",
    "    dR = DeltaRcalc(o1,o2)\n",
    "    sorteddR = ak.argsort(dR)    \n",
    "    return sorteddR\n",
    "\n",
    "def dRtonumpy(o1,dr):\n",
    "    o1dR = o1[dr]\n",
    "    ttpad = ak.pad_none(o1dR,3,clip=True)\n",
    "    nptt = ak.to_numpy(ttpad)\n",
    "    npreg = sructured_to_unstructured(nptt)\n",
    "    return ak.fill_none(npreg)\n"
   ]
  },
  {
   "cell_type": "code",
   "execution_count": 31,
   "metadata": {},
   "outputs": [
    {
     "name": "stdout",
     "output_type": "stream",
     "text": [
      "[{eta: -2.65, phi: -1.44, pt: 39.9}, {...}, ..., {eta: -0.306, phi: 0.131, ...}]\n"
     ]
    }
   ],
   "source": [
    "#calculate DeltaR:\n",
    "dr = DeltaRcalc(fourvectordict[\"L1caloTau\"],fourvectordict[\"L1caloTau\"])\n",
    "# make flat pattern with empty fields, in this case where there are trigger taus and no gen taus:\n",
    "drleng = ak.num(dr)\n",
    "emptydr = drleng==0\n",
    "#calculate the non matched taus,this is used only for the mask:\n",
    "# Dr_greater = ak.any(dr >= 0.3,axis=-2,keepdims=True, mask_identity=False)  \n",
    "Dr_smaller = ak.any(dr < 0.3,axis=-2,keepdims=True, mask_identity=False)  \n",
    "Dr_greater = ~Dr_smaller\n",
    "\n",
    "temptaus = ak.mask(fourvectordict[\"L1caloTau\"],Dr_greater)\n",
    "# print(\"near\",v4truetaus[15])\n",
    "temp_length = ak.num(temptaus,axis=2)\n",
    "temp_mask = temp_length==0\n",
    "Dr_greater_flat = ak.flatten(Dr_greater,axis=-1)\n",
    "falsepattern = ak.where(emptydr,temp_mask,Dr_greater_flat)\n",
    "nntaus_no_near_taus = falsepattern\n",
    "nntaus_near_taus = ~ nntaus_no_near_taus\n",
    "tt = ak.mask(standardizeddict[\"L1caloTau\"],falsepattern)\n",
    "\n",
    "\n",
    "# nntaus_near_taus = ak.any(dr < 3,axis=1,keepdims=True, mask_identity=False)  \n",
    "# nntaus_no_near_taus = ak.any(dr >= 3,axis=1,keepdims=True, mask_identity=False)  \n",
    "\n",
    "#we also have to check where there are no hadronic taus in the event\n",
    "#done by counting dr values and then masking the list\n",
    "# drleng = ak.num(dr)\n",
    "# emptydr = ak.any(drleng == 0,axis=0, keepdims=True, mask_identity=False)\n",
    "# nntaus_near_taus = ak.any((dr < 0.3),axis=1)\n",
    "v4truetaus = ak.drop_none(ak.mask(fourvectordict[\"L1caloTau\"],nntaus_near_taus),axis=1)\n",
    "v4falsetaus =  ak.drop_none(ak.mask(fourvectordict[\"L1caloTau\"],nntaus_no_near_taus),axis=1)\n",
    "combo = ak.cartesian({\"trgobj\": v4truetaus,\"offl\": v4l1jets}, nested=True)\n",
    "offmu,trgobj = ak.unzip(combo)\n",
    "deltaRl1jets_nnTaus = offmu.deltaR(trgobj) #magic?!\n",
    "truejets = l1jets[ak.argmin(deltaRl1jets_nnTaus,axis=-1)]\n",
    "combo = ak.cartesian({\"trgobj\": v4falsetaus,\"offl\": v4l1jets}, nested=True)\n",
    "offmu,trgobj = ak.unzip(combo)\n",
    "deltaRl1jets_nnTaus = offmu.deltaR(trgobj) #magic?!\n",
    "falsejets = l1jets[ak.argmin(deltaRl1jets_nnTaus,axis=-1)]\n",
    "truetaus = ak.drop_none(ak.mask(standardizeddict[\"L1caloTau\"],nntaus_near_taus),axis=1)\n",
    "falsetaus = ak.drop_none(ak.mask(standardizeddict[\"L1caloTau\"],nntaus_no_near_taus),axis=1)\n",
    "print(v4truetaus[15])\n",
    "# test =  + ak.mask(standardizeddict[\"L1caloTau\"],emptydr)  \n",
    "# falsetaus = ak.concatenate(falsetaus,ak.drop_none(test,axis=-1),axis=1)\n"
   ]
  },
  {
   "cell_type": "code",
   "execution_count": 32,
   "metadata": {},
   "outputs": [
    {
     "data": {
      "text/html": [
       "<pre>[[True],\n",
       " [True],\n",
       " [True, True],\n",
       " [True, True, True],\n",
       " [],\n",
       " [True, True],\n",
       " [True],\n",
       " [True, True],\n",
       " [],\n",
       " [],\n",
       " ...,\n",
       " [True],\n",
       " [],\n",
       " [],\n",
       " [],\n",
       " [True, True],\n",
       " [True],\n",
       " [True],\n",
       " [],\n",
       " [True, True]]\n",
       "--------------------------\n",
       "type: 1747709 * var * bool</pre>"
      ],
      "text/plain": [
       "<Array [[True], [True], ..., [], [True, True]] type='1747709 * var * bool'>"
      ]
     },
     "execution_count": 32,
     "metadata": {},
     "output_type": "execute_result"
    }
   ],
   "source": [
    "nntaus_near_taus\n",
    "\n"
   ]
  },
  {
   "cell_type": "code",
   "execution_count": 33,
   "metadata": {},
   "outputs": [
    {
     "name": "stdout",
     "output_type": "stream",
     "text": [
      "before ['charge', 'chargeNoPh', 'hwBeta', 'hwEta', 'hwIso', 'hwPhi', 'hwPt', 'hwQual', 'd0', 'eta', 'phi', 'pt', 'z0']\n",
      "after ['charge', 'chargeNoPh', 'hwBeta', 'hwEta', 'hwIso', 'hwPhi', 'hwPt', 'hwQual']\n",
      "before ['charge', 'chargeNoPh', 'hwBeta', 'hwEta', 'hwIso', 'hwPhi', 'hwPt', 'hwQual', 'd0', 'eta', 'phi', 'pt', 'z0']\n",
      "after ['charge', 'chargeNoPh', 'hwBeta', 'hwEta', 'hwIso', 'hwPhi', 'hwPt', 'hwQual']\n",
      "before ['eleId', 'phoId', 'saId', 'hwEta', 'hwIso', 'hwPhi', 'hwPt', 'hwQual', 'eta', 'phi', 'pt', 'relIso']\n",
      "after ['eleId', 'phoId', 'saId', 'hwEta', 'hwIso', 'hwPhi', 'hwPt', 'hwQual', 'relIso']\n",
      "before ['eleId', 'phoId', 'saId', 'hwEta', 'hwIso', 'hwPhi', 'hwPt', 'hwQual', 'charge', 'eta', 'phi', 'pt', 'relIso', 'z0']\n",
      "after ['eleId', 'phoId', 'saId', 'hwEta', 'hwIso', 'hwPhi', 'hwPt', 'hwQual', 'charge', 'relIso']\n",
      "0\n",
      "0\n",
      "0\n",
      "0\n",
      "0\n",
      "0\n",
      "0\n"
     ]
    }
   ],
   "source": [
    "\n",
    "# muonstrue,b = ak.broadcast_arrays(standardizeddict[\"L1gmtMuon\"],v4truetaus, depth_limit=1)\n",
    "# v4muonstrue,b = ak.broadcast_arrays(fourvectordict[\"L1gmtMuon\"],v4truetaus, depth_limit=2)\n",
    "# test = ak.drop_none(v4muonstrue)\n",
    "# drmu = DeltaRcalc(v4truetaus,fourvectordict[\"L1gmtMuon\"])\n",
    "# test = ak.argsort(drmu)\n",
    "# test.type.show()\n",
    "# drmu.type.show()\n",
    "\n",
    "# b.type.show()\n",
    "# x = fourvectordict[\"L1gmtMuon\"]\n",
    "# v4muonstrue[test]\n",
    "# for l in range(len(drmu)):\n",
    "#     tt = fourvectordict[\"L1gmtMuon\"][l]\n",
    "#     print(l)\n",
    "#     tt[test[l]]\n",
    "# fourvectordict[\"L1gmtMuon\"][547]\n",
    "# standardizeddict[\"L1gmtMuon\"][ak.argsort(deltartaumuons,axis=1)]\n",
    "\n",
    "def PrepareReldR(a,b,c,d,sort):\n",
    "    f,g = mapObjects(a,b)\n",
    "    drmu = DeltaRcalc(c,d)\n",
    "    tts = ak.argsort(drmu)\n",
    "    muonssorted = g[tts]\n",
    "    # test = ak.any(nntaus_near_taus,axis=1)\n",
    "    mm = ak.flatten(muonssorted[ak.any(sort,axis=1)],axis=1)\n",
    "    return mm\n",
    "# v4l1jets = fourvectordict[\"L1puppiJetHisto\"]\n",
    "\n",
    "removal = [\"L1gmtMuon\",\n",
    "\"L1gmtTkMuon\",\n",
    "\"L1tkPhoton\",\n",
    "\"L1tkElectron\",\n",
    "]\n",
    "for i in removal:\n",
    "    print(\"before\",standardizeddict[i].fields)\n",
    "    standardizeddict[i] = ak.without_field(standardizeddict[i],'pt')\n",
    "    standardizeddict[i] = ak.without_field(standardizeddict[i],'eta')\n",
    "    standardizeddict[i] = ak.without_field(standardizeddict[i],'phi')\n",
    "    if 'd0' in standardizeddict[i].fields:\n",
    "        standardizeddict[i] = ak.without_field(standardizeddict[i],'d0')\n",
    "    if 'z0' in standardizeddict[i].fields:\n",
    "        standardizeddict[i] = ak.without_field(standardizeddict[i],'z0')\n",
    "    print(\"after\",standardizeddict[i].fields)\n",
    "# truecalojets = PrepareReldR(truetaus,standardizeddict[\"L1caloJet\"],v4truetaus,fourvectordict[\"L1caloJet\"],nntaus_near_taus)\n",
    "# falsecalojets = PrepareReldR(falsetaus,standardizeddict[\"L1caloJet\"],v4falsetaus,fourvectordict[\"L1caloJet\"],~nntaus_near_taus)\n",
    "truemuons = PrepareReldR(truetaus,standardizeddict[\"L1gmtMuon\"],v4truetaus,fourvectordict[\"L1gmtMuon\"],nntaus_near_taus)\n",
    "falsemuons = PrepareReldR(falsetaus,standardizeddict[\"L1gmtMuon\"],v4falsetaus,fourvectordict[\"L1gmtMuon\"],~nntaus_near_taus)\n",
    "truetkmuons = PrepareReldR(truetaus,standardizeddict[\"L1gmtTkMuon\"],v4truetaus,fourvectordict[\"L1gmtTkMuon\"],nntaus_near_taus)\n",
    "falsetkmuons = PrepareReldR(falsetaus,standardizeddict[\"L1gmtTkMuon\"],v4falsetaus,fourvectordict[\"L1gmtTkMuon\"],~nntaus_near_taus)\n",
    "trueg = PrepareReldR(truetaus,standardizeddict[\"L1tkPhoton\"],v4truetaus,fourvectordict[\"L1tkPhoton\"],nntaus_near_taus)\n",
    "falseg = PrepareReldR(falsetaus,standardizeddict[\"L1tkPhoton\"],v4falsetaus,fourvectordict[\"L1tkPhoton\"],~nntaus_near_taus)\n",
    "trueeles = PrepareReldR(truetaus,standardizeddict[\"L1tkElectron\"],v4truetaus,fourvectordict[\"L1tkElectron\"],nntaus_near_taus)\n",
    "falseeles = PrepareReldR(falsetaus,standardizeddict[\"L1tkElectron\"],v4falsetaus,fourvectordict[\"L1tkElectron\"],~nntaus_near_taus)\n",
    "truej = PrepareReldR(truetaus,standardizeddict[\"L1puppiJetHisto\"],v4truetaus,fourvectordict[\"L1puppiJetHisto\"],nntaus_near_taus)\n",
    "falsej = PrepareReldR(falsetaus,standardizeddict[\"L1puppiJetHisto\"],v4falsetaus,fourvectordict[\"L1puppiJetHisto\"],~nntaus_near_taus)\n",
    "truecaloeb = PrepareReldR(truetaus,standardizeddict[\"L1EGbarrel\"],v4truetaus,fourvectordict[\"L1EGbarrel\"],nntaus_near_taus)\n",
    "falsecaloeb = PrepareReldR(falsetaus,standardizeddict[\"L1EGbarrel\"],v4falsetaus,fourvectordict[\"L1EGbarrel\"],~nntaus_near_taus)\n",
    "truecaloee = PrepareReldR(truetaus,standardizeddict[\"L1EGendcap\"],v4truetaus,fourvectordict[\"L1EGendcap\"],nntaus_near_taus)\n",
    "falsecaloee = PrepareReldR(falsetaus,standardizeddict[\"L1EGendcap\"],v4falsetaus,fourvectordict[\"L1EGendcap\"],~nntaus_near_taus)\n",
    "\n",
    "tobemapped = [truemuons,trueeles,trueg,truej,truecaloeb,truecaloee, truetkmuons]\n",
    "ls = truemuons.fields + trueeles.fields + trueg.fields + truej.fields + truecaloeb.fields + truecaloee.fields + truetkmuons.fields\n",
    "names = [\"L1gmtMuon\",\n",
    "\"L1gmtTkMuon\",\n",
    "\"L1tkPhoton\",\n",
    "\"L1tkElectron\",\n",
    "\"L1puppiJetHisto\",\n",
    "\"L1EGbarrel\",\n",
    "\"L1EGendcap\"]\n",
    "#remove non physical vals:\n",
    "\n",
    "padlist = [5,5,5,5,5,5,5,5]\n",
    "drtruenames, drtruevals = prepare_for_ml(tobemapped,padlist,names)\n",
    "\n",
    "\n",
    "tobemapped = [falsemuons,falseeles,falseg,falsej,falsecaloeb,falsecaloee, falsetkmuons]\n",
    "for item in tobemapped:\n",
    "    print(len(item))\n",
    "ls = falsemuons.fields + falseeles.fields  + falseg.fields + falsej.fields + falsecaloeb.fields + falsecaloee.fields + falsetkmuons.fields\n",
    "#padlist = [5,5,5,5]\n",
    "drfnames, temp = prepare_for_ml(tobemapped,padlist,names)\n",
    "\n",
    "drfvals = np.vstack(temp)\n",
    "drtruevals = np.vstack(drtruevals)\n",
    "drtruevals =np.swapaxes(drtruevals,0,1)\n",
    "drfvals =np.swapaxes(drfvals,0,1)\n",
    "drfvals = ak.to_numpy(drfvals)\n",
    "drtruevals = ak.to_numpy(drtruevals)\n",
    "\n",
    "from numpy.lib.recfunctions import structured_to_unstructured\n",
    "# drfvals = structured_to_unstructured(drfvals)\n",
    "# drtruevals = structured_to_unstructured(drtruevals)\n",
    "\n",
    "# f,g = mapObjects(truetaus,standardizeddict[\"L1gmtMuon\"])\n",
    "# drmu = DeltaRcalc(v4truetaus,fourvectordict[\"L1gmtMuon\"])\n",
    "# # tt = f.deltaR(g)\n",
    "# tts = ak.argsort(drmu)\n",
    "# # bb,muons = ak.unzip(ak.cartesian([truetaus,standardizeddict[\"L1gmtMuon\"]]))\n",
    "# muonssorted = g[tts]\n",
    "# # test = ak.any(nntaus_near_taus,axis=1)\n",
    "# mm = ak.flatten(muonssorted[ak.any(nntaus_near_taus,axis=1)],axis=1)\n",
    "# mm.type.show()\n",
    "# ttflat = ak.flatten(truetaus)\n",
    "# ttflat.type.show()\n"
   ]
  },
  {
   "cell_type": "code",
   "execution_count": 34,
   "metadata": {},
   "outputs": [
    {
     "name": "stdout",
     "output_type": "stream",
     "text": [
      "269\n",
      "['calojets_pt', 'calojets_eta', 'calojets_phi', 'calotaus_eta', 'calotaus_phi', 'calotaus_pt', 'L1TrackMET_0_pt', 'L1TrackHT_0_ht', 'L1TrackHT_0_mht', 'L1gmtMuon_0_charge', 'L1gmtMuon_0_chargeNoPh', 'L1gmtMuon_0_hwBeta', 'L1gmtMuon_0_hwEta', 'L1gmtMuon_0_hwIso', 'L1gmtMuon_0_hwPhi', 'L1gmtMuon_0_hwPt', 'L1gmtMuon_0_hwQual', 'L1gmtMuon_1_charge', 'L1gmtMuon_1_chargeNoPh', 'L1gmtMuon_1_hwBeta', 'L1gmtMuon_1_hwEta', 'L1gmtMuon_1_hwIso', 'L1gmtMuon_1_hwPhi', 'L1gmtMuon_1_hwPt', 'L1gmtMuon_1_hwQual', 'L1gmtMuon_2_charge', 'L1gmtMuon_2_chargeNoPh', 'L1gmtMuon_2_hwBeta', 'L1gmtMuon_2_hwEta', 'L1gmtMuon_2_hwIso', 'L1gmtMuon_2_hwPhi', 'L1gmtMuon_2_hwPt', 'L1gmtMuon_2_hwQual', 'L1gmtMuon_3_charge', 'L1gmtMuon_3_chargeNoPh', 'L1gmtMuon_3_hwBeta', 'L1gmtMuon_3_hwEta', 'L1gmtMuon_3_hwIso', 'L1gmtMuon_3_hwPhi', 'L1gmtMuon_3_hwPt', 'L1gmtMuon_3_hwQual', 'L1gmtMuon_4_charge', 'L1gmtMuon_4_chargeNoPh', 'L1gmtMuon_4_hwBeta', 'L1gmtMuon_4_hwEta', 'L1gmtMuon_4_hwIso', 'L1gmtMuon_4_hwPhi', 'L1gmtMuon_4_hwPt', 'L1gmtMuon_4_hwQual', 'L1gmtTkMuon_0_eleId', 'L1gmtTkMuon_0_phoId', 'L1gmtTkMuon_0_saId', 'L1gmtTkMuon_0_hwEta', 'L1gmtTkMuon_0_hwIso', 'L1gmtTkMuon_0_hwPhi', 'L1gmtTkMuon_0_hwPt', 'L1gmtTkMuon_0_hwQual', 'L1gmtTkMuon_0_charge', 'L1gmtTkMuon_0_relIso', 'L1gmtTkMuon_1_eleId', 'L1gmtTkMuon_1_phoId', 'L1gmtTkMuon_1_saId', 'L1gmtTkMuon_1_hwEta', 'L1gmtTkMuon_1_hwIso', 'L1gmtTkMuon_1_hwPhi', 'L1gmtTkMuon_1_hwPt', 'L1gmtTkMuon_1_hwQual', 'L1gmtTkMuon_1_charge', 'L1gmtTkMuon_1_relIso', 'L1gmtTkMuon_2_eleId', 'L1gmtTkMuon_2_phoId', 'L1gmtTkMuon_2_saId', 'L1gmtTkMuon_2_hwEta', 'L1gmtTkMuon_2_hwIso', 'L1gmtTkMuon_2_hwPhi', 'L1gmtTkMuon_2_hwPt', 'L1gmtTkMuon_2_hwQual', 'L1gmtTkMuon_2_charge', 'L1gmtTkMuon_2_relIso', 'L1gmtTkMuon_3_eleId', 'L1gmtTkMuon_3_phoId', 'L1gmtTkMuon_3_saId', 'L1gmtTkMuon_3_hwEta', 'L1gmtTkMuon_3_hwIso', 'L1gmtTkMuon_3_hwPhi', 'L1gmtTkMuon_3_hwPt', 'L1gmtTkMuon_3_hwQual', 'L1gmtTkMuon_3_charge', 'L1gmtTkMuon_3_relIso', 'L1gmtTkMuon_4_eleId', 'L1gmtTkMuon_4_phoId', 'L1gmtTkMuon_4_saId', 'L1gmtTkMuon_4_hwEta', 'L1gmtTkMuon_4_hwIso', 'L1gmtTkMuon_4_hwPhi', 'L1gmtTkMuon_4_hwPt', 'L1gmtTkMuon_4_hwQual', 'L1gmtTkMuon_4_charge', 'L1gmtTkMuon_4_relIso', 'L1tkPhoton_0_eleId', 'L1tkPhoton_0_phoId', 'L1tkPhoton_0_saId', 'L1tkPhoton_0_hwEta', 'L1tkPhoton_0_hwIso', 'L1tkPhoton_0_hwPhi', 'L1tkPhoton_0_hwPt', 'L1tkPhoton_0_hwQual', 'L1tkPhoton_0_relIso', 'L1tkPhoton_1_eleId', 'L1tkPhoton_1_phoId', 'L1tkPhoton_1_saId', 'L1tkPhoton_1_hwEta', 'L1tkPhoton_1_hwIso', 'L1tkPhoton_1_hwPhi', 'L1tkPhoton_1_hwPt', 'L1tkPhoton_1_hwQual', 'L1tkPhoton_1_relIso', 'L1tkPhoton_2_eleId', 'L1tkPhoton_2_phoId', 'L1tkPhoton_2_saId', 'L1tkPhoton_2_hwEta', 'L1tkPhoton_2_hwIso', 'L1tkPhoton_2_hwPhi', 'L1tkPhoton_2_hwPt', 'L1tkPhoton_2_hwQual', 'L1tkPhoton_2_relIso', 'L1tkPhoton_3_eleId', 'L1tkPhoton_3_phoId', 'L1tkPhoton_3_saId', 'L1tkPhoton_3_hwEta', 'L1tkPhoton_3_hwIso', 'L1tkPhoton_3_hwPhi', 'L1tkPhoton_3_hwPt', 'L1tkPhoton_3_hwQual', 'L1tkPhoton_3_relIso', 'L1tkPhoton_4_eleId', 'L1tkPhoton_4_phoId', 'L1tkPhoton_4_saId', 'L1tkPhoton_4_hwEta', 'L1tkPhoton_4_hwIso', 'L1tkPhoton_4_hwPhi', 'L1tkPhoton_4_hwPt', 'L1tkPhoton_4_hwQual', 'L1tkPhoton_4_relIso', 'L1tkElectron_0_pt', 'L1tkElectron_0_eta', 'L1tkElectron_0_phi', 'L1tkElectron_1_pt', 'L1tkElectron_1_eta', 'L1tkElectron_1_phi', 'L1tkElectron_2_pt', 'L1tkElectron_2_eta', 'L1tkElectron_2_phi', 'L1tkElectron_3_pt', 'L1tkElectron_3_eta', 'L1tkElectron_3_phi', 'L1tkElectron_4_pt', 'L1tkElectron_4_eta', 'L1tkElectron_4_phi', 'L1puppiJetHisto_0_eleId', 'L1puppiJetHisto_0_phoId', 'L1puppiJetHisto_0_saId', 'L1puppiJetHisto_0_hwQual', 'L1puppiJetHisto_0_eta', 'L1puppiJetHisto_0_phi', 'L1puppiJetHisto_0_pt', 'L1puppiJetHisto_1_eleId', 'L1puppiJetHisto_1_phoId', 'L1puppiJetHisto_1_saId', 'L1puppiJetHisto_1_hwQual', 'L1puppiJetHisto_1_eta', 'L1puppiJetHisto_1_phi', 'L1puppiJetHisto_1_pt', 'L1puppiJetHisto_2_eleId', 'L1puppiJetHisto_2_phoId', 'L1puppiJetHisto_2_saId', 'L1puppiJetHisto_2_hwQual', 'L1puppiJetHisto_2_eta', 'L1puppiJetHisto_2_phi', 'L1puppiJetHisto_2_pt', 'L1puppiJetHisto_3_eleId', 'L1puppiJetHisto_3_phoId', 'L1puppiJetHisto_3_saId', 'L1puppiJetHisto_3_hwQual', 'L1puppiJetHisto_3_eta', 'L1puppiJetHisto_3_phi', 'L1puppiJetHisto_3_pt', 'L1puppiJetHisto_4_eleId', 'L1puppiJetHisto_4_phoId', 'L1puppiJetHisto_4_saId', 'L1puppiJetHisto_4_hwQual', 'L1puppiJetHisto_4_eta', 'L1puppiJetHisto_4_phi', 'L1puppiJetHisto_4_pt', 'L1EGbarrel_0_eleId', 'L1EGbarrel_0_phoId', 'L1EGbarrel_0_saId', 'L1EGbarrel_0_hwQual', 'L1EGbarrel_0_eta', 'L1EGbarrel_0_phi', 'L1EGbarrel_0_pt', 'L1EGbarrel_1_eleId', 'L1EGbarrel_1_phoId', 'L1EGbarrel_1_saId', 'L1EGbarrel_1_hwQual', 'L1EGbarrel_1_eta', 'L1EGbarrel_1_phi', 'L1EGbarrel_1_pt', 'L1EGbarrel_2_eleId', 'L1EGbarrel_2_phoId', 'L1EGbarrel_2_saId', 'L1EGbarrel_2_hwQual', 'L1EGbarrel_2_eta', 'L1EGbarrel_2_phi', 'L1EGbarrel_2_pt', 'L1EGbarrel_3_eleId', 'L1EGbarrel_3_phoId', 'L1EGbarrel_3_saId', 'L1EGbarrel_3_hwQual', 'L1EGbarrel_3_eta', 'L1EGbarrel_3_phi', 'L1EGbarrel_3_pt', 'L1EGbarrel_4_eleId', 'L1EGbarrel_4_phoId', 'L1EGbarrel_4_saId', 'L1EGbarrel_4_hwQual', 'L1EGbarrel_4_eta', 'L1EGbarrel_4_phi', 'L1EGbarrel_4_pt', 'L1EGendcap_0_charge', 'L1EGendcap_0_chargeNoPh', 'L1EGendcap_0_hwBeta', 'L1EGendcap_0_hwEta', 'L1EGendcap_0_hwIso', 'L1EGendcap_0_hwPhi', 'L1EGendcap_0_hwPt', 'L1EGendcap_0_hwQual', 'L1EGendcap_1_charge', 'L1EGendcap_1_chargeNoPh', 'L1EGendcap_1_hwBeta', 'L1EGendcap_1_hwEta', 'L1EGendcap_1_hwIso', 'L1EGendcap_1_hwPhi', 'L1EGendcap_1_hwPt', 'L1EGendcap_1_hwQual', 'L1EGendcap_2_charge', 'L1EGendcap_2_chargeNoPh', 'L1EGendcap_2_hwBeta', 'L1EGendcap_2_hwEta', 'L1EGendcap_2_hwIso', 'L1EGendcap_2_hwPhi', 'L1EGendcap_2_hwPt', 'L1EGendcap_2_hwQual', 'L1EGendcap_3_charge', 'L1EGendcap_3_chargeNoPh', 'L1EGendcap_3_hwBeta', 'L1EGendcap_3_hwEta', 'L1EGendcap_3_hwIso', 'L1EGendcap_3_hwPhi', 'L1EGendcap_3_hwPt', 'L1EGendcap_3_hwQual', 'L1EGendcap_4_charge', 'L1EGendcap_4_chargeNoPh', 'L1EGendcap_4_hwBeta', 'L1EGendcap_4_hwEta', 'L1EGendcap_4_hwIso', 'L1EGendcap_4_hwPhi', 'L1EGendcap_4_hwPt', 'L1EGendcap_4_hwQual']\n"
     ]
    }
   ],
   "source": [
    "truejetsnames = [\"calojets_\" + i for i in truejets.fields]\n",
    "truetausnames = [\"calotaus_\" + i for i in truetaus.fields]\n",
    "\n",
    "names = truejetsnames + truetausnames + inpnames + drfnames\n",
    "print(len(names))\n",
    "print(names)"
   ]
  },
  {
   "cell_type": "code",
   "execution_count": 35,
   "metadata": {},
   "outputs": [],
   "source": [
    "#prepare trues:\n",
    "#broadcast other objects to the form of truetaus:\n",
    "#first flip axis\n",
    "objswapped =np.swapaxes(objarray,0,1)\n",
    "objswappedak = ak.Array(objswapped)\n",
    "#output arrays\n",
    "tobj,b = ak.broadcast_arrays(objswappedak[:,np.newaxis],truetaus)\n",
    "tobjflat =ak.flatten(tobj)\n",
    "nptobjflat = ak.to_numpy(tobjflat)\n",
    "#transform truetaus to numpy\n",
    "ttflat = ak.flatten(truetaus)\n",
    "npttflat = ak.to_numpy(ttflat)\n",
    "tjflat = ak.flatten(truejets)\n",
    "nptjflat = ak.to_numpy(tjflat)\n",
    "\n",
    "from numpy.lib.recfunctions import structured_to_unstructured\n",
    "unstructuredtruetaus = structured_to_unstructured(npttflat)\n",
    "unstructuredtruejets = structured_to_unstructured(nptjflat)\n"
   ]
  },
  {
   "cell_type": "code",
   "execution_count": 36,
   "metadata": {},
   "outputs": [],
   "source": [
    "\n",
    "trues = np.concatenate((unstructuredtruejets,unstructuredtruetaus,nptobjflat,drtruevals),axis=1)\n",
    "\n",
    "#prepare trues:\n",
    "#broadcast other objects to the form of truetaus:\n",
    "#first flip axis\n",
    "objswapped =np.swapaxes(objarray,0,1)\n",
    "objswappedak = ak.Array(objswapped)\n",
    "#output arrays\n",
    "tobj,b = ak.broadcast_arrays(objswappedak[:,np.newaxis],falsetaus)\n",
    "tobjflat =ak.flatten(tobj)\n",
    "nptobjflat = ak.to_numpy(tobjflat)\n",
    "#transform truetaus to numpy\n",
    "ttflat = ak.flatten(falsetaus)\n",
    "npttflat = ak.to_numpy(ttflat)\n",
    "tjflat = ak.flatten(falsejets)\n",
    "nptjflat = ak.to_numpy(tjflat)\n",
    "\n",
    "from numpy.lib.recfunctions import structured_to_unstructured\n",
    "unstructuredtruetaus = structured_to_unstructured(npttflat)\n",
    "unstructuredtruejets = structured_to_unstructured(nptjflat)\n",
    "\n",
    "falses = np.concatenate((unstructuredtruejets,unstructuredtruetaus,nptobjflat,drfvals),axis=1)\n",
    "x_sig = trues\n",
    "x_bkg = falses\n",
    "\n",
    " # creating labels\n",
    "y_bkg = np.zeros(len(x_bkg))\n",
    "y_sig = np.ones(len(x_sig))\n",
    "\n",
    "# combining signal & bkg\n",
    "x = np.concatenate((x_bkg, x_sig))\n",
    "y = np.concatenate((y_bkg, y_sig))\n"
   ]
  },
  {
   "cell_type": "code",
   "execution_count": 39,
   "metadata": {},
   "outputs": [
    {
     "data": {
      "text/plain": [
       "masked_array(\n",
       "  data=[[42.2421875 , -0.56750488,  2.8359375 , ...,  0.        ,\n",
       "          0.        ,  0.        ],\n",
       "        [44.1953125 ,  1.26586914,  0.65454102, ...,  0.        ,\n",
       "          0.        ,  0.        ],\n",
       "        [30.48046875, -0.8293457 ,  2.3125    , ...,  0.        ,\n",
       "          0.        ,  0.        ],\n",
       "        ...,\n",
       "        [42.7265625 , -0.74206543,  1.17797852, ...,  0.        ,\n",
       "          0.        ,  0.        ],\n",
       "        [76.734375  , -2.65332031, -2.48730469, ...,  0.        ,\n",
       "          0.        ,  0.        ],\n",
       "        [42.1953125 ,  0.21826172, -2.22509766, ...,  0.        ,\n",
       "          0.        ,  0.        ]],\n",
       "  mask=False,\n",
       "  fill_value=1e+20)"
      ]
     },
     "execution_count": 39,
     "metadata": {},
     "output_type": "execute_result"
    }
   ],
   "source": [
    "\n",
    "x_sig"
   ]
  },
  {
   "cell_type": "code",
   "execution_count": 14,
   "metadata": {},
   "outputs": [
    {
     "name": "stdout",
     "output_type": "stream",
     "text": [
      "outdir:   minbias_outputs_for_rate_2024_08_19-10_54_29_AM/\n",
      "269\n",
      "{0: 1.0}\n"
     ]
    }
   ],
   "source": [
    "\n",
    "from pickle import load\n",
    "from sklearn.preprocessing import StandardScaler\n",
    "inpath = \"/home/elias/taubus/outputs_for_training_2024_08_16-05_41_00_PM/\"\n",
    "\n",
    "scaler = load(open(\"/home/elias/taubus/outputs_for_training_2024_08_16-05_41_00_PM/scaler.pkl\", 'rb'))\n",
    "x_scaled = scaler.transform(x)\n",
    "import os\n",
    "from datetime import datetime\n",
    "\n",
    "datenow = datetime.now().strftime(\"%Y_%m_%d-%I_%M_%S_%p\")\n",
    "outdir = \"minbias_outputs_for_rate_{}/\".format(datenow)\n",
    "if not os.path.exists(outdir):\n",
    "    os.makedirs(outdir)\n",
    "\n",
    "print(\"outdir:  \",outdir)\n",
    "from sklearn.model_selection import train_test_split\n",
    "\n",
    "X_train, X_test, y_train, y_test = train_test_split(x_scaled, y, test_size=0.4)\n",
    "print(X_train.shape[1])\n",
    "from sklearn.utils.class_weight import compute_class_weight\n",
    "\n",
    "#weighing trues and false\n",
    "class_weights = compute_class_weight(class_weight=\"balanced\", classes=np.unique(y_train), y=y_train)\n",
    "\n",
    "# Convert class_weights to a dictionary\n",
    "class_weight_dict = dict(enumerate(class_weights))\n",
    "print(class_weight_dict)\n"
   ]
  },
  {
   "cell_type": "code",
   "execution_count": 15,
   "metadata": {},
   "outputs": [
    {
     "name": "stderr",
     "output_type": "stream",
     "text": [
      "2024-08-19 10:54:46.125989: I tensorflow/tsl/cuda/cudart_stub.cc:28] Could not find cuda drivers on your machine, GPU will not be used.\n",
      "2024-08-19 10:54:46.730195: I tensorflow/tsl/cuda/cudart_stub.cc:28] Could not find cuda drivers on your machine, GPU will not be used.\n",
      "2024-08-19 10:54:46.732529: I tensorflow/core/platform/cpu_feature_guard.cc:182] This TensorFlow binary is optimized to use available CPU instructions in performance-critical operations.\n",
      "To enable the following instructions: AVX2 FMA, in other operations, rebuild TensorFlow with the appropriate compiler flags.\n",
      "2024-08-19 10:54:47.888615: W tensorflow/compiler/tf2tensorrt/utils/py_utils.cc:38] TF-TRT Warning: Could not find TensorRT\n",
      "2024-08-19 10:54:57.346281: W tensorflow/tsl/framework/cpu_allocator_impl.cc:83] Allocation of 1908919764 exceeds 10% of free system memory.\n"
     ]
    },
    {
     "name": "stdout",
     "output_type": "stream",
     "text": [
      "55441/55441 [==============================] - 63s 1ms/step\n"
     ]
    }
   ],
   "source": [
    "\n",
    "from keras.models import load_model\n",
    "\n",
    "# save_dir = 'models_20240816_123456'  # Replace with your directory\n",
    "# model_name = 'model_cloned_1'  # Replace with your model name\n",
    "# model_path = os.path.join(save_dir, model_name)\n",
    "loaded_model = load_model(\"/home/elias/taubus/models_20240817_124429/lrs2.keras\")\n",
    "predictions = loaded_model.predict((x_scaled))"
   ]
  },
  {
   "cell_type": "code",
   "execution_count": 16,
   "metadata": {},
   "outputs": [
    {
     "name": "stdout",
     "output_type": "stream",
     "text": [
      "minbias_outputs_for_rate_2024_08_19-10_54_29_AM/\n"
     ]
    }
   ],
   "source": [
    "xx = ak.unflatten(predictions,ak.num(standardizeddict[\"L1caloTau\"]))\n",
    "for i in range(1000):\n",
    "    if len(standardizeddict[\"L1caloTau\"][i]) != len(xx[i]):\n",
    "        print(i,len(standardizeddict[\"L1caloTau\"][i]))\n",
    "        print(len(xx[i]))\n",
    "\n"
   ]
  },
  {
   "cell_type": "code",
   "execution_count": 19,
   "metadata": {},
   "outputs": [
    {
     "name": "stdout",
     "output_type": "stream",
     "text": [
      "\\begin{table}[] \n",
      "\\begin{tabular}{lll} \n",
      "Model: test \\\\ \\hline \n",
      " Layer (type)                  & Output Shape                & Param \\#    \\\\ \\hline \\hline \n",
      " fc1 (Dense)                   & (None, 192)                 & 51840      \\\\ \\hline \n",
      " relu1 (Activation)            & (None, 192)                 & 0          \\\\ \\hline \n",
      " dropout (Dropout)             & (None, 192)                 & 0          \\\\ \\hline \n",
      " fc2 (Dense)                   & (None, 384)                 & 74112      \\\\ \\hline \n",
      " relu2 (Activation)            & (None, 384)                 & 0          \\\\ \\hline \n",
      " dropout\\_1 (Dropout)           & (None, 384)                 & 0          \\\\ \\hline \n",
      " fc3 (Dense)                   & (None, 144)                 & 55440      \\\\ \\hline \n",
      " relu3 (Activation)            & (None, 144)                 & 0          \\\\ \\hline \n",
      " dropout\\_2 (Dropout)           & (None, 144)                 & 0          \\\\ \\hline \n",
      " output (Dense)                & (None, 1)                   & 145        \\\\ \\hline \n",
      " sigmoid (Activation)          & (None, 1)                   & 0          \\\\ \\hline \n",
      "===============================& ============================& ===========\\\\ \\hline \\hline \n",
      "Total params: 181537 (709.13 KB) \\\\ \n",
      "Trainable params: 181537 (709.13 KB) \\\\ \n",
      "Non-trainable params: 0 (0.00 Byte) \\\\ \\hline \n",
      "\\end{tabular} \n",
      "\\caption{Model summary for test.} \n",
      "\\label{tab:model-summary} \n",
      "\\end{table}\n"
     ]
    }
   ],
   "source": [
    "def m2tex(model):\n",
    "    stringlist = []\n",
    "    model.summary(line_length=70, print_fn=lambda x: stringlist.append(x))\n",
    "    del stringlist[1:-4:2]\n",
    "    del stringlist[-1]\n",
    "    for ix in range(1,len(stringlist)-3):\n",
    "        tmp = stringlist[ix]\n",
    "        stringlist[ix] = tmp[0:31]+\"& \"+tmp[31:59]+\"& \"+tmp[59:]+\"\\\\\\\\ \\hline\"\n",
    "    stringlist[0] = \"Model: test \\\\\\\\ \\hline\"\n",
    "    stringlist[1] = stringlist[1]+\" \\hline\"\n",
    "    stringlist[-4] = stringlist[-4]+\" \\hline\"\n",
    "    stringlist[-3] = stringlist[-3]+\" \\\\\\\\\"\n",
    "    stringlist[-2] = stringlist[-2]+\" \\\\\\\\\"\n",
    "    stringlist[-1] = stringlist[-1]+\" \\\\\\\\ \\hline\"\n",
    "    prefix = [\"\\\\begin{table}[]\", \"\\\\begin{tabular}{lll}\"]\n",
    "    suffix = [\"\\end{tabular}\", \"\\caption{Model summary for test.}\", \"\\label{tab:model-summary}\" , \"\\end{table}\"]\n",
    "    stringlist = prefix + stringlist + suffix \n",
    "    out_str = \" \\n\".join(stringlist)\n",
    "    out_str = out_str.replace(\"_\", \"\\_\")\n",
    "    out_str = out_str.replace(\"#\", \"\\#\")\n",
    "    print(out_str)\n",
    "\n",
    "\n",
    "m2tex(loaded_model)"
   ]
  },
  {
   "cell_type": "code",
   "execution_count": null,
   "metadata": {},
   "outputs": [],
   "source": [
    "\n",
    "xyz = ak.flatten(xx,axis=-1)\n",
    "outp = ak.with_field(standardizeddict[\"L1caloTau\"],xyz,\"gtscore\")\n",
    "yx = ak.unflatten(y,ak.num(standardizeddict[\"L1caloTau\"]))\n",
    "ak.to_parquet(outp, outdir+\"V37Nano_minbias_Calotaus_gt_score_V3.parquet\")\n",
    "print(outdir)\n",
    "yxx = ak.max(yx,axis= -1)\n",
    "xxx = ak.max(xx,axis=-1)\n",
    "\n",
    "xxx2 = ak.min(xx,axis=-1)\n"
   ]
  },
  {
   "cell_type": "code",
   "execution_count": null,
   "metadata": {},
   "outputs": [],
   "source": [
    "print(yxx)\n",
    "\n",
    "print(xxx)"
   ]
  },
  {
   "cell_type": "code",
   "execution_count": 48,
   "metadata": {},
   "outputs": [],
   "source": [
    "mask = (ak.mask(outp.gtscore,outp.gtscore > 0.15))\n",
    "count = ak.num(mask,axis=-1)\n",
    "mask = ak.drop_none(mask)\n",
    "count = ak.num(mask,axis=-1)\n",
    "# masked_gtscore = [outp.gtscore > 0.15]\n",
    "# masked_gtscore_flat = ak.flatten(masked_gtscore,axis=-1)\n",
    "# gtcounts = ak.num(masked_gtscore)\n"
   ]
  },
  {
   "cell_type": "code",
   "execution_count": 54,
   "metadata": {},
   "outputs": [],
   "source": [
    "\n"
   ]
  },
  {
   "cell_type": "code",
   "execution_count": null,
   "metadata": {},
   "outputs": [],
   "source": []
  },
  {
   "cell_type": "code",
   "execution_count": 59,
   "metadata": {},
   "outputs": [
    {
     "data": {
      "text/plain": [
       "Text(0, 0.5, 'Frequency')"
      ]
     },
     "execution_count": 59,
     "metadata": {},
     "output_type": "execute_result"
    },
    {
     "data": {
      "image/png": "[encoded data removed]",
      "text/plain": [
       "<Figure size 640x480 with 1 Axes>"
      ]
     },
     "metadata": {},
     "output_type": "display_data"
    }
   ],
   "source": [
    "calotaus_mask = ak.num(standardizeddict[\"L1caloTau\"],axis=-1)\n",
    "\n",
    "ak.max(calotaus_mask)\n",
    "plt.hist(calotaus_mask, bins=12)  # Adjust the number of bins as needed\n",
    "plt.hist(count,bins=ak.max(count))\n",
    "\n",
    "plt.xlabel('Nr of taus in event')\n",
    "plt.ylabel('Frequency')"
   ]
  },
  {
   "cell_type": "code",
   "execution_count": 61,
   "metadata": {},
   "outputs": [
    {
     "name": "stdout",
     "output_type": "stream",
     "text": [
      "1747709\n",
      "1747709\n"
     ]
    }
   ],
   "source": [
    "print(len(calotaus_mask))\n",
    "print(len(count))"
   ]
  },
  {
   "cell_type": "code",
   "execution_count": 65,
   "metadata": {},
   "outputs": [
    {
     "data": {
      "text/plain": [
       "5"
      ]
     },
     "execution_count": 65,
     "metadata": {},
     "output_type": "execute_result"
    }
   ],
   "source": [
    "ak.max(count)"
   ]
  },
  {
   "cell_type": "code",
   "execution_count": null,
   "metadata": {},
   "outputs": [],
   "source": [
    "ak.max(coutn)"
   ]
  },
  {
   "cell_type": "code",
   "execution_count": 68,
   "metadata": {},
   "outputs": [
    {
     "data": {
      "text/plain": [
       "Text(0, 0.5, 'Occurrences')"
      ]
     },
     "execution_count": 68,
     "metadata": {},
     "output_type": "execute_result"
    },
    {
     "data": {
      "image/png": "[encoded data removed]",
      "text/plain": [
       "<Figure size 640x480 with 1 Axes>"
      ]
     },
     "metadata": {},
     "output_type": "display_data"
    }
   ],
   "source": [
    "plt.hist(calotaus_mask, bins=12, alpha=0.5, label='Calotaus', color='blue', edgecolor='black')\n",
    "plt.hist(count, bins=ak.max(count), alpha=0.5, label='GTscore > 0.15', color='green', edgecolor='black')\n",
    "\n",
    "# Adding labels and title\n",
    "plt.legend()\n",
    "plt.loglog()\n",
    "plt.xlabel('multiplicity')\n",
    "plt.ylabel('Occurrences')\n",
    "# plt.title('')"
   ]
  },
  {
   "cell_type": "code",
   "execution_count": 67,
   "metadata": {},
   "outputs": [
    {
     "ename": "ValueError",
     "evalue": "The number of FixedLocator locations (6), usually from a call to set_ticks, does not match the number of labels (13).",
     "output_type": "error",
     "traceback": [
      "\u001b[0;31m---------------------------------------------------------------------------\u001b[0m",
      "\u001b[0;31mValueError\u001b[0m                                Traceback (most recent call last)",
      "Cell \u001b[0;32mIn[67], line 28\u001b[0m\n\u001b[1;32m     25\u001b[0m plt\u001b[38;5;241m.\u001b[39mtitle(\u001b[38;5;124m'\u001b[39m\u001b[38;5;124mNumber of Occurrences in Two Datasets\u001b[39m\u001b[38;5;124m'\u001b[39m)\n\u001b[1;32m     27\u001b[0m \u001b[38;5;66;03m# Adjusting the x-ticks to show the correct labels\u001b[39;00m\n\u001b[0;32m---> 28\u001b[0m \u001b[43mplt\u001b[49m\u001b[38;5;241;43m.\u001b[39;49m\u001b[43mxticks\u001b[49m\u001b[43m(\u001b[49m\u001b[43mindex\u001b[49m\u001b[43m \u001b[49m\u001b[38;5;241;43m+\u001b[39;49m\u001b[43m \u001b[49m\u001b[43mbar_width\u001b[49m\u001b[43m \u001b[49m\u001b[38;5;241;43m/\u001b[39;49m\u001b[43m \u001b[49m\u001b[38;5;241;43m2\u001b[39;49m\u001b[43m,\u001b[49m\u001b[43m \u001b[49m\u001b[43mx1\u001b[49m\u001b[43m)\u001b[49m\n\u001b[1;32m     30\u001b[0m \u001b[38;5;66;03m# Adding a legend\u001b[39;00m\n\u001b[1;32m     31\u001b[0m plt\u001b[38;5;241m.\u001b[39mlegend()\n",
      "File \u001b[0;32m~/taubus/.venv/lib/python3.8/site-packages/matplotlib/pyplot.py:1893\u001b[0m, in \u001b[0;36mxticks\u001b[0;34m(ticks, labels, minor, **kwargs)\u001b[0m\n\u001b[1;32m   1891\u001b[0m         l\u001b[38;5;241m.\u001b[39m_internal_update(kwargs)\n\u001b[1;32m   1892\u001b[0m \u001b[38;5;28;01melse\u001b[39;00m:\n\u001b[0;32m-> 1893\u001b[0m     labels \u001b[38;5;241m=\u001b[39m \u001b[43max\u001b[49m\u001b[38;5;241;43m.\u001b[39;49m\u001b[43mset_xticklabels\u001b[49m\u001b[43m(\u001b[49m\u001b[43mlabels\u001b[49m\u001b[43m,\u001b[49m\u001b[43m \u001b[49m\u001b[43mminor\u001b[49m\u001b[38;5;241;43m=\u001b[39;49m\u001b[43mminor\u001b[49m\u001b[43m,\u001b[49m\u001b[43m \u001b[49m\u001b[38;5;241;43m*\u001b[39;49m\u001b[38;5;241;43m*\u001b[39;49m\u001b[43mkwargs\u001b[49m\u001b[43m)\u001b[49m\n\u001b[1;32m   1895\u001b[0m \u001b[38;5;28;01mreturn\u001b[39;00m locs, labels\n",
      "File \u001b[0;32m~/taubus/.venv/lib/python3.8/site-packages/matplotlib/axes/_base.py:74\u001b[0m, in \u001b[0;36m_axis_method_wrapper.__set_name__.<locals>.wrapper\u001b[0;34m(self, *args, **kwargs)\u001b[0m\n\u001b[1;32m     73\u001b[0m \u001b[38;5;28;01mdef\u001b[39;00m \u001b[38;5;21mwrapper\u001b[39m(\u001b[38;5;28mself\u001b[39m, \u001b[38;5;241m*\u001b[39margs, \u001b[38;5;241m*\u001b[39m\u001b[38;5;241m*\u001b[39mkwargs):\n\u001b[0;32m---> 74\u001b[0m     \u001b[38;5;28;01mreturn\u001b[39;00m \u001b[43mget_method\u001b[49m\u001b[43m(\u001b[49m\u001b[38;5;28;43mself\u001b[39;49m\u001b[43m)\u001b[49m\u001b[43m(\u001b[49m\u001b[38;5;241;43m*\u001b[39;49m\u001b[43margs\u001b[49m\u001b[43m,\u001b[49m\u001b[43m \u001b[49m\u001b[38;5;241;43m*\u001b[39;49m\u001b[38;5;241;43m*\u001b[39;49m\u001b[43mkwargs\u001b[49m\u001b[43m)\u001b[49m\n",
      "File \u001b[0;32m~/taubus/.venv/lib/python3.8/site-packages/matplotlib/_api/deprecation.py:297\u001b[0m, in \u001b[0;36mrename_parameter.<locals>.wrapper\u001b[0;34m(*args, **kwargs)\u001b[0m\n\u001b[1;32m    292\u001b[0m     warn_deprecated(\n\u001b[1;32m    293\u001b[0m         since, message\u001b[38;5;241m=\u001b[39m\u001b[38;5;124mf\u001b[39m\u001b[38;5;124m\"\u001b[39m\u001b[38;5;124mThe \u001b[39m\u001b[38;5;132;01m{\u001b[39;00mold\u001b[38;5;132;01m!r}\u001b[39;00m\u001b[38;5;124m parameter of \u001b[39m\u001b[38;5;132;01m{\u001b[39;00mfunc\u001b[38;5;241m.\u001b[39m\u001b[38;5;18m__name__\u001b[39m\u001b[38;5;132;01m}\u001b[39;00m\u001b[38;5;124m() \u001b[39m\u001b[38;5;124m\"\u001b[39m\n\u001b[1;32m    294\u001b[0m         \u001b[38;5;124mf\u001b[39m\u001b[38;5;124m\"\u001b[39m\u001b[38;5;124mhas been renamed \u001b[39m\u001b[38;5;132;01m{\u001b[39;00mnew\u001b[38;5;132;01m!r}\u001b[39;00m\u001b[38;5;124m since Matplotlib \u001b[39m\u001b[38;5;132;01m{\u001b[39;00msince\u001b[38;5;132;01m}\u001b[39;00m\u001b[38;5;124m; support \u001b[39m\u001b[38;5;124m\"\u001b[39m\n\u001b[1;32m    295\u001b[0m         \u001b[38;5;124mf\u001b[39m\u001b[38;5;124m\"\u001b[39m\u001b[38;5;124mfor the old name will be dropped %(removal)s.\u001b[39m\u001b[38;5;124m\"\u001b[39m)\n\u001b[1;32m    296\u001b[0m     kwargs[new] \u001b[38;5;241m=\u001b[39m kwargs\u001b[38;5;241m.\u001b[39mpop(old)\n\u001b[0;32m--> 297\u001b[0m \u001b[38;5;28;01mreturn\u001b[39;00m \u001b[43mfunc\u001b[49m\u001b[43m(\u001b[49m\u001b[38;5;241;43m*\u001b[39;49m\u001b[43margs\u001b[49m\u001b[43m,\u001b[49m\u001b[43m \u001b[49m\u001b[38;5;241;43m*\u001b[39;49m\u001b[38;5;241;43m*\u001b[39;49m\u001b[43mkwargs\u001b[49m\u001b[43m)\u001b[49m\n",
      "File \u001b[0;32m~/taubus/.venv/lib/python3.8/site-packages/matplotlib/axis.py:2018\u001b[0m, in \u001b[0;36mAxis.set_ticklabels\u001b[0;34m(self, labels, minor, fontdict, **kwargs)\u001b[0m\n\u001b[1;32m   2014\u001b[0m \u001b[38;5;28;01mif\u001b[39;00m \u001b[38;5;28misinstance\u001b[39m(locator, mticker\u001b[38;5;241m.\u001b[39mFixedLocator):\n\u001b[1;32m   2015\u001b[0m     \u001b[38;5;66;03m# Passing [] as a list of labels is often used as a way to\u001b[39;00m\n\u001b[1;32m   2016\u001b[0m     \u001b[38;5;66;03m# remove all tick labels, so only error for > 0 labels\u001b[39;00m\n\u001b[1;32m   2017\u001b[0m     \u001b[38;5;28;01mif\u001b[39;00m \u001b[38;5;28mlen\u001b[39m(locator\u001b[38;5;241m.\u001b[39mlocs) \u001b[38;5;241m!=\u001b[39m \u001b[38;5;28mlen\u001b[39m(labels) \u001b[38;5;129;01mand\u001b[39;00m \u001b[38;5;28mlen\u001b[39m(labels) \u001b[38;5;241m!=\u001b[39m \u001b[38;5;241m0\u001b[39m:\n\u001b[0;32m-> 2018\u001b[0m         \u001b[38;5;28;01mraise\u001b[39;00m \u001b[38;5;167;01mValueError\u001b[39;00m(\n\u001b[1;32m   2019\u001b[0m             \u001b[38;5;124m\"\u001b[39m\u001b[38;5;124mThe number of FixedLocator locations\u001b[39m\u001b[38;5;124m\"\u001b[39m\n\u001b[1;32m   2020\u001b[0m             \u001b[38;5;124mf\u001b[39m\u001b[38;5;124m\"\u001b[39m\u001b[38;5;124m (\u001b[39m\u001b[38;5;132;01m{\u001b[39;00m\u001b[38;5;28mlen\u001b[39m(locator\u001b[38;5;241m.\u001b[39mlocs)\u001b[38;5;132;01m}\u001b[39;00m\u001b[38;5;124m), usually from a call to\u001b[39m\u001b[38;5;124m\"\u001b[39m\n\u001b[1;32m   2021\u001b[0m             \u001b[38;5;124m\"\u001b[39m\u001b[38;5;124m set_ticks, does not match\u001b[39m\u001b[38;5;124m\"\u001b[39m\n\u001b[1;32m   2022\u001b[0m             \u001b[38;5;124mf\u001b[39m\u001b[38;5;124m\"\u001b[39m\u001b[38;5;124m the number of labels (\u001b[39m\u001b[38;5;132;01m{\u001b[39;00m\u001b[38;5;28mlen\u001b[39m(labels)\u001b[38;5;132;01m}\u001b[39;00m\u001b[38;5;124m).\u001b[39m\u001b[38;5;124m\"\u001b[39m)\n\u001b[1;32m   2023\u001b[0m     tickd \u001b[38;5;241m=\u001b[39m {loc: lab \u001b[38;5;28;01mfor\u001b[39;00m loc, lab \u001b[38;5;129;01min\u001b[39;00m \u001b[38;5;28mzip\u001b[39m(locator\u001b[38;5;241m.\u001b[39mlocs, labels)}\n\u001b[1;32m   2024\u001b[0m     func \u001b[38;5;241m=\u001b[39m functools\u001b[38;5;241m.\u001b[39mpartial(\u001b[38;5;28mself\u001b[39m\u001b[38;5;241m.\u001b[39m_format_with_dict, tickd)\n",
      "\u001b[0;31mValueError\u001b[0m: The number of FixedLocator locations (6), usually from a call to set_ticks, does not match the number of labels (13)."
     ]
    },
    {
     "data": {
      "image/png": "[encoded data removed]",
      "text/plain": [
       "<Figure size 640x480 with 1 Axes>"
      ]
     },
     "metadata": {},
     "output_type": "display_data"
    }
   ],
   "source": [
    "from collections import Counter\n",
    "occurrences1 = Counter(calotaus_mask)\n",
    "occurrences2 = Counter(count)\n",
    "\n",
    "# Extract the keys (unique numbers) and values (counts) for both datasets\n",
    "x1 = list(occurrences1.keys())\n",
    "y1 = list(occurrences1.values())\n",
    "\n",
    "x2 = list(occurrences2.keys())\n",
    "y2 = list(occurrences2.values())\n",
    "\n",
    "# Plotting the first dataset\n",
    "bar_width = 0.4  # Width of the bars\n",
    "index = np.arange(len(x1))\n",
    "\n",
    "plt.bar(index, y1, bar_width, label='Calotaus', color='blue')\n",
    "index = np.arange(len(x2))\n",
    "\n",
    "# Plotting the second dataset, with an offset for clarity\n",
    "plt.bar(index, y2, bar_width, label='GTscore > 0.15', color='green')\n",
    "\n",
    "# Adding labels and title\n",
    "plt.xlabel('Numbers')\n",
    "plt.ylabel('Occurrences')\n",
    "plt.title('Number of Occurrences in Two Datasets')\n",
    "\n",
    "# Adjusting the x-ticks to show the correct labels\n",
    "plt.xticks(index + bar_width / 2, x1)\n",
    "\n",
    "# Adding a legend\n",
    "plt.legend()\n",
    "\n",
    "# Display the plot\n",
    "plt.show()"
   ]
  },
  {
   "cell_type": "code",
   "execution_count": 18,
   "metadata": {},
   "outputs": [
    {
     "data": {
      "text/plain": [
       "Text(0, 0.5, 'Frequency')"
      ]
     },
     "execution_count": 18,
     "metadata": {},
     "output_type": "execute_result"
    },
    {
     "data": {
      "image/png": "[encoded data removed]",
      "text/plain": [
       "<Figure size 640x480 with 1 Axes>"
      ]
     },
     "metadata": {},
     "output_type": "display_data"
    }
   ],
   "source": [
    "import matplotlib.pyplot as plt\n",
    "plt.hist(predictions, bins=100, edgecolor='black')  # Adjust the number of bins as needed\n",
    "plt.title('Histogram of Predictions')\n",
    "plt.loglog()\n",
    "plt.xlabel('Prediction Values')\n",
    "plt.ylabel('Frequency')\n",
    "/home/elias/taubus/V37nano/V37nano_VBFHToTauTau_GenJetAK8.parquet"
   ]
  },
  {
   "cell_type": "code",
   "execution_count": null,
   "metadata": {},
   "outputs": [],
   "source": [
    "xxxpad = ak.pad_none(xxx,1,axis=-1)\n",
    "xxxfill = ak.fill_none(xxxpad,0,axis=-1)\n",
    "yxxfill = ak.fill_none(yxx,1)\n",
    "print(xxxfill)\n",
    "print(0)\n",
    "\n",
    "\n",
    "xxxpad2 = ak.pad_none(xxx2,1,axis=-1)\n",
    "xxxfill2 = ak.fill_none(xxxpad2,0,axis=-1)\n",
    "# yxxfill2 = ak.fill_none(yxx2,1)\n",
    "print(xxxfill2)\n",
    "# y_flat = ak.flatten(yxxfill,axis = None)\n",
    "x_flat2 = ak.flatten(xxxfill2,axis = None)\n",
    "# y_test = np.zeros(len(x_flat))\n",
    "print(0)"
   ]
  },
  {
   "cell_type": "code",
   "execution_count": null,
   "metadata": {},
   "outputs": [],
   "source": [
    "len(standardizeddict[\"L1caloTau\"])\n",
    "len(xxxfill)\n",
    "def totalMinBiasRate(nCollBunch = 2500):\n",
    "    LHCfreq = 11245.6\n",
    "    return LHCfreq * nCollBunch / 1e3"
   ]
  },
  {
   "cell_type": "code",
   "execution_count": null,
   "metadata": {},
   "outputs": [],
   "source": [
    "print(xxxfill)"
   ]
  },
  {
   "cell_type": "code",
   "execution_count": null,
   "metadata": {},
   "outputs": [],
   "source": [
    "y_flat = ak.flatten(yxxfill,axis = None)\n",
    "x_flat = ak.flatten(xxxfill,axis = None)\n",
    "y_test = np.zeros(len(x_flat))"
   ]
  },
  {
   "cell_type": "code",
   "execution_count": null,
   "metadata": {},
   "outputs": [],
   "source": [
    "\n",
    "from sklearn.metrics import roc_curve\n",
    "import matplotlib.pyplot as plt\n",
    "fpr2, tpr2, thr2 = roc_curve( y_test, x_flat, drop_intermediate=False)\n",
    "fpr, tpr, thr = roc_curve( y_test, x_flat2, drop_intermediate=False)\n",
    "\n",
    "# plt.plot(fpr2 * totalMinBiasRate() ,thr2 * -1)\n",
    "\n",
    "plt.plot(fpr2 * totalMinBiasRate(), thr2 , label =\"max\")\n",
    "\n",
    "plt.xlabel(\"FPR*MBrate: Trigger rate [kHz]\")\n",
    "plt.ylabel(\"NN threshhold (1 -x)\")\n",
    "plt.xscale(\"log\")\n",
    "plt.grid()\n",
    "plt.xlim(0,1000)\n",
    "plt.show()\n",
    "plt.plot(fpr * totalMinBiasRate(), thr , label =\"min\")\n",
    "\n",
    "plt.xlabel(\"FPR*MBrate: Trigger rate [kHz]\")\n",
    "plt.ylabel(\"NN threshhold (1 -x)\")\n",
    "plt.xscale(\"log\")\n",
    "plt.grid()\n",
    "plt.xlim(0,1000)\n"
   ]
  },
  {
   "cell_type": "code",
   "execution_count": null,
   "metadata": {},
   "outputs": [],
   "source": [
    ", drop_intermediate=False)\n",
    "\n",
    "plt.plot(fpr1, tpr1)\n"
   ]
  }
 ],
 "metadata": {
  "kernelspec": {
   "display_name": ".venv",
   "language": "python",
   "name": "python3"
  },
  "language_info": {
   "codemirror_mode": {
    "name": "ipython",
    "version": 3
   },
   "file_extension": ".py",
   "mimetype": "text/x-python",
   "name": "python",
   "nbconvert_exporter": "python",
   "pygments_lexer": "ipython3",
   "version": "3.8.10"
  }
 },
 "nbformat": 4,
 "nbformat_minor": 2
}
