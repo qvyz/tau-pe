{
 "cells": [
  {
   "cell_type": "code",
   "execution_count": 1,
   "metadata": {},
   "outputs": [
    {
     "name": "stdout",
     "output_type": "stream",
     "text": [
      "2.6.4\n",
      "['Phase2-L1MenuTools/cache/V37nano/V37nano_VBFHToTauTau_GenJet.parquet', 'Phase2-L1MenuTools/cache/V37nano/V37nano_VBFHToTauTau_GenJetAK8.parquet', 'Phase2-L1MenuTools/cache/V37nano/V37nano_VBFHToTauTau_GenMET.parquet', 'Phase2-L1MenuTools/cache/V37nano/V37nano_VBFHToTauTau_GenPart.parquet', 'Phase2-L1MenuTools/cache/V37nano/V37nano_VBFHToTauTau_GenVisTau.parquet', 'Phase2-L1MenuTools/cache/V37nano/V37nano_VBFHToTauTau_L1EGbarrel.parquet', 'Phase2-L1MenuTools/cache/V37nano/V37nano_VBFHToTauTau_L1EGendcap.parquet', 'Phase2-L1MenuTools/cache/V37nano/V37nano_VBFHToTauTau_L1TrackHT.parquet', 'Phase2-L1MenuTools/cache/V37nano/V37nano_VBFHToTauTau_L1TrackJet.parquet', 'Phase2-L1MenuTools/cache/V37nano/V37nano_VBFHToTauTau_L1TrackMET.parquet', 'Phase2-L1MenuTools/cache/V37nano/V37nano_VBFHToTauTau_L1caloJet.parquet', 'Phase2-L1MenuTools/cache/V37nano/V37nano_VBFHToTauTau_L1caloTau.parquet', 'Phase2-L1MenuTools/cache/V37nano/V37nano_VBFHToTauTau_L1gmtMuon.parquet', 'Phase2-L1MenuTools/cache/V37nano/V37nano_VBFHToTauTau_L1gmtTkMuon.parquet', 'Phase2-L1MenuTools/cache/V37nano/V37nano_VBFHToTauTau_L1hpsTau.parquet', 'Phase2-L1MenuTools/cache/V37nano/V37nano_VBFHToTauTau_L1nnCaloTau.parquet', 'Phase2-L1MenuTools/cache/V37nano/V37nano_VBFHToTauTau_L1nnPuppiTau.parquet', 'Phase2-L1MenuTools/cache/V37nano/V37nano_VBFHToTauTau_L1puppiHistoJetSums.parquet', 'Phase2-L1MenuTools/cache/V37nano/V37nano_VBFHToTauTau_L1puppiJetHisto.parquet', 'Phase2-L1MenuTools/cache/V37nano/V37nano_VBFHToTauTau_L1puppiJetSC4.parquet', 'Phase2-L1MenuTools/cache/V37nano/V37nano_VBFHToTauTau_L1puppiJetSC4sums.parquet', 'Phase2-L1MenuTools/cache/V37nano/V37nano_VBFHToTauTau_L1puppiMET.parquet', 'Phase2-L1MenuTools/cache/V37nano/V37nano_VBFHToTauTau_L1puppiMLMET.parquet', 'Phase2-L1MenuTools/cache/V37nano/V37nano_VBFHToTauTau_L1tkElectron.parquet', 'Phase2-L1MenuTools/cache/V37nano/V37nano_VBFHToTauTau_L1tkPhoton.parquet']\n",
      "['GenJet', 'GenJetAK8', 'GenMET', 'GenPart', 'GenVisTau', 'L1EGbarrel', 'L1EGendcap', 'L1TrackHT', 'L1TrackJet', 'L1TrackMET', 'L1caloJet', 'L1caloTau', 'L1gmtMuon', 'L1gmtTkMuon', 'L1hpsTau', 'L1nnCaloTau', 'L1nnPuppiTau', 'L1puppiHistoJetSums', 'L1puppiJetHisto', 'L1puppiJetSC4', 'L1puppiJetSC4sums', 'L1puppiMET', 'L1puppiMLMET', 'L1tkElectron', 'L1tkPhoton']\n"
     ]
    }
   ],
   "source": [
    "import awkward as ak\n",
    "import numpy as np\n",
    "import pandas as pd\n",
    "import numba\n",
    "import glob\n",
    "from tqdm import tqdm\n",
    "print(ak.__version__)\n",
    "\n",
    "debug = True\n",
    "\n",
    "sample = \"VBF\"\n",
    "#options MinBias, VBF, GG\n",
    "if sample == \"MinBias\":\n",
    "    filepath = \"Phase2-L1MenuTools/cache/V37nano/V37nano_MinBias*\"\n",
    "elif sample == \"GG\":\n",
    "    filepath = \"Phase2-L1MenuTools/cache/V37nano/V37nano_GluGLuToHHToB2Tau*\"\n",
    "elif sample == \"VBF\":\n",
    "    filepath = \"Phase2-L1MenuTools/cache/V37nano/V37nano_VBFHToTauTau*\"\n",
    "\n",
    "\n",
    "debug = True\n",
    "\n",
    "files = glob.glob(filepath)\n",
    "print(files)\n",
    "#Get the files:\n",
    "#Get the files:\n",
    "arrays = [ak.from_parquet(file) for file in files]\n",
    "# Get the objectnames:\n",
    "import re\n",
    "regex = re.compile(r'^{}|{}$'.format(re.escape(filepath[:-1]+\"_\"), re.escape(\".parquet\")))\n",
    "\n",
    "\n",
    "objectnames = [regex.sub(\"\",file) for file in files]\n",
    "print(objectnames)"
   ]
  },
  {
   "cell_type": "code",
   "execution_count": 2,
   "metadata": {},
   "outputs": [],
   "source": [
    "#Store objects in a dict\n",
    "objectsdict = dict()\n",
    "for idx,item in enumerate(objectnames): \n",
    "    objectsdict[item] = arrays[idx]"
   ]
  },
  {
   "cell_type": "code",
   "execution_count": 3,
   "metadata": {},
   "outputs": [
    {
     "name": "stdout",
     "output_type": "stream",
     "text": [
      "GenJet : ['pt', 'eta', 'phi', 'partonFlavour']\n",
      "GenJetAK8 : ['pt', 'eta', 'phi']\n",
      "GenMET : ['phi', 'pt']\n",
      "GenPart : ['pt', 'eta', 'phi', 'pdgId', 'statusFlags']\n",
      "GenVisTau : ['status', 'charge', 'genPartIdxMother', 'eta', 'mass', 'phi', 'pt']\n",
      "L1EGbarrel : ['eleId', 'phoId', 'saId', 'hwQual', 'eta', 'phi', 'pt']\n",
      "L1EGendcap : ['eleId', 'phoId', 'saId', 'hwQual', 'eta', 'phi', 'pt']\n",
      "L1TrackHT : ['ht', 'mht']\n",
      "L1TrackJet : ['pt', 'eta', 'phi']\n",
      "L1TrackMET : ['pt']\n",
      "L1caloJet : ['et', 'eta', 'phi', 'pt']\n",
      "L1caloTau : ['eta', 'phi', 'pt']\n",
      "L1gmtMuon : ['charge', 'chargeNoPh', 'hwBeta', 'hwEta', 'hwIso', 'hwPhi', 'hwPt', 'hwQual', 'd0', 'eta', 'phi', 'pt', 'z0']\n",
      "L1gmtTkMuon : ['charge', 'chargeNoPh', 'hwBeta', 'hwEta', 'hwIso', 'hwPhi', 'hwPt', 'hwQual', 'd0', 'eta', 'phi', 'pt', 'z0']\n",
      "L1hpsTau : ['eta', 'phi', 'pt']\n",
      "L1nnCaloTau : ['hwIso', 'hwQual', 'eta', 'phi', 'pt']\n",
      "L1nnPuppiTau : ['charge', 'id', 'passLooseNN', 'passLooseNNMass', 'passLoosePF', 'passMass', 'passTightNN', 'passTightNNMass', 'passTightPF', 'chargedIso', 'dXY', 'eta', 'fullIso', 'phi', 'pt', 'z0']\n",
      "L1puppiHistoJetSums : ['pt', 'phi', 'sumType']\n",
      "L1puppiJetHisto : ['et', 'eta', 'phi', 'pt']\n",
      "L1puppiJetSC4 : ['pt', 'eta', 'phi']\n",
      "L1puppiJetSC4sums : ['pt', 'phi', 'sumType']\n",
      "L1puppiMET : ['pt', 'phi']\n",
      "L1puppiMLMET : ['pt']\n",
      "L1tkElectron : ['eleId', 'phoId', 'saId', 'hwEta', 'hwIso', 'hwPhi', 'hwPt', 'hwQual', 'charge', 'eta', 'phi', 'pt', 'relIso', 'z0']\n",
      "L1tkPhoton : ['eleId', 'phoId', 'saId', 'hwEta', 'hwIso', 'hwPhi', 'hwPt', 'hwQual', 'eta', 'phi', 'pt', 'relIso']\n"
     ]
    }
   ],
   "source": [
    "#helper functions:\n",
    "import vector\n",
    "vector.register_awkward()\n",
    "\n",
    "\n",
    "def prepare_objects(dictobj):\n",
    "    fourvectordict = dict()\n",
    "    standardizeddict = dict()\n",
    "    vector.register_awkward()\n",
    "\n",
    "    for key,value in dictobj.items():\n",
    "        standardizeddict[key] = value\n",
    "        fields = value.fields\n",
    "        for field in fields:\n",
    "            standardname = field.replace(key+\"_\",\"\")\n",
    "            standardizeddict[key][standardname] = dictobj[key][field]\n",
    "            standardizeddict[key] = ak.without_field(standardizeddict[key],field)\n",
    "            dictobj[key] = ak.without_field(value,field)\n",
    "        print(key,\":\",standardizeddict[key].fields)\n",
    "        fourvectordict[key] =  ak.Array(standardizeddict[key],with_name=\"Momentum3D\")\n",
    "    return fourvectordict,standardizeddict\n",
    "\n",
    "\n",
    "\n",
    "    # # combining to numpy\n",
    "def prepare_for_ml(objects,padlist,namelist,pad_val = 0):\n",
    "    pad_arrs = []\n",
    "    var_names = []\n",
    "    for idx,object in enumerate(objects):\n",
    "        topad = padlist[idx]\n",
    "        name = namelist[idx]\n",
    "        \n",
    "        if topad == 1:\n",
    "            pad_arr = object\n",
    "        else:\n",
    "            pad_arr = ak.pad_none(object,topad,axis=1,clip=True)\n",
    "        for i in range(topad):\n",
    "            for var in object.fields:\n",
    "                if topad == 1:\n",
    "                    pad_arrs += [ak.to_numpy(pad_arr[var][:])]\n",
    "                else:\n",
    "                    pad_arrs += [ak.to_numpy( ak.fill_none(pad_arr[var][:,i], pad_val) )]\n",
    "                var_names.append( \"{}_{}_{}\".format(name, i, var) )\n",
    "    return var_names, pad_arrs \n",
    "\n",
    "fourvectordict,standardizeddict = prepare_objects(objectsdict)\n",
    "\n"
   ]
  },
  {
   "cell_type": "code",
   "execution_count": 4,
   "metadata": {},
   "outputs": [],
   "source": [
    "\n",
    "def DeltaRcalc(obj_a,obj_b):\n",
    "    #returns the delta in the dimensions of the second object with delta R  first objects, second\n",
    "    combo = ak.cartesian({\"a\": obj_a,\"b\": obj_b}, nested=True ,axis=-1)\n",
    "    mapped_a,mapped_b = ak.unzip(combo)\n",
    "    deltaR = mapped_a.deltaR(mapped_b)\n",
    "    return deltaR\n",
    "\n",
    "\n",
    "\n",
    "\n",
    "\n",
    "def mapObjects(objects_a, objects_b):\n",
    "    \n",
    "    # Create a Cartesian product between  objects\n",
    "    paired_objects = ak.cartesian({\"a\": objects_a, \"b\": objects_b}, nested=True)\n",
    "    \n",
    "    # Unzip the pairs into separate arrays \n",
    "    mapped_a, mapped_b = ak.unzip(paired_objects)\n",
    "    \n",
    "    # Return the mapped  objects\n",
    "    return mapped_a, mapped_b\n",
    "\n",
    "\n",
    "\n",
    "def prepare_relative_dR(obj_a, obj_b, vec_a, vec_b, mask):\n",
    "    \"\"\"\n",
    "    Prepares a sorted, flattened array of objects based on their DeltaR values.\n",
    "\n",
    "    Parameters:\n",
    "    - obj_a, obj_b: Input objects to be mapped using mapObjects function.\n",
    "    - vec_a, vec_b: fourvectors used to calculate DeltaR.\n",
    "    - mask: Boolean mask used for masking objects based on  matching.\n",
    "\n",
    "    Returns:\n",
    "    - Flattened array of sorted objects after applying the mask.\n",
    "    \"\"\"\n",
    "    # Map obj_a and obj_b into mapped objects:\n",
    "    mapped_obj_a, mapped_obj_b = mapObjects(obj_a, obj_b)\n",
    "    \n",
    "    # Calculate DeltaR between vec_c and vec_d\n",
    "    delta_r = DeltaRcalc(vec_a, vec_b)\n",
    "    \n",
    "    # Sort the objects based on their DeltaR values\n",
    "    sorted_indices = ak.argsort(delta_r)\n",
    "    sorted_objects = mapped_obj_b[sorted_indices]\n",
    "    \n",
    "    # Flatten the result\n",
    "    filtered_objects = ak.flatten(sorted_objects, axis=1)\n",
    "    \n",
    "    return filtered_objects\n"
   ]
  },
  {
   "cell_type": "code",
   "execution_count": 5,
   "metadata": {},
   "outputs": [
    {
     "name": "stdout",
     "output_type": "stream",
     "text": [
      "L1EGendcap phoId field removed\n",
      "L1gmtMuon chargeNoPh field removed\n",
      "L1gmtMuon hwIso field removed\n",
      "L1gmtMuon d0 field removed\n",
      "L1gmtMuon z0 field removed\n",
      "L1gmtTkMuon chargeNoPh field removed\n",
      "L1gmtTkMuon hwIso field removed\n",
      "L1gmtTkMuon d0 field removed\n",
      "L1nnPuppiTau charge field removed\n",
      "L1nnPuppiTau dXY field removed\n",
      "L1nnPuppiTau fullIso field removed\n",
      "L1tkElectron hwEta field removed\n",
      "L1tkElectron hwIso field removed\n",
      "L1tkElectron hwPhi field removed\n",
      "L1tkElectron hwPt field removed\n",
      "L1tkPhoton hwEta field removed\n",
      "L1tkPhoton hwIso field removed\n",
      "L1tkPhoton hwPhi field removed\n",
      "L1tkPhoton hwPt field removed\n",
      "before ['charge', 'hwBeta', 'hwEta', 'hwPhi', 'hwPt', 'hwQual', 'eta', 'phi', 'pt']\n",
      "after ['charge', 'hwBeta', 'hwEta', 'hwPhi', 'hwPt', 'hwQual']\n",
      "before ['charge', 'hwBeta', 'hwEta', 'hwPhi', 'hwPt', 'hwQual', 'eta', 'phi', 'pt', 'z0']\n",
      "after ['charge', 'hwBeta', 'hwEta', 'hwPhi', 'hwPt', 'hwQual', 'z0']\n"
     ]
    }
   ],
   "source": [
    "#remove empty fields:\n",
    "for key, value in standardizeddict.items():\n",
    "    for field in value.fields:\n",
    "        if ak.sum(value[field]) == 0:\n",
    "            print(key,field,\"field removed\")\n",
    "            standardizeddict[key] = ak.without_field(standardizeddict[key],field)\n",
    "#remove physical vals:\n",
    "removal = [\"L1gmtMuon\",\n",
    "\"L1gmtTkMuon\",\n",
    "]            \n",
    "if (sample == \"VBF\") or (sample == \"GG\"):\n",
    "    standardizeddict[\"L1puppiJetHisto\"] = ak.without_field(standardizeddict[\"L1puppiJetHisto\"],'et')\n",
    "    standardizeddict[\"L1caloJet\"] = ak.without_field(standardizeddict[\"L1caloJet\"],'et')\n",
    "for i in removal:\n",
    "    print(\"before\",standardizeddict[i].fields)\n",
    "    standardizeddict[i] = ak.without_field(standardizeddict[i],'pt')\n",
    "    standardizeddict[i] = ak.without_field(standardizeddict[i],'eta')\n",
    "    standardizeddict[i] = ak.without_field(standardizeddict[i],'phi')\n",
    "    print(\"after\",standardizeddict[i].fields)"
   ]
  },
  {
   "cell_type": "code",
   "execution_count": 6,
   "metadata": {},
   "outputs": [],
   "source": [
    "mask = ak.ones_like(standardizeddict[\"L1caloTau\"].pt, dtype=bool)# Prepare objects:\n",
    "muons = prepare_relative_dR(standardizeddict[\"L1caloTau\"], standardizeddict[\"L1gmtMuon\"],  fourvectordict[\"L1caloTau\"], fourvectordict[\"L1gmtMuon\"],mask)\n",
    "tkmuons = prepare_relative_dR(standardizeddict[\"L1caloTau\"], standardizeddict[\"L1gmtTkMuon\"],  fourvectordict[\"L1caloTau\"], fourvectordict[\"L1gmtTkMuon\"],mask)\n",
    "photons = prepare_relative_dR(standardizeddict[\"L1caloTau\"], standardizeddict[\"L1tkPhoton\"],  fourvectordict[\"L1caloTau\"], fourvectordict[\"L1tkPhoton\"],mask)\n",
    "electrons = prepare_relative_dR(standardizeddict[\"L1caloTau\"], standardizeddict[\"L1tkElectron\"],  fourvectordict[\"L1caloTau\"], fourvectordict[\"L1tkElectron\"],mask)\n",
    "jets = prepare_relative_dR(standardizeddict[\"L1caloTau\"], standardizeddict[\"L1puppiJetHisto\"],  fourvectordict[\"L1caloTau\"], fourvectordict[\"L1puppiJetHisto\"],mask)\n",
    "calojets = prepare_relative_dR(standardizeddict[\"L1caloTau\"], standardizeddict[\"L1caloJet\"],  fourvectordict[\"L1caloTau\"], fourvectordict[\"L1caloJet\"],mask)\n",
    "\n",
    "# Prepare the objects for ML input\n",
    "objects_to_map = [muons, electrons, photons, jets, tkmuons, calojets]\n",
    "fields = (\n",
    "    muons.fields\n",
    "    + electrons.fields\n",
    "    + photons.fields\n",
    "    + jets.fields\n",
    "    + tkmuons.fields\n",
    "    + calojets.fields\n",
    ")\n",
    "object_names = [\n",
    "    \"L1gmtMuon\",\n",
    "    \"L1tkElectron\",\n",
    "    \"L1tkPhoton\",\n",
    "    \"L1puppiJetHisto\",\n",
    "    \"L1gmtTkMuon\",\n",
    "    \"L1caloJet\"\n",
    "]\n",
    "pad_lengths = [2, 5, 5, 5, 3, 4]\n",
    "\n",
    "# Prepare data:\n",
    "dr_names, dr_temp_values = prepare_for_ml(objects_to_map, pad_lengths, object_names)\n",
    "dr_values = np.vstack(dr_temp_values)\n",
    "dr_values = np.swapaxes(dr_values, 0, 1)"
   ]
  },
  {
   "cell_type": "code",
   "execution_count": 7,
   "metadata": {},
   "outputs": [
    {
     "name": "stdout",
     "output_type": "stream",
     "text": [
      "153\n",
      "['calotaus_eta', 'calotaus_phi', 'calotaus_pt', 'L1gmtMuon_0_charge', 'L1gmtMuon_0_hwBeta', 'L1gmtMuon_0_hwEta', 'L1gmtMuon_0_hwPhi', 'L1gmtMuon_0_hwPt', 'L1gmtMuon_0_hwQual', 'L1gmtMuon_1_charge', 'L1gmtMuon_1_hwBeta', 'L1gmtMuon_1_hwEta', 'L1gmtMuon_1_hwPhi', 'L1gmtMuon_1_hwPt', 'L1gmtMuon_1_hwQual', 'L1tkElectron_0_eleId', 'L1tkElectron_0_phoId', 'L1tkElectron_0_saId', 'L1tkElectron_0_hwQual', 'L1tkElectron_0_charge', 'L1tkElectron_0_eta', 'L1tkElectron_0_phi', 'L1tkElectron_0_pt', 'L1tkElectron_0_relIso', 'L1tkElectron_0_z0', 'L1tkElectron_1_eleId', 'L1tkElectron_1_phoId', 'L1tkElectron_1_saId', 'L1tkElectron_1_hwQual', 'L1tkElectron_1_charge', 'L1tkElectron_1_eta', 'L1tkElectron_1_phi', 'L1tkElectron_1_pt', 'L1tkElectron_1_relIso', 'L1tkElectron_1_z0', 'L1tkElectron_2_eleId', 'L1tkElectron_2_phoId', 'L1tkElectron_2_saId', 'L1tkElectron_2_hwQual', 'L1tkElectron_2_charge', 'L1tkElectron_2_eta', 'L1tkElectron_2_phi', 'L1tkElectron_2_pt', 'L1tkElectron_2_relIso', 'L1tkElectron_2_z0', 'L1tkElectron_3_eleId', 'L1tkElectron_3_phoId', 'L1tkElectron_3_saId', 'L1tkElectron_3_hwQual', 'L1tkElectron_3_charge', 'L1tkElectron_3_eta', 'L1tkElectron_3_phi', 'L1tkElectron_3_pt', 'L1tkElectron_3_relIso', 'L1tkElectron_3_z0', 'L1tkElectron_4_eleId', 'L1tkElectron_4_phoId', 'L1tkElectron_4_saId', 'L1tkElectron_4_hwQual', 'L1tkElectron_4_charge', 'L1tkElectron_4_eta', 'L1tkElectron_4_phi', 'L1tkElectron_4_pt', 'L1tkElectron_4_relIso', 'L1tkElectron_4_z0', 'L1tkPhoton_0_eleId', 'L1tkPhoton_0_phoId', 'L1tkPhoton_0_saId', 'L1tkPhoton_0_hwQual', 'L1tkPhoton_0_eta', 'L1tkPhoton_0_phi', 'L1tkPhoton_0_pt', 'L1tkPhoton_0_relIso', 'L1tkPhoton_1_eleId', 'L1tkPhoton_1_phoId', 'L1tkPhoton_1_saId', 'L1tkPhoton_1_hwQual', 'L1tkPhoton_1_eta', 'L1tkPhoton_1_phi', 'L1tkPhoton_1_pt', 'L1tkPhoton_1_relIso', 'L1tkPhoton_2_eleId', 'L1tkPhoton_2_phoId', 'L1tkPhoton_2_saId', 'L1tkPhoton_2_hwQual', 'L1tkPhoton_2_eta', 'L1tkPhoton_2_phi', 'L1tkPhoton_2_pt', 'L1tkPhoton_2_relIso', 'L1tkPhoton_3_eleId', 'L1tkPhoton_3_phoId', 'L1tkPhoton_3_saId', 'L1tkPhoton_3_hwQual', 'L1tkPhoton_3_eta', 'L1tkPhoton_3_phi', 'L1tkPhoton_3_pt', 'L1tkPhoton_3_relIso', 'L1tkPhoton_4_eleId', 'L1tkPhoton_4_phoId', 'L1tkPhoton_4_saId', 'L1tkPhoton_4_hwQual', 'L1tkPhoton_4_eta', 'L1tkPhoton_4_phi', 'L1tkPhoton_4_pt', 'L1tkPhoton_4_relIso', 'L1puppiJetHisto_0_eta', 'L1puppiJetHisto_0_phi', 'L1puppiJetHisto_0_pt', 'L1puppiJetHisto_1_eta', 'L1puppiJetHisto_1_phi', 'L1puppiJetHisto_1_pt', 'L1puppiJetHisto_2_eta', 'L1puppiJetHisto_2_phi', 'L1puppiJetHisto_2_pt', 'L1puppiJetHisto_3_eta', 'L1puppiJetHisto_3_phi', 'L1puppiJetHisto_3_pt', 'L1puppiJetHisto_4_eta', 'L1puppiJetHisto_4_phi', 'L1puppiJetHisto_4_pt', 'L1gmtTkMuon_0_charge', 'L1gmtTkMuon_0_hwBeta', 'L1gmtTkMuon_0_hwEta', 'L1gmtTkMuon_0_hwPhi', 'L1gmtTkMuon_0_hwPt', 'L1gmtTkMuon_0_hwQual', 'L1gmtTkMuon_0_z0', 'L1gmtTkMuon_1_charge', 'L1gmtTkMuon_1_hwBeta', 'L1gmtTkMuon_1_hwEta', 'L1gmtTkMuon_1_hwPhi', 'L1gmtTkMuon_1_hwPt', 'L1gmtTkMuon_1_hwQual', 'L1gmtTkMuon_1_z0', 'L1gmtTkMuon_2_charge', 'L1gmtTkMuon_2_hwBeta', 'L1gmtTkMuon_2_hwEta', 'L1gmtTkMuon_2_hwPhi', 'L1gmtTkMuon_2_hwPt', 'L1gmtTkMuon_2_hwQual', 'L1gmtTkMuon_2_z0', 'L1caloJet_0_eta', 'L1caloJet_0_phi', 'L1caloJet_0_pt', 'L1caloJet_1_eta', 'L1caloJet_1_phi', 'L1caloJet_1_pt', 'L1caloJet_2_eta', 'L1caloJet_2_phi', 'L1caloJet_2_pt', 'L1caloJet_3_eta', 'L1caloJet_3_phi', 'L1caloJet_3_pt']\n"
     ]
    }
   ],
   "source": [
    "tausnames = [\"calotaus_\" + i for i in standardizeddict[\"L1caloTau\"].fields]\n",
    "\n",
    "names =tausnames + dr_names\n",
    "print(len(names))\n",
    "print(names)"
   ]
  },
  {
   "cell_type": "code",
   "execution_count": 8,
   "metadata": {},
   "outputs": [],
   "source": [
    "#prepare data:\n",
    "from numpy.lib.recfunctions import structured_to_unstructured\n",
    "\n",
    "# Flatten:\n",
    "flattened_taus = ak.flatten(standardizeddict[\"L1caloTau\"])\n",
    "numpy_taus = ak.to_numpy(flattened_taus)\n",
    "\n",
    "# Convert:\n",
    "unstructured_taus = structured_to_unstructured(numpy_taus)\n",
    "\n",
    "# Concatenate:`\n",
    "values = np.concatenate((unstructured_taus, dr_values), axis=1)"
   ]
  },
  {
   "cell_type": "code",
   "execution_count": 9,
   "metadata": {},
   "outputs": [],
   "source": [
    "from pickle import load\n",
    "from sklearn.preprocessing import StandardScaler\n",
    "inpath = \"logs/20240907-171419model_post_fit.keras\"\n",
    "scaler = load(open(\"smallnet_outputs_for_training_2024_09_07-03_06_22_PM/scaler.pkl\", 'rb'))\n",
    "x_scaled = scaler.transform(values)\n"
   ]
  },
  {
   "cell_type": "code",
   "execution_count": 10,
   "metadata": {},
   "outputs": [],
   "source": [
    "import os\n",
    "from datetime import datetime\n",
    "datenow = datetime.now().strftime(\"%Y_%m_%d-%I_%M_%S_%p\")\n",
    "outdir = \"minbias_outputs_for_rate_{}/\".format(datenow)\n",
    "if not os.path.exists(outdir):\n",
    "    os.makedirs(outdir)"
   ]
  },
  {
   "cell_type": "code",
   "execution_count": 11,
   "metadata": {},
   "outputs": [
    {
     "name": "stderr",
     "output_type": "stream",
     "text": [
      "2024-09-08 10:50:56.415357: I tensorflow/core/util/port.cc:110] oneDNN custom operations are on. You may see slightly different numerical results due to floating-point round-off errors from different computation orders. To turn them off, set the environment variable `TF_ENABLE_ONEDNN_OPTS=0`.\n",
      "2024-09-08 10:50:56.480617: I tensorflow/core/platform/cpu_feature_guard.cc:182] This TensorFlow binary is optimized to use available CPU instructions in performance-critical operations.\n",
      "To enable the following instructions: AVX2 AVX512F AVX512_VNNI FMA, in other operations, rebuild TensorFlow with the appropriate compiler flags.\n",
      "2024-09-08 10:51:03.909112: I tensorflow/compiler/xla/stream_executor/cuda/cuda_gpu_executor.cc:995] successful NUMA node read from SysFS had negative value (-1), but there must be at least one NUMA node, so returning NUMA node zero. See more at https://github.com/torvalds/linux/blob/v6.0/Documentation/ABI/testing/sysfs-bus-pci#L344-L355\n",
      "2024-09-08 10:51:03.926877: I tensorflow/compiler/xla/stream_executor/cuda/cuda_gpu_executor.cc:995] successful NUMA node read from SysFS had negative value (-1), but there must be at least one NUMA node, so returning NUMA node zero. See more at https://github.com/torvalds/linux/blob/v6.0/Documentation/ABI/testing/sysfs-bus-pci#L344-L355\n",
      "2024-09-08 10:51:03.927165: I tensorflow/compiler/xla/stream_executor/cuda/cuda_gpu_executor.cc:995] successful NUMA node read from SysFS had negative value (-1), but there must be at least one NUMA node, so returning NUMA node zero. See more at https://github.com/torvalds/linux/blob/v6.0/Documentation/ABI/testing/sysfs-bus-pci#L344-L355\n",
      "2024-09-08 10:51:03.931477: I tensorflow/compiler/xla/stream_executor/cuda/cuda_gpu_executor.cc:995] successful NUMA node read from SysFS had negative value (-1), but there must be at least one NUMA node, so returning NUMA node zero. See more at https://github.com/torvalds/linux/blob/v6.0/Documentation/ABI/testing/sysfs-bus-pci#L344-L355\n",
      "2024-09-08 10:51:03.931840: I tensorflow/compiler/xla/stream_executor/cuda/cuda_gpu_executor.cc:995] successful NUMA node read from SysFS had negative value (-1), but there must be at least one NUMA node, so returning NUMA node zero. See more at https://github.com/torvalds/linux/blob/v6.0/Documentation/ABI/testing/sysfs-bus-pci#L344-L355\n",
      "2024-09-08 10:51:03.932025: I tensorflow/compiler/xla/stream_executor/cuda/cuda_gpu_executor.cc:995] successful NUMA node read from SysFS had negative value (-1), but there must be at least one NUMA node, so returning NUMA node zero. See more at https://github.com/torvalds/linux/blob/v6.0/Documentation/ABI/testing/sysfs-bus-pci#L344-L355\n",
      "2024-09-08 10:51:04.026367: I tensorflow/compiler/xla/stream_executor/cuda/cuda_gpu_executor.cc:995] successful NUMA node read from SysFS had negative value (-1), but there must be at least one NUMA node, so returning NUMA node zero. See more at https://github.com/torvalds/linux/blob/v6.0/Documentation/ABI/testing/sysfs-bus-pci#L344-L355\n",
      "2024-09-08 10:51:04.026679: I tensorflow/compiler/xla/stream_executor/cuda/cuda_gpu_executor.cc:995] successful NUMA node read from SysFS had negative value (-1), but there must be at least one NUMA node, so returning NUMA node zero. See more at https://github.com/torvalds/linux/blob/v6.0/Documentation/ABI/testing/sysfs-bus-pci#L344-L355\n",
      "2024-09-08 10:51:04.026858: I tensorflow/compiler/xla/stream_executor/cuda/cuda_gpu_executor.cc:995] successful NUMA node read from SysFS had negative value (-1), but there must be at least one NUMA node, so returning NUMA node zero. See more at https://github.com/torvalds/linux/blob/v6.0/Documentation/ABI/testing/sysfs-bus-pci#L344-L355\n",
      "2024-09-08 10:51:04.027004: I tensorflow/core/common_runtime/gpu/gpu_device.cc:1639] Created device /job:localhost/replica:0/task:0/device:GPU:0 with 13942 MB memory:  -> device: 0, name: Tesla T4, pci bus id: 0000:00:07.0, compute capability: 7.5\n"
     ]
    },
    {
     "name": "stdout",
     "output_type": "stream",
     "text": [
      "10623/10623 [==============================] - 17s 2ms/step\n"
     ]
    }
   ],
   "source": [
    "\n",
    "from keras.models import load_model\n",
    "loaded_model = load_model(\"logs/20240907-171419model_post_fit.keras\")\n",
    "predictions = loaded_model.predict((x_scaled))"
   ]
  },
  {
   "cell_type": "code",
   "execution_count": 12,
   "metadata": {},
   "outputs": [
    {
     "data": {
      "text/plain": [
       "<pyarrow._parquet.FileMetaData object at 0x7fe99bf36b30>\n",
       "  created_by: parquet-cpp-arrow version 16.0.0\n",
       "  num_columns: 4\n",
       "  num_rows: 99701\n",
       "  num_row_groups: 1\n",
       "  format_version: 2.6\n",
       "  serialized_size: 0"
      ]
     },
     "execution_count": 12,
     "metadata": {},
     "output_type": "execute_result"
    }
   ],
   "source": [
    "mappedtauscores = ak.unflatten(predictions,ak.num(standardizeddict[\"L1caloTau\"]))\n",
    "flattened_mappedtauscores = ak.flatten(mappedtauscores, axis=-1)\n",
    "\n",
    "# Add a new field 'gtscore' to 'standardizeddict[\"L1caloTau\"]' with the'flattened_mappedtauscores' values\n",
    "output_data = ak.with_field(standardizeddict[\"L1caloTau\"], flattened_mappedtauscores, \"gtscore\")\n",
    "\n",
    "# Save the output data to a Parquet file\n",
    "output_file_path = filepath[:-1]+\"_L1nnGTTau.parquet\"\n",
    "ak.to_parquet(output_data, output_file_path)\n",
    "\n"
   ]
  },
  {
   "cell_type": "code",
   "execution_count": 14,
   "metadata": {},
   "outputs": [
    {
     "ename": "NameError",
     "evalue": "name 'y' is not defined",
     "output_type": "error",
     "traceback": [
      "\u001b[0;31m---------------------------------------------------------------------------\u001b[0m",
      "\u001b[0;31mNameError\u001b[0m                                 Traceback (most recent call last)",
      "\u001b[0;32m/tmp/ipykernel_346/728166775.py\u001b[0m in \u001b[0;36m<module>\u001b[0;34m\u001b[0m\n\u001b[1;32m      1\u001b[0m \u001b[0mxyz\u001b[0m \u001b[0;34m=\u001b[0m \u001b[0mak\u001b[0m\u001b[0;34m.\u001b[0m\u001b[0mflatten\u001b[0m\u001b[0;34m(\u001b[0m\u001b[0mmappedtauscores\u001b[0m\u001b[0;34m,\u001b[0m\u001b[0maxis\u001b[0m\u001b[0;34m=\u001b[0m\u001b[0;34m-\u001b[0m\u001b[0;36m1\u001b[0m\u001b[0;34m)\u001b[0m\u001b[0;34m\u001b[0m\u001b[0;34m\u001b[0m\u001b[0m\n\u001b[1;32m      2\u001b[0m \u001b[0moutp\u001b[0m \u001b[0;34m=\u001b[0m \u001b[0mak\u001b[0m\u001b[0;34m.\u001b[0m\u001b[0mwith_field\u001b[0m\u001b[0;34m(\u001b[0m\u001b[0mstandardizeddict\u001b[0m\u001b[0;34m[\u001b[0m\u001b[0;34m\"L1caloTau\"\u001b[0m\u001b[0;34m]\u001b[0m\u001b[0;34m,\u001b[0m\u001b[0mxyz\u001b[0m\u001b[0;34m,\u001b[0m\u001b[0;34m\"gtscore\"\u001b[0m\u001b[0;34m)\u001b[0m\u001b[0;34m\u001b[0m\u001b[0;34m\u001b[0m\u001b[0m\n\u001b[0;32m----> 3\u001b[0;31m \u001b[0myx\u001b[0m \u001b[0;34m=\u001b[0m \u001b[0mak\u001b[0m\u001b[0;34m.\u001b[0m\u001b[0munflatten\u001b[0m\u001b[0;34m(\u001b[0m\u001b[0my\u001b[0m\u001b[0;34m,\u001b[0m\u001b[0mak\u001b[0m\u001b[0;34m.\u001b[0m\u001b[0mnum\u001b[0m\u001b[0;34m(\u001b[0m\u001b[0mstandardizeddict\u001b[0m\u001b[0;34m[\u001b[0m\u001b[0;34m\"L1caloTau\"\u001b[0m\u001b[0;34m]\u001b[0m\u001b[0;34m)\u001b[0m\u001b[0;34m)\u001b[0m\u001b[0;34m\u001b[0m\u001b[0;34m\u001b[0m\u001b[0m\n\u001b[0m\u001b[1;32m      4\u001b[0m \u001b[0mprint\u001b[0m\u001b[0;34m(\u001b[0m\u001b[0moutdir\u001b[0m\u001b[0;34m)\u001b[0m\u001b[0;34m\u001b[0m\u001b[0;34m\u001b[0m\u001b[0m\n\u001b[1;32m      5\u001b[0m \u001b[0myxx\u001b[0m \u001b[0;34m=\u001b[0m \u001b[0mak\u001b[0m\u001b[0;34m.\u001b[0m\u001b[0mmax\u001b[0m\u001b[0;34m(\u001b[0m\u001b[0myx\u001b[0m\u001b[0;34m,\u001b[0m\u001b[0maxis\u001b[0m\u001b[0;34m=\u001b[0m \u001b[0;34m-\u001b[0m\u001b[0;36m1\u001b[0m\u001b[0;34m)\u001b[0m\u001b[0;34m\u001b[0m\u001b[0;34m\u001b[0m\u001b[0m\n",
      "\u001b[0;31mNameError\u001b[0m: name 'y' is not defined"
     ]
    }
   ],
   "source": [
    "\n",
    "xyz = ak.flatten(mappedtauscores,axis=-1)\n",
    "outp = ak.with_field(standardizeddict[\"L1caloTau\"],xyz,\"gtscore\")\n",
    "yx = ak.unflatten(y,ak.num(standardizeddict[\"L1caloTau\"]))\n",
    "print(outdir)\n",
    "yxx = ak.max(yx,axis= -1)\n",
    "xxx = ak.max(xx,axis=-1)\n",
    "\n",
    "xxx2 = ak.min(xx,axis=-1)\n"
   ]
  },
  {
   "cell_type": "code",
   "execution_count": null,
   "metadata": {},
   "outputs": [],
   "source": [
    "print(yxx)\n",
    "\n",
    "print(xxx)"
   ]
  },
  {
   "cell_type": "code",
   "execution_count": 15,
   "metadata": {},
   "outputs": [],
   "source": [
    "mask = (ak.mask(outp.gtscore,outp.gtscore > 0.15))\n",
    "count = ak.num(mask,axis=-1)\n",
    "mask = ak.drop_none(mask)\n",
    "count = ak.num(mask,axis=-1)\n",
    "# masked_gtscore = [outp.gtscore > 0.15]\n",
    "# masked_gtscore_flat = ak.flatten(masked_gtscore,axis=-1)\n",
    "# gtcounts = ak.num(masked_gtscore)\n"
   ]
  },
  {
   "cell_type": "code",
   "execution_count": null,
   "metadata": {},
   "outputs": [],
   "source": [
    "\n"
   ]
  },
  {
   "cell_type": "code",
   "execution_count": null,
   "metadata": {},
   "outputs": [],
   "source": []
  },
  {
   "cell_type": "code",
   "execution_count": 17,
   "metadata": {},
   "outputs": [
    {
     "data": {
      "text/plain": [
       "Text(0, 0.5, 'Frequency')"
      ]
     },
     "execution_count": 17,
     "metadata": {},
     "output_type": "execute_result"
    },
    {
     "data": {
      "image/png": "[encoded data removed]",
      "text/plain": [
       "<Figure size 432x288 with 1 Axes>"
      ]
     },
     "metadata": {
      "needs_background": "light"
     },
     "output_type": "display_data"
    }
   ],
   "source": [
    "calotaus_mask = ak.num(standardizeddict[\"L1caloTau\"],axis=-1)\n",
    "import matplotlib.pyplot as plt\n",
    "ak.max(calotaus_mask)\n",
    "plt.hist(calotaus_mask, bins=12)  # Adjust the number of bins as needed\n",
    "plt.hist(count,bins=ak.max(count))\n",
    "\n",
    "plt.xlabel('Nr of taus in event')\n",
    "plt.ylabel('Frequency')"
   ]
  },
  {
   "cell_type": "code",
   "execution_count": 18,
   "metadata": {},
   "outputs": [
    {
     "name": "stdout",
     "output_type": "stream",
     "text": [
      "1747709\n",
      "1747709\n"
     ]
    }
   ],
   "source": [
    "print(len(calotaus_mask))\n",
    "print(len(count))"
   ]
  },
  {
   "cell_type": "code",
   "execution_count": 19,
   "metadata": {},
   "outputs": [
    {
     "data": {
      "text/plain": [
       "6"
      ]
     },
     "execution_count": 19,
     "metadata": {},
     "output_type": "execute_result"
    }
   ],
   "source": [
    "ak.max(count)"
   ]
  },
  {
   "cell_type": "code",
   "execution_count": 20,
   "metadata": {},
   "outputs": [
    {
     "ename": "NameError",
     "evalue": "name 'coutn' is not defined",
     "output_type": "error",
     "traceback": [
      "\u001b[0;31m---------------------------------------------------------------------------\u001b[0m",
      "\u001b[0;31mNameError\u001b[0m                                 Traceback (most recent call last)",
      "\u001b[0;32m/tmp/ipykernel_346/1864322667.py\u001b[0m in \u001b[0;36m<module>\u001b[0;34m\u001b[0m\n\u001b[0;32m----> 1\u001b[0;31m \u001b[0mak\u001b[0m\u001b[0;34m.\u001b[0m\u001b[0mmax\u001b[0m\u001b[0;34m(\u001b[0m\u001b[0mcoutn\u001b[0m\u001b[0;34m)\u001b[0m\u001b[0;34m\u001b[0m\u001b[0;34m\u001b[0m\u001b[0m\n\u001b[0m",
      "\u001b[0;31mNameError\u001b[0m: name 'coutn' is not defined"
     ]
    }
   ],
   "source": [
    "ak.max(count)"
   ]
  },
  {
   "cell_type": "code",
   "execution_count": 21,
   "metadata": {},
   "outputs": [
    {
     "data": {
      "text/plain": [
       "Text(0, 0.5, 'Occurrences')"
      ]
     },
     "execution_count": 21,
     "metadata": {},
     "output_type": "execute_result"
    },
    {
     "data": {
      "image/png": "[encoded data removed]",
      "text/plain": [
       "<Figure size 432x288 with 1 Axes>"
      ]
     },
     "metadata": {
      "needs_background": "light"
     },
     "output_type": "display_data"
    }
   ],
   "source": [
    "plt.hist(calotaus_mask, bins=12, alpha=0.5, label='Calotaus', color='blue', edgecolor='black')\n",
    "plt.hist(count, bins=ak.max(count), alpha=0.5, label='GTscore > 0.15', color='green', edgecolor='black')\n",
    "\n",
    "# Adding labels and title\n",
    "plt.legend()\n",
    "plt.loglog()\n",
    "plt.xlabel('multiplicity')\n",
    "plt.ylabel('Occurrences')\n",
    "# plt.title('')"
   ]
  },
  {
   "cell_type": "code",
   "execution_count": 22,
   "metadata": {},
   "outputs": [
    {
     "ename": "ValueError",
     "evalue": "The number of FixedLocator locations (7), usually from a call to set_ticks, does not match the number of labels (13).",
     "output_type": "error",
     "traceback": [
      "\u001b[0;31m---------------------------------------------------------------------------\u001b[0m",
      "\u001b[0;31mValueError\u001b[0m                                Traceback (most recent call last)",
      "\u001b[0;32m/tmp/ipykernel_346/3126082794.py\u001b[0m in \u001b[0;36m<module>\u001b[0;34m\u001b[0m\n\u001b[1;32m     26\u001b[0m \u001b[0;34m\u001b[0m\u001b[0m\n\u001b[1;32m     27\u001b[0m \u001b[0;31m# Adjusting the x-ticks to show the correct labels\u001b[0m\u001b[0;34m\u001b[0m\u001b[0;34m\u001b[0m\u001b[0m\n\u001b[0;32m---> 28\u001b[0;31m \u001b[0mplt\u001b[0m\u001b[0;34m.\u001b[0m\u001b[0mxticks\u001b[0m\u001b[0;34m(\u001b[0m\u001b[0mindex\u001b[0m \u001b[0;34m+\u001b[0m \u001b[0mbar_width\u001b[0m \u001b[0;34m/\u001b[0m \u001b[0;36m2\u001b[0m\u001b[0;34m,\u001b[0m \u001b[0mx1\u001b[0m\u001b[0;34m)\u001b[0m\u001b[0;34m\u001b[0m\u001b[0;34m\u001b[0m\u001b[0m\n\u001b[0m\u001b[1;32m     29\u001b[0m \u001b[0;34m\u001b[0m\u001b[0m\n\u001b[1;32m     30\u001b[0m \u001b[0;31m# Adding a legend\u001b[0m\u001b[0;34m\u001b[0m\u001b[0;34m\u001b[0m\u001b[0m\n",
      "\u001b[0;32m/cvmfs/sft.cern.ch/lcg/views/LCG_105a_cuda/x86_64-el9-gcc11-opt/lib/python3.9/site-packages/matplotlib/pyplot.py\u001b[0m in \u001b[0;36mxticks\u001b[0;34m(ticks, labels, minor, **kwargs)\u001b[0m\n\u001b[1;32m   2051\u001b[0m             \u001b[0ml\u001b[0m\u001b[0;34m.\u001b[0m\u001b[0m_internal_update\u001b[0m\u001b[0;34m(\u001b[0m\u001b[0mkwargs\u001b[0m\u001b[0;34m)\u001b[0m\u001b[0;34m\u001b[0m\u001b[0;34m\u001b[0m\u001b[0m\n\u001b[1;32m   2052\u001b[0m     \u001b[0;32melse\u001b[0m\u001b[0;34m:\u001b[0m\u001b[0;34m\u001b[0m\u001b[0;34m\u001b[0m\u001b[0m\n\u001b[0;32m-> 2053\u001b[0;31m         \u001b[0mlabels_out\u001b[0m \u001b[0;34m=\u001b[0m \u001b[0max\u001b[0m\u001b[0;34m.\u001b[0m\u001b[0mset_xticklabels\u001b[0m\u001b[0;34m(\u001b[0m\u001b[0mlabels\u001b[0m\u001b[0;34m,\u001b[0m \u001b[0mminor\u001b[0m\u001b[0;34m=\u001b[0m\u001b[0mminor\u001b[0m\u001b[0;34m,\u001b[0m \u001b[0;34m**\u001b[0m\u001b[0mkwargs\u001b[0m\u001b[0;34m)\u001b[0m\u001b[0;34m\u001b[0m\u001b[0;34m\u001b[0m\u001b[0m\n\u001b[0m\u001b[1;32m   2054\u001b[0m \u001b[0;34m\u001b[0m\u001b[0m\n\u001b[1;32m   2055\u001b[0m     \u001b[0;32mreturn\u001b[0m \u001b[0mlocs\u001b[0m\u001b[0;34m,\u001b[0m \u001b[0mlabels_out\u001b[0m\u001b[0;34m\u001b[0m\u001b[0;34m\u001b[0m\u001b[0m\n",
      "\u001b[0;32m/cvmfs/sft.cern.ch/lcg/views/LCG_105a_cuda/x86_64-el9-gcc11-opt/lib/python3.9/site-packages/matplotlib/axes/_base.py\u001b[0m in \u001b[0;36mwrapper\u001b[0;34m(self, *args, **kwargs)\u001b[0m\n\u001b[1;32m     71\u001b[0m \u001b[0;34m\u001b[0m\u001b[0m\n\u001b[1;32m     72\u001b[0m         \u001b[0;32mdef\u001b[0m \u001b[0mwrapper\u001b[0m\u001b[0;34m(\u001b[0m\u001b[0mself\u001b[0m\u001b[0;34m,\u001b[0m \u001b[0;34m*\u001b[0m\u001b[0margs\u001b[0m\u001b[0;34m,\u001b[0m \u001b[0;34m**\u001b[0m\u001b[0mkwargs\u001b[0m\u001b[0;34m)\u001b[0m\u001b[0;34m:\u001b[0m\u001b[0;34m\u001b[0m\u001b[0;34m\u001b[0m\u001b[0m\n\u001b[0;32m---> 73\u001b[0;31m             \u001b[0;32mreturn\u001b[0m \u001b[0mget_method\u001b[0m\u001b[0;34m(\u001b[0m\u001b[0mself\u001b[0m\u001b[0;34m)\u001b[0m\u001b[0;34m(\u001b[0m\u001b[0;34m*\u001b[0m\u001b[0margs\u001b[0m\u001b[0;34m,\u001b[0m \u001b[0;34m**\u001b[0m\u001b[0mkwargs\u001b[0m\u001b[0;34m)\u001b[0m\u001b[0;34m\u001b[0m\u001b[0;34m\u001b[0m\u001b[0m\n\u001b[0m\u001b[1;32m     74\u001b[0m \u001b[0;34m\u001b[0m\u001b[0m\n\u001b[1;32m     75\u001b[0m         \u001b[0mwrapper\u001b[0m\u001b[0;34m.\u001b[0m\u001b[0m__module__\u001b[0m \u001b[0;34m=\u001b[0m \u001b[0mowner\u001b[0m\u001b[0;34m.\u001b[0m\u001b[0m__module__\u001b[0m\u001b[0;34m\u001b[0m\u001b[0;34m\u001b[0m\u001b[0m\n",
      "\u001b[0;32m/cvmfs/sft.cern.ch/lcg/views/LCG_105a_cuda/x86_64-el9-gcc11-opt/lib/python3.9/site-packages/matplotlib/_api/deprecation.py\u001b[0m in \u001b[0;36mwrapper\u001b[0;34m(*args, **kwargs)\u001b[0m\n\u001b[1;32m    295\u001b[0m                 f\"for the old name will be dropped %(removal)s.\")\n\u001b[1;32m    296\u001b[0m             \u001b[0mkwargs\u001b[0m\u001b[0;34m[\u001b[0m\u001b[0mnew\u001b[0m\u001b[0;34m]\u001b[0m \u001b[0;34m=\u001b[0m \u001b[0mkwargs\u001b[0m\u001b[0;34m.\u001b[0m\u001b[0mpop\u001b[0m\u001b[0;34m(\u001b[0m\u001b[0mold\u001b[0m\u001b[0;34m)\u001b[0m\u001b[0;34m\u001b[0m\u001b[0;34m\u001b[0m\u001b[0m\n\u001b[0;32m--> 297\u001b[0;31m         \u001b[0;32mreturn\u001b[0m \u001b[0mfunc\u001b[0m\u001b[0;34m(\u001b[0m\u001b[0;34m*\u001b[0m\u001b[0margs\u001b[0m\u001b[0;34m,\u001b[0m \u001b[0;34m**\u001b[0m\u001b[0mkwargs\u001b[0m\u001b[0;34m)\u001b[0m\u001b[0;34m\u001b[0m\u001b[0;34m\u001b[0m\u001b[0m\n\u001b[0m\u001b[1;32m    298\u001b[0m \u001b[0;34m\u001b[0m\u001b[0m\n\u001b[1;32m    299\u001b[0m     \u001b[0;31m# wrapper() must keep the same documented signature as func(): if we\u001b[0m\u001b[0;34m\u001b[0m\u001b[0;34m\u001b[0m\u001b[0m\n",
      "\u001b[0;32m/cvmfs/sft.cern.ch/lcg/views/LCG_105a_cuda/x86_64-el9-gcc11-opt/lib/python3.9/site-packages/matplotlib/axis.py\u001b[0m in \u001b[0;36mset_ticklabels\u001b[0;34m(self, labels, minor, fontdict, **kwargs)\u001b[0m\n\u001b[1;32m   2023\u001b[0m             \u001b[0;31m# remove all tick labels, so only error for > 0 labels\u001b[0m\u001b[0;34m\u001b[0m\u001b[0;34m\u001b[0m\u001b[0m\n\u001b[1;32m   2024\u001b[0m             \u001b[0;32mif\u001b[0m \u001b[0mlen\u001b[0m\u001b[0;34m(\u001b[0m\u001b[0mlocator\u001b[0m\u001b[0;34m.\u001b[0m\u001b[0mlocs\u001b[0m\u001b[0;34m)\u001b[0m \u001b[0;34m!=\u001b[0m \u001b[0mlen\u001b[0m\u001b[0;34m(\u001b[0m\u001b[0mlabels\u001b[0m\u001b[0;34m)\u001b[0m \u001b[0;32mand\u001b[0m \u001b[0mlen\u001b[0m\u001b[0;34m(\u001b[0m\u001b[0mlabels\u001b[0m\u001b[0;34m)\u001b[0m \u001b[0;34m!=\u001b[0m \u001b[0;36m0\u001b[0m\u001b[0;34m:\u001b[0m\u001b[0;34m\u001b[0m\u001b[0;34m\u001b[0m\u001b[0m\n\u001b[0;32m-> 2025\u001b[0;31m                 raise ValueError(\n\u001b[0m\u001b[1;32m   2026\u001b[0m                     \u001b[0;34m\"The number of FixedLocator locations\"\u001b[0m\u001b[0;34m\u001b[0m\u001b[0;34m\u001b[0m\u001b[0m\n\u001b[1;32m   2027\u001b[0m                     \u001b[0;34mf\" ({len(locator.locs)}), usually from a call to\"\u001b[0m\u001b[0;34m\u001b[0m\u001b[0;34m\u001b[0m\u001b[0m\n",
      "\u001b[0;31mValueError\u001b[0m: The number of FixedLocator locations (7), usually from a call to set_ticks, does not match the number of labels (13)."
     ]
    },
    {
     "data": {
      "image/png": "[encoded data removed]",
      "text/plain": [
       "<Figure size 432x288 with 1 Axes>"
      ]
     },
     "metadata": {
      "needs_background": "light"
     },
     "output_type": "display_data"
    }
   ],
   "source": [
    "from collections import Counter\n",
    "occurrences1 = Counter(calotaus_mask)\n",
    "occurrences2 = Counter(count)\n",
    "\n",
    "# Extract the keys (unique numbers) and values (counts) for both datasets\n",
    "x1 = list(occurrences1.keys())\n",
    "y1 = list(occurrences1.values())\n",
    "\n",
    "x2 = list(occurrences2.keys())\n",
    "y2 = list(occurrences2.values())\n",
    "\n",
    "# Plotting the first dataset\n",
    "bar_width = 0.4  # Width of the bars\n",
    "index = np.arange(len(x1))\n",
    "\n",
    "plt.bar(index, y1, bar_width, label='Calotaus', color='blue')\n",
    "index = np.arange(len(x2))\n",
    "\n",
    "# Plotting the second dataset, with an offset for clarity\n",
    "plt.bar(index, y2, bar_width, label='GTscore > 0.15', color='green')\n",
    "\n",
    "# Adding labels and title\n",
    "plt.xlabel('Numbers')\n",
    "plt.ylabel('Occurrences')\n",
    "plt.title('Number of Occurrences in Two Datasets')\n",
    "\n",
    "# Adjusting the x-ticks to show the correct labels\n",
    "plt.xticks(index + bar_width / 2, x1)\n",
    "\n",
    "# Adding a legend\n",
    "plt.legend()\n",
    "\n",
    "# Display the plot\n",
    "plt.show()"
   ]
  },
  {
   "cell_type": "code",
   "execution_count": 23,
   "metadata": {},
   "outputs": [
    {
     "ename": "NameError",
     "evalue": "name 'home' is not defined",
     "output_type": "error",
     "traceback": [
      "\u001b[0;31m---------------------------------------------------------------------------\u001b[0m",
      "\u001b[0;31mNameError\u001b[0m                                 Traceback (most recent call last)",
      "\u001b[0;32m/tmp/ipykernel_346/342175887.py\u001b[0m in \u001b[0;36m<module>\u001b[0;34m\u001b[0m\n\u001b[1;32m      5\u001b[0m \u001b[0mplt\u001b[0m\u001b[0;34m.\u001b[0m\u001b[0mxlabel\u001b[0m\u001b[0;34m(\u001b[0m\u001b[0;34m'Prediction Values'\u001b[0m\u001b[0;34m)\u001b[0m\u001b[0;34m\u001b[0m\u001b[0;34m\u001b[0m\u001b[0m\n\u001b[1;32m      6\u001b[0m \u001b[0mplt\u001b[0m\u001b[0;34m.\u001b[0m\u001b[0mylabel\u001b[0m\u001b[0;34m(\u001b[0m\u001b[0;34m'Frequency'\u001b[0m\u001b[0;34m)\u001b[0m\u001b[0;34m\u001b[0m\u001b[0;34m\u001b[0m\u001b[0m\n\u001b[0;32m----> 7\u001b[0;31m \u001b[0mhome\u001b[0m\u001b[0;34m/\u001b[0m\u001b[0melias\u001b[0m\u001b[0;34m/\u001b[0m\u001b[0mtaubus\u001b[0m\u001b[0;34m/\u001b[0m\u001b[0mV37nano\u001b[0m\u001b[0;34m/\u001b[0m\u001b[0mV37nano_VBFHToTauTau_GenJetAK8\u001b[0m\u001b[0;34m.\u001b[0m\u001b[0mparquet\u001b[0m\u001b[0;34m(\u001b[0m\u001b[0;34m)\u001b[0m\u001b[0;34m\u001b[0m\u001b[0;34m\u001b[0m\u001b[0m\n\u001b[0m",
      "\u001b[0;31mNameError\u001b[0m: name 'home' is not defined"
     ]
    },
    {
     "data": {
      "image/png": "[encoded data removed]",
      "text/plain": [
       "<Figure size 432x288 with 1 Axes>"
      ]
     },
     "metadata": {
      "needs_background": "light"
     },
     "output_type": "display_data"
    }
   ],
   "source": [
    "import matplotlib.pyplot as plt\n",
    "plt.hist(predictions, bins=100, edgecolor='black')  # Adjust the number of bins as needed\n",
    "plt.title('Histogram of Predictions')\n",
    "plt.loglog()\n",
    "plt.xlabel('Prediction Values')\n",
    "plt.ylabel('Frequency')\n"
   ]
  },
  {
   "cell_type": "code",
   "execution_count": 24,
   "metadata": {},
   "outputs": [
    {
     "ename": "NameError",
     "evalue": "name 'xxx' is not defined",
     "output_type": "error",
     "traceback": [
      "\u001b[0;31m---------------------------------------------------------------------------\u001b[0m",
      "\u001b[0;31mNameError\u001b[0m                                 Traceback (most recent call last)",
      "\u001b[0;32m/tmp/ipykernel_346/3728145079.py\u001b[0m in \u001b[0;36m<module>\u001b[0;34m\u001b[0m\n\u001b[0;32m----> 1\u001b[0;31m \u001b[0mxxxpad\u001b[0m \u001b[0;34m=\u001b[0m \u001b[0mak\u001b[0m\u001b[0;34m.\u001b[0m\u001b[0mpad_none\u001b[0m\u001b[0;34m(\u001b[0m\u001b[0mxxx\u001b[0m\u001b[0;34m,\u001b[0m\u001b[0;36m1\u001b[0m\u001b[0;34m,\u001b[0m\u001b[0maxis\u001b[0m\u001b[0;34m=\u001b[0m\u001b[0;34m-\u001b[0m\u001b[0;36m1\u001b[0m\u001b[0;34m)\u001b[0m\u001b[0;34m\u001b[0m\u001b[0;34m\u001b[0m\u001b[0m\n\u001b[0m\u001b[1;32m      2\u001b[0m \u001b[0mxxxfill\u001b[0m \u001b[0;34m=\u001b[0m \u001b[0mak\u001b[0m\u001b[0;34m.\u001b[0m\u001b[0mfill_none\u001b[0m\u001b[0;34m(\u001b[0m\u001b[0mxxxpad\u001b[0m\u001b[0;34m,\u001b[0m\u001b[0;36m0\u001b[0m\u001b[0;34m,\u001b[0m\u001b[0maxis\u001b[0m\u001b[0;34m=\u001b[0m\u001b[0;34m-\u001b[0m\u001b[0;36m1\u001b[0m\u001b[0;34m)\u001b[0m\u001b[0;34m\u001b[0m\u001b[0;34m\u001b[0m\u001b[0m\n\u001b[1;32m      3\u001b[0m \u001b[0myxxfill\u001b[0m \u001b[0;34m=\u001b[0m \u001b[0mak\u001b[0m\u001b[0;34m.\u001b[0m\u001b[0mfill_none\u001b[0m\u001b[0;34m(\u001b[0m\u001b[0myxx\u001b[0m\u001b[0;34m,\u001b[0m\u001b[0;36m1\u001b[0m\u001b[0;34m)\u001b[0m\u001b[0;34m\u001b[0m\u001b[0;34m\u001b[0m\u001b[0m\n\u001b[1;32m      4\u001b[0m \u001b[0mprint\u001b[0m\u001b[0;34m(\u001b[0m\u001b[0mxxxfill\u001b[0m\u001b[0;34m)\u001b[0m\u001b[0;34m\u001b[0m\u001b[0;34m\u001b[0m\u001b[0m\n\u001b[1;32m      5\u001b[0m \u001b[0mprint\u001b[0m\u001b[0;34m(\u001b[0m\u001b[0;36m0\u001b[0m\u001b[0;34m)\u001b[0m\u001b[0;34m\u001b[0m\u001b[0;34m\u001b[0m\u001b[0m\n",
      "\u001b[0;31mNameError\u001b[0m: name 'xxx' is not defined"
     ]
    }
   ],
   "source": [
    "xxxpad = ak.pad_none(xxx,1,axis=-1)\n",
    "xxxfill = ak.fill_none(xxxpad,0,axis=-1)\n",
    "yxxfill = ak.fill_none(yxx,1)\n",
    "print(xxxfill)\n",
    "print(0)\n",
    "\n",
    "\n",
    "xxxpad2 = ak.pad_none(xxx2,1,axis=-1)\n",
    "xxxfill2 = ak.fill_none(xxxpad2,0,axis=-1)\n",
    "# yxxfill2 = ak.fill_none(yxx2,1)\n",
    "print(xxxfill2)\n",
    "# y_flat = ak.flatten(yxxfill,axis = None)\n",
    "x_flat2 = ak.flatten(xxxfill2,axis = None)\n",
    "# y_test = np.zeros(len(x_flat))\n",
    "print(0)"
   ]
  },
  {
   "cell_type": "code",
   "execution_count": null,
   "metadata": {},
   "outputs": [],
   "source": [
    "len(standardizeddict[\"L1caloTau\"])\n",
    "len(xxxfill)\n",
    "def totalMinBiasRate(nCollBunch = 2500):\n",
    "    LHCfreq = 11245.6\n",
    "    return LHCfreq * nCollBunch / 1e3"
   ]
  },
  {
   "cell_type": "code",
   "execution_count": null,
   "metadata": {},
   "outputs": [],
   "source": [
    "print(xxxfill)"
   ]
  },
  {
   "cell_type": "code",
   "execution_count": null,
   "metadata": {},
   "outputs": [],
   "source": [
    "y_flat = ak.flatten(yxxfill,axis = None)\n",
    "x_flat = ak.flatten(xxxfill,axis = None)\n",
    "y_test = np.zeros(len(x_flat))"
   ]
  },
  {
   "cell_type": "code",
   "execution_count": null,
   "metadata": {},
   "outputs": [],
   "source": [
    "\n",
    "from sklearn.metrics import roc_curve\n",
    "import matplotlib.pyplot as plt\n",
    "fpr2, tpr2, thr2 = roc_curve( y_test, x_flat, drop_intermediate=False)\n",
    "fpr, tpr, thr = roc_curve( y_test, x_flat2, drop_intermediate=False)\n",
    "\n",
    "# plt.plot(fpr2 * totalMinBiasRate() ,thr2 * -1)\n",
    "\n",
    "plt.plot(fpr2 * totalMinBiasRate(), thr2 , label =\"max\")\n",
    "\n",
    "plt.xlabel(\"FPR*MBrate: Trigger rate [kHz]\")\n",
    "plt.ylabel(\"NN threshhold (1 -x)\")\n",
    "plt.xscale(\"log\")\n",
    "plt.grid()\n",
    "plt.xlim(0,1000)\n",
    "plt.show()\n",
    "plt.plot(fpr * totalMinBiasRate(), thr , label =\"min\")\n",
    "\n",
    "plt.xlabel(\"FPR*MBrate: Trigger rate [kHz]\")\n",
    "plt.ylabel(\"NN threshhold (1 -x)\")\n",
    "plt.xscale(\"log\")\n",
    "plt.grid()\n",
    "plt.xlim(0,1000)\n"
   ]
  },
  {
   "cell_type": "code",
   "execution_count": null,
   "metadata": {},
   "outputs": [],
   "source": [
    ", drop_intermediate=False)\n",
    "\n",
    "plt.plot(fpr1, tpr1)\n"
   ]
  }
 ],
 "metadata": {
  "kernelspec": {
   "display_name": "Python 3",
   "language": "python",
   "name": "python3"
  },
  "language_info": {
   "codemirror_mode": {
    "name": "ipython",
    "version": 3
   },
   "file_extension": ".py",
   "mimetype": "text/x-python",
   "name": "python",
   "nbconvert_exporter": "python",
   "pygments_lexer": "ipython3",
   "version": "3.9.12"
  }
 },
 "nbformat": 4,
 "nbformat_minor": 4
}
